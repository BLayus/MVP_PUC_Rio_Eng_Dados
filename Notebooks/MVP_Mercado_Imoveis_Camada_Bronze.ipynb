{
 "cells": [
  {
   "cell_type": "markdown",
   "metadata": {
    "application/vnd.databricks.v1+cell": {
     "cellMetadata": {},
     "inputWidgets": {},
     "nuid": "5e15ceca-d0aa-4c07-9afc-8a3603bee020",
     "showTitle": false,
     "tableResultSettingsMap": {},
     "title": ""
    }
   },
   "source": [
    "## Etapa 1\n",
    "### Carregar os dados e criar o banco de dados da camada Bronze (ou Raw) no datalake"
   ]
  },
  {
   "cell_type": "code",
   "execution_count": 0,
   "metadata": {
    "application/vnd.databricks.v1+cell": {
     "cellMetadata": {
      "byteLimit": 2048000,
      "rowLimit": 10000
     },
     "inputWidgets": {},
     "nuid": "75fcb346-dc2a-4dcd-8dd1-c9c1d218c7e6",
     "showTitle": true,
     "tableResultSettingsMap": {},
     "title": "Libraries"
    }
   },
   "outputs": [
    {
     "output_type": "display_data",
     "data": {
      "application/vnd.databricks.v1+bamboolib_hint": "{\"pd.DataFrames\": [], \"version\": \"0.0.1\"}",
      "text/plain": []
     },
     "metadata": {},
     "output_type": "display_data"
    }
   ],
   "source": [
    "# Import libraries\n",
    "\n",
    "import requests\n",
    "import pandas as pd\n",
    "import re\n",
    "\n",
    "from pyspark.sql.functions import regexp_extract, col, regexp_replace, lit"
   ]
  },
  {
   "cell_type": "code",
   "execution_count": 0,
   "metadata": {
    "application/vnd.databricks.v1+cell": {
     "cellMetadata": {
      "byteLimit": 2048000,
      "rowLimit": 10000
     },
     "inputWidgets": {},
     "nuid": "d000f032-3c82-4ceb-84ea-85b873c625cd",
     "showTitle": true,
     "tableResultSettingsMap": {},
     "title": "Import VR Rio"
    }
   },
   "outputs": [],
   "source": [
    "# Import files from google drive to databricks notebook\n",
    "original_url = 'https://drive.google.com/file/d/1PgOOOczYBaxyWZhHrsNPBF5L4_4vkXPt/view?usp=sharing'\n",
    "\n",
    "file_id = original_url.split(\"/d/\")[1].split(\"/\")[0]\n",
    "url = f\"https://drive.google.com/uc?id={file_id}&export=download\" \n",
    "\n",
    "# Download the file\n",
    "response = requests.get(url)\n",
    "with open(\"Viva_Real_RJ.json\", \"wb\") as f:\n",
    "    f.write(response.content)\n",
    "\n",
    "# Read file using pandas\n",
    "df_VR_RJ = pd.read_json('Viva_Real_RJ.json')\n",
    "\n",
    "# Convert pandas dataframe to spark dataframe to use later in dbfs system\n",
    "df_vivareal_rio = spark.createDataFrame(df_VR_RJ)\n"
   ]
  },
  {
   "cell_type": "code",
   "execution_count": 0,
   "metadata": {
    "application/vnd.databricks.v1+cell": {
     "cellMetadata": {
      "byteLimit": 2048000,
      "rowLimit": 10000
     },
     "inputWidgets": {},
     "nuid": "880ae7e3-daf9-4172-b410-1c1a8b0ad8c1",
     "showTitle": true,
     "tableResultSettingsMap": {},
     "title": "Sample VR Rio"
    }
   },
   "outputs": [
    {
     "output_type": "display_data",
     "data": {
      "text/html": [
       "<div>\n",
       "<style scoped>\n",
       "    .dataframe tbody tr th:only-of-type {\n",
       "        vertical-align: middle;\n",
       "    }\n",
       "\n",
       "    .dataframe tbody tr th {\n",
       "        vertical-align: top;\n",
       "    }\n",
       "\n",
       "    .dataframe thead th {\n",
       "        text-align: right;\n",
       "    }\n",
       "</style>\n",
       "<table border=\"1\" class=\"dataframe\">\n",
       "  <thead>\n",
       "    <tr style=\"text-align: right;\">\n",
       "      <th></th>\n",
       "      <th>link</th>\n",
       "      <th>titulo</th>\n",
       "      <th>endereco</th>\n",
       "      <th>bairro</th>\n",
       "      <th>cep</th>\n",
       "      <th>preco</th>\n",
       "      <th>condominio</th>\n",
       "      <th>iptu</th>\n",
       "      <th>metragem</th>\n",
       "      <th>dormitorios</th>\n",
       "      <th>banheiros</th>\n",
       "      <th>vagas</th>\n",
       "    </tr>\n",
       "  </thead>\n",
       "  <tbody>\n",
       "    <tr>\n",
       "      <th>997</th>\n",
       "      <td>/imovel/apartamento-1-quartos-leblon-zona-sul-...</td>\n",
       "      <td>JM ALUGA APARTAMENTO 1 QUARTO, 42M2 NO LEBLON,...</td>\n",
       "      <td>Avenida Ataulfo de Paiva,</td>\n",
       "      <td>Leblon</td>\n",
       "      <td>22440032</td>\n",
       "      <td>4000</td>\n",
       "      <td>1495.0</td>\n",
       "      <td>222.0</td>\n",
       "      <td>42</td>\n",
       "      <td>1</td>\n",
       "      <td>1</td>\n",
       "      <td>0</td>\n",
       "    </tr>\n",
       "    <tr>\n",
       "      <th>142</th>\n",
       "      <td>/imovel/apartamento-3-quartos-ipanema-zona-sul...</td>\n",
       "      <td>COND. CHATEAU DU BARON // LOCALIZAÇÃO PRIVILEG...</td>\n",
       "      <td>Rua Barão da Torre, 667</td>\n",
       "      <td>Ipanema</td>\n",
       "      <td>22411003</td>\n",
       "      <td>8000</td>\n",
       "      <td>3043.0</td>\n",
       "      <td>1025.0</td>\n",
       "      <td>120</td>\n",
       "      <td>3</td>\n",
       "      <td>3</td>\n",
       "      <td>2</td>\n",
       "    </tr>\n",
       "    <tr>\n",
       "      <th>1037</th>\n",
       "      <td>/imovel/apartamento-4-quartos-copacabana-zona-...</td>\n",
       "      <td>Copacabana | Apartamento 4 quartos, sendo 1 suite</td>\n",
       "      <td>Rua Domingos Ferreira,</td>\n",
       "      <td>Copacabana</td>\n",
       "      <td>22050012</td>\n",
       "      <td>15000</td>\n",
       "      <td>1176.0</td>\n",
       "      <td>4029.0</td>\n",
       "      <td>110</td>\n",
       "      <td>4</td>\n",
       "      <td>2</td>\n",
       "      <td>0</td>\n",
       "    </tr>\n",
       "    <tr>\n",
       "      <th>750</th>\n",
       "      <td>/imovel/apartamento-3-quartos-ipanema-zona-sul...</td>\n",
       "      <td>Imóvel para aluguel possui 147 metros quadrado...</td>\n",
       "      <td>Rua Francisco Otaviano,</td>\n",
       "      <td>Ipanema</td>\n",
       "      <td>22080045</td>\n",
       "      <td>8800</td>\n",
       "      <td>1979.0</td>\n",
       "      <td>NaN</td>\n",
       "      <td>147</td>\n",
       "      <td>3</td>\n",
       "      <td>3</td>\n",
       "      <td>1</td>\n",
       "    </tr>\n",
       "    <tr>\n",
       "      <th>588</th>\n",
       "      <td>/imovel/apartamento-3-quartos-leblon-zona-sul-...</td>\n",
       "      <td>LEBLON QUADRISSIMA PRAIA, METRÔ, VISTA 2 IRMÃO...</td>\n",
       "      <td>Avenida General San Martin,</td>\n",
       "      <td>Leblon</td>\n",
       "      <td>22441015</td>\n",
       "      <td>12000</td>\n",
       "      <td>3200.0</td>\n",
       "      <td>7900.0</td>\n",
       "      <td>118</td>\n",
       "      <td>3</td>\n",
       "      <td>4</td>\n",
       "      <td>2</td>\n",
       "    </tr>\n",
       "  </tbody>\n",
       "</table>\n",
       "</div>"
      ]
     },
     "metadata": {
      "application/vnd.databricks.v1+output": {
       "addedWidgets": {},
       "arguments": {},
       "data": "<div>\n<style scoped>\n    .dataframe tbody tr th:only-of-type {\n        vertical-align: middle;\n    }\n\n    .dataframe tbody tr th {\n        vertical-align: top;\n    }\n\n    .dataframe thead th {\n        text-align: right;\n    }\n</style>\n<table border=\"1\" class=\"dataframe\">\n  <thead>\n    <tr style=\"text-align: right;\">\n      <th></th>\n      <th>link</th>\n      <th>titulo</th>\n      <th>endereco</th>\n      <th>bairro</th>\n      <th>cep</th>\n      <th>preco</th>\n      <th>condominio</th>\n      <th>iptu</th>\n      <th>metragem</th>\n      <th>dormitorios</th>\n      <th>banheiros</th>\n      <th>vagas</th>\n    </tr>\n  </thead>\n  <tbody>\n    <tr>\n      <th>997</th>\n      <td>/imovel/apartamento-1-quartos-leblon-zona-sul-...</td>\n      <td>JM ALUGA APARTAMENTO 1 QUARTO, 42M2 NO LEBLON,...</td>\n      <td>Avenida Ataulfo de Paiva,</td>\n      <td>Leblon</td>\n      <td>22440032</td>\n      <td>4000</td>\n      <td>1495.0</td>\n      <td>222.0</td>\n      <td>42</td>\n      <td>1</td>\n      <td>1</td>\n      <td>0</td>\n    </tr>\n    <tr>\n      <th>142</th>\n      <td>/imovel/apartamento-3-quartos-ipanema-zona-sul...</td>\n      <td>COND. CHATEAU DU BARON // LOCALIZAÇÃO PRIVILEG...</td>\n      <td>Rua Barão da Torre, 667</td>\n      <td>Ipanema</td>\n      <td>22411003</td>\n      <td>8000</td>\n      <td>3043.0</td>\n      <td>1025.0</td>\n      <td>120</td>\n      <td>3</td>\n      <td>3</td>\n      <td>2</td>\n    </tr>\n    <tr>\n      <th>1037</th>\n      <td>/imovel/apartamento-4-quartos-copacabana-zona-...</td>\n      <td>Copacabana | Apartamento 4 quartos, sendo 1 suite</td>\n      <td>Rua Domingos Ferreira,</td>\n      <td>Copacabana</td>\n      <td>22050012</td>\n      <td>15000</td>\n      <td>1176.0</td>\n      <td>4029.0</td>\n      <td>110</td>\n      <td>4</td>\n      <td>2</td>\n      <td>0</td>\n    </tr>\n    <tr>\n      <th>750</th>\n      <td>/imovel/apartamento-3-quartos-ipanema-zona-sul...</td>\n      <td>Imóvel para aluguel possui 147 metros quadrado...</td>\n      <td>Rua Francisco Otaviano,</td>\n      <td>Ipanema</td>\n      <td>22080045</td>\n      <td>8800</td>\n      <td>1979.0</td>\n      <td>NaN</td>\n      <td>147</td>\n      <td>3</td>\n      <td>3</td>\n      <td>1</td>\n    </tr>\n    <tr>\n      <th>588</th>\n      <td>/imovel/apartamento-3-quartos-leblon-zona-sul-...</td>\n      <td>LEBLON QUADRISSIMA PRAIA, METRÔ, VISTA 2 IRMÃO...</td>\n      <td>Avenida General San Martin,</td>\n      <td>Leblon</td>\n      <td>22441015</td>\n      <td>12000</td>\n      <td>3200.0</td>\n      <td>7900.0</td>\n      <td>118</td>\n      <td>3</td>\n      <td>4</td>\n      <td>2</td>\n    </tr>\n  </tbody>\n</table>\n</div>",
       "datasetInfos": [],
       "metadata": {},
       "removedWidgets": [],
       "textData": null,
       "type": "htmlSandbox"
      }
     },
     "output_type": "display_data"
    }
   ],
   "source": [
    "# Show a sample from the dataset using pandas, better legibility\n",
    "\n",
    "df_VR_RJ.sample(5)"
   ]
  },
  {
   "cell_type": "code",
   "execution_count": 0,
   "metadata": {
    "application/vnd.databricks.v1+cell": {
     "cellMetadata": {
      "byteLimit": 2048000,
      "rowLimit": 10000
     },
     "inputWidgets": {},
     "nuid": "75c392d9-f5ae-4005-bf5f-553af784b046",
     "showTitle": true,
     "tableResultSettingsMap": {},
     "title": "Import VR SP"
    }
   },
   "outputs": [],
   "source": [
    "# Import files from google drive to databricks notebook\n",
    "original_url = 'https://drive.google.com/file/d/1fBw2NCVL4KpdinDc96ccQ5WO9MUKSy7z/view?usp=drive_link'\n",
    "\n",
    "file_id = original_url.split(\"/d/\")[1].split(\"/\")[0]\n",
    "url = f\"https://drive.google.com/uc?id={file_id}&export=download\" \n",
    "\n",
    "# Download the file\n",
    "response = requests.get(url)\n",
    "with open(\"Viva_Real_SP.json\", \"wb\") as f:\n",
    "    f.write(response.content)\n",
    "\n",
    "# Read file using pandas\n",
    "df_VR_SP = pd.read_json('Viva_Real_SP.json')\n",
    "\n",
    "# Convert pandas dataframe to spark dataframe to use later in dbfs system\n",
    "df_vivareal_sp = spark.createDataFrame(df_VR_SP)"
   ]
  },
  {
   "cell_type": "code",
   "execution_count": 0,
   "metadata": {
    "application/vnd.databricks.v1+cell": {
     "cellMetadata": {
      "byteLimit": 2048000,
      "rowLimit": 10000
     },
     "inputWidgets": {},
     "nuid": "a034c851-78d4-40f9-97dd-367c0b26fdad",
     "showTitle": true,
     "tableResultSettingsMap": {},
     "title": "Sample VR SP"
    }
   },
   "outputs": [
    {
     "output_type": "display_data",
     "data": {
      "text/html": [
       "<div>\n",
       "<style scoped>\n",
       "    .dataframe tbody tr th:only-of-type {\n",
       "        vertical-align: middle;\n",
       "    }\n",
       "\n",
       "    .dataframe tbody tr th {\n",
       "        vertical-align: top;\n",
       "    }\n",
       "\n",
       "    .dataframe thead th {\n",
       "        text-align: right;\n",
       "    }\n",
       "</style>\n",
       "<table border=\"1\" class=\"dataframe\">\n",
       "  <thead>\n",
       "    <tr style=\"text-align: right;\">\n",
       "      <th></th>\n",
       "      <th>link</th>\n",
       "      <th>preco</th>\n",
       "      <th>endereco</th>\n",
       "      <th>title</th>\n",
       "      <th>area</th>\n",
       "      <th>iptu</th>\n",
       "      <th>condominio</th>\n",
       "      <th>dormitorios</th>\n",
       "      <th>banheiros</th>\n",
       "      <th>garagem</th>\n",
       "    </tr>\n",
       "  </thead>\n",
       "  <tbody>\n",
       "    <tr>\n",
       "      <th>25</th>\n",
       "      <td>None</td>\n",
       "      <td>R$ 5.199</td>\n",
       "      <td>Rua Barão do Bananal</td>\n",
       "      <td>Vila Pompéia, São Paulo</td>\n",
       "      <td>75 m²</td>\n",
       "      <td>[Cond. R$ 1.390 ,  IPTU R$ 514]</td>\n",
       "      <td>[Cond. R$ 1.390 ,  IPTU R$ 514]</td>\n",
       "      <td>2</td>\n",
       "      <td>1</td>\n",
       "      <td>2</td>\n",
       "    </tr>\n",
       "    <tr>\n",
       "      <th>1273</th>\n",
       "      <td>https://www.vivareal.com.br/imovel/apartamento...</td>\n",
       "      <td>R$ 3.500</td>\n",
       "      <td>Rua Professor José Horácio Meirelles Teixeira</td>\n",
       "      <td>Vila Suzana, São Paulo</td>\n",
       "      <td>82 m²</td>\n",
       "      <td>[Cond. R$ 900 ,  IPTU R$ 281]</td>\n",
       "      <td>[Cond. R$ 900 ,  IPTU R$ 281]</td>\n",
       "      <td>3</td>\n",
       "      <td>2</td>\n",
       "      <td>2</td>\n",
       "    </tr>\n",
       "    <tr>\n",
       "      <th>553</th>\n",
       "      <td>https://www.vivareal.com.br/imovel/apartamento...</td>\n",
       "      <td>R$ 5.500</td>\n",
       "      <td>Rua dos Pinheiros</td>\n",
       "      <td>Pinheiros, São Paulo</td>\n",
       "      <td>122 m²</td>\n",
       "      <td>[Cond. R$ 2.212 ,  IPTU R$ 342]</td>\n",
       "      <td>[Cond. R$ 2.212 ,  IPTU R$ 342]</td>\n",
       "      <td>3</td>\n",
       "      <td>2</td>\n",
       "      <td>1</td>\n",
       "    </tr>\n",
       "    <tr>\n",
       "      <th>289</th>\n",
       "      <td>None</td>\n",
       "      <td>R$ 10.000</td>\n",
       "      <td>Rua Atibaia</td>\n",
       "      <td>Pacaembu, São Paulo</td>\n",
       "      <td>370 m²</td>\n",
       "      <td>[Cond. R$ 5.335 ,  IPTU R$ 3.360]</td>\n",
       "      <td>[Cond. R$ 5.335 ,  IPTU R$ 3.360]</td>\n",
       "      <td>4</td>\n",
       "      <td>5</td>\n",
       "      <td>4</td>\n",
       "    </tr>\n",
       "    <tr>\n",
       "      <th>1136</th>\n",
       "      <td>https://www.vivareal.com.br/imovel/apartamento...</td>\n",
       "      <td>R$ 4.800</td>\n",
       "      <td>Rua Eugênio de Medeiros</td>\n",
       "      <td>Pinheiros, São Paulo</td>\n",
       "      <td>52 m²</td>\n",
       "      <td>[Cond. R$ 1.200 ,  IPTU R$ 400]</td>\n",
       "      <td>[Cond. R$ 1.200 ,  IPTU R$ 400]</td>\n",
       "      <td>2</td>\n",
       "      <td>1</td>\n",
       "      <td>2</td>\n",
       "    </tr>\n",
       "  </tbody>\n",
       "</table>\n",
       "</div>"
      ]
     },
     "metadata": {
      "application/vnd.databricks.v1+output": {
       "addedWidgets": {},
       "arguments": {},
       "data": "<div>\n<style scoped>\n    .dataframe tbody tr th:only-of-type {\n        vertical-align: middle;\n    }\n\n    .dataframe tbody tr th {\n        vertical-align: top;\n    }\n\n    .dataframe thead th {\n        text-align: right;\n    }\n</style>\n<table border=\"1\" class=\"dataframe\">\n  <thead>\n    <tr style=\"text-align: right;\">\n      <th></th>\n      <th>link</th>\n      <th>preco</th>\n      <th>endereco</th>\n      <th>title</th>\n      <th>area</th>\n      <th>iptu</th>\n      <th>condominio</th>\n      <th>dormitorios</th>\n      <th>banheiros</th>\n      <th>garagem</th>\n    </tr>\n  </thead>\n  <tbody>\n    <tr>\n      <th>25</th>\n      <td>None</td>\n      <td>R$ 5.199</td>\n      <td>Rua Barão do Bananal</td>\n      <td>Vila Pompéia, São Paulo</td>\n      <td>75 m²</td>\n      <td>[Cond. R$ 1.390 ,  IPTU R$ 514]</td>\n      <td>[Cond. R$ 1.390 ,  IPTU R$ 514]</td>\n      <td>2</td>\n      <td>1</td>\n      <td>2</td>\n    </tr>\n    <tr>\n      <th>1273</th>\n      <td>https://www.vivareal.com.br/imovel/apartamento...</td>\n      <td>R$ 3.500</td>\n      <td>Rua Professor José Horácio Meirelles Teixeira</td>\n      <td>Vila Suzana, São Paulo</td>\n      <td>82 m²</td>\n      <td>[Cond. R$ 900 ,  IPTU R$ 281]</td>\n      <td>[Cond. R$ 900 ,  IPTU R$ 281]</td>\n      <td>3</td>\n      <td>2</td>\n      <td>2</td>\n    </tr>\n    <tr>\n      <th>553</th>\n      <td>https://www.vivareal.com.br/imovel/apartamento...</td>\n      <td>R$ 5.500</td>\n      <td>Rua dos Pinheiros</td>\n      <td>Pinheiros, São Paulo</td>\n      <td>122 m²</td>\n      <td>[Cond. R$ 2.212 ,  IPTU R$ 342]</td>\n      <td>[Cond. R$ 2.212 ,  IPTU R$ 342]</td>\n      <td>3</td>\n      <td>2</td>\n      <td>1</td>\n    </tr>\n    <tr>\n      <th>289</th>\n      <td>None</td>\n      <td>R$ 10.000</td>\n      <td>Rua Atibaia</td>\n      <td>Pacaembu, São Paulo</td>\n      <td>370 m²</td>\n      <td>[Cond. R$ 5.335 ,  IPTU R$ 3.360]</td>\n      <td>[Cond. R$ 5.335 ,  IPTU R$ 3.360]</td>\n      <td>4</td>\n      <td>5</td>\n      <td>4</td>\n    </tr>\n    <tr>\n      <th>1136</th>\n      <td>https://www.vivareal.com.br/imovel/apartamento...</td>\n      <td>R$ 4.800</td>\n      <td>Rua Eugênio de Medeiros</td>\n      <td>Pinheiros, São Paulo</td>\n      <td>52 m²</td>\n      <td>[Cond. R$ 1.200 ,  IPTU R$ 400]</td>\n      <td>[Cond. R$ 1.200 ,  IPTU R$ 400]</td>\n      <td>2</td>\n      <td>1</td>\n      <td>2</td>\n    </tr>\n  </tbody>\n</table>\n</div>",
       "datasetInfos": [],
       "metadata": {},
       "removedWidgets": [],
       "textData": null,
       "type": "htmlSandbox"
      }
     },
     "output_type": "display_data"
    }
   ],
   "source": [
    "# Show a sample from the dataset using pandas\n",
    "\n",
    "df_VR_SP.sample(5)"
   ]
  },
  {
   "cell_type": "code",
   "execution_count": 0,
   "metadata": {
    "application/vnd.databricks.v1+cell": {
     "cellMetadata": {
      "byteLimit": 2048000,
      "rowLimit": 10000
     },
     "inputWidgets": {},
     "nuid": "1cbd2a8f-5dcc-45e5-bdd0-32b70d19bfd5",
     "showTitle": true,
     "tableResultSettingsMap": {},
     "title": "Import OLX Rio"
    }
   },
   "outputs": [],
   "source": [
    "# Import files from google drive to databricks notebook\n",
    "original_url = 'https://drive.google.com/file/d/1FjMKaMsIVnW4yBtKbpbxIf_qJME_8hOh/view?usp=sharing'\n",
    "\n",
    "file_id = original_url.split(\"/d/\")[1].split(\"/\")[0]\n",
    "url = f\"https://drive.google.com/uc?id={file_id}&export=download\" \n",
    "\n",
    "# Download the file\n",
    "response = requests.get(url)\n",
    "with open(\"OLX_RJ.json\", \"wb\") as f:\n",
    "    f.write(response.content)\n",
    "\n",
    "# Read file using pandas\n",
    "df_olx_RJ = pd.read_json('OLX_RJ.json')\n",
    "\n",
    "# Convert pandas dataframe to spark dataframe\n",
    "df_olx_rio = spark.createDataFrame(df_olx_RJ)"
   ]
  },
  {
   "cell_type": "code",
   "execution_count": 0,
   "metadata": {
    "application/vnd.databricks.v1+cell": {
     "cellMetadata": {
      "byteLimit": 2048000,
      "rowLimit": 10000
     },
     "inputWidgets": {},
     "nuid": "d79bc72e-5322-4002-9f74-23cd254ea2f6",
     "showTitle": true,
     "tableResultSettingsMap": {},
     "title": "Sample OLX Rio"
    }
   },
   "outputs": [
    {
     "output_type": "display_data",
     "data": {
      "text/html": [
       "<div>\n",
       "<style scoped>\n",
       "    .dataframe tbody tr th:only-of-type {\n",
       "        vertical-align: middle;\n",
       "    }\n",
       "\n",
       "    .dataframe tbody tr th {\n",
       "        vertical-align: top;\n",
       "    }\n",
       "\n",
       "    .dataframe thead th {\n",
       "        text-align: right;\n",
       "    }\n",
       "</style>\n",
       "<table border=\"1\" class=\"dataframe\">\n",
       "  <thead>\n",
       "    <tr style=\"text-align: right;\">\n",
       "      <th></th>\n",
       "      <th>titulo</th>\n",
       "      <th>preco_aluguel</th>\n",
       "      <th>localizacao</th>\n",
       "      <th>bairro</th>\n",
       "      <th>area</th>\n",
       "      <th>iptu</th>\n",
       "      <th>preco_condominio</th>\n",
       "      <th>quartos</th>\n",
       "      <th>banheiros</th>\n",
       "      <th>garagem</th>\n",
       "    </tr>\n",
       "  </thead>\n",
       "  <tbody>\n",
       "    <tr>\n",
       "      <th>2479</th>\n",
       "      <td>Imóvel para aluguel e venda tem 300 metros qua...</td>\n",
       "      <td>R$ 25.500</td>\n",
       "      <td>Rio de Janeiro, Ipanema</td>\n",
       "      <td>Ipanema</td>\n",
       "      <td>300m²</td>\n",
       "      <td>R$ 2.997</td>\n",
       "      <td>R$ 8.500</td>\n",
       "      <td>4</td>\n",
       "      <td>4</td>\n",
       "      <td>2</td>\n",
       "    </tr>\n",
       "    <tr>\n",
       "      <th>3361</th>\n",
       "      <td>Apartamento para Alugar com 94m2 com Suíte e V...</td>\n",
       "      <td>R$ 14.500</td>\n",
       "      <td>Rio de Janeiro, Ipanema</td>\n",
       "      <td>Ipanema</td>\n",
       "      <td>94m²</td>\n",
       "      <td>R$ 2.180</td>\n",
       "      <td>R$ 4.663</td>\n",
       "      <td>2</td>\n",
       "      <td>2</td>\n",
       "      <td>2</td>\n",
       "    </tr>\n",
       "    <tr>\n",
       "      <th>1821</th>\n",
       "      <td>Quarto aconchegante para alugar</td>\n",
       "      <td>R$ 1.700</td>\n",
       "      <td>Rio de Janeiro, Leblon</td>\n",
       "      <td>Leblon</td>\n",
       "      <td>None</td>\n",
       "      <td>None</td>\n",
       "      <td>None</td>\n",
       "      <td>None</td>\n",
       "      <td>None</td>\n",
       "      <td>None</td>\n",
       "    </tr>\n",
       "    <tr>\n",
       "      <th>135</th>\n",
       "      <td>Imóvel para aluguel com 36 metros quadrados co...</td>\n",
       "      <td>R$ 2.500</td>\n",
       "      <td>Rio de Janeiro, Flamengo</td>\n",
       "      <td>Flamengo</td>\n",
       "      <td>36m²</td>\n",
       "      <td>R$ 98</td>\n",
       "      <td>R$ 820</td>\n",
       "      <td>1</td>\n",
       "      <td>1</td>\n",
       "      <td>None</td>\n",
       "    </tr>\n",
       "    <tr>\n",
       "      <th>3531</th>\n",
       "      <td>Locação de apartamento em Residencial com Serv...</td>\n",
       "      <td>R$ 3.355</td>\n",
       "      <td>Rio de Janeiro, Copacabana</td>\n",
       "      <td>Copacabana</td>\n",
       "      <td>70m²</td>\n",
       "      <td>R$ 427</td>\n",
       "      <td>R$ 2.218</td>\n",
       "      <td>1</td>\n",
       "      <td>1</td>\n",
       "      <td>1</td>\n",
       "    </tr>\n",
       "  </tbody>\n",
       "</table>\n",
       "</div>"
      ]
     },
     "metadata": {
      "application/vnd.databricks.v1+output": {
       "addedWidgets": {},
       "arguments": {},
       "data": "<div>\n<style scoped>\n    .dataframe tbody tr th:only-of-type {\n        vertical-align: middle;\n    }\n\n    .dataframe tbody tr th {\n        vertical-align: top;\n    }\n\n    .dataframe thead th {\n        text-align: right;\n    }\n</style>\n<table border=\"1\" class=\"dataframe\">\n  <thead>\n    <tr style=\"text-align: right;\">\n      <th></th>\n      <th>titulo</th>\n      <th>preco_aluguel</th>\n      <th>localizacao</th>\n      <th>bairro</th>\n      <th>area</th>\n      <th>iptu</th>\n      <th>preco_condominio</th>\n      <th>quartos</th>\n      <th>banheiros</th>\n      <th>garagem</th>\n    </tr>\n  </thead>\n  <tbody>\n    <tr>\n      <th>2479</th>\n      <td>Imóvel para aluguel e venda tem 300 metros qua...</td>\n      <td>R$ 25.500</td>\n      <td>Rio de Janeiro, Ipanema</td>\n      <td>Ipanema</td>\n      <td>300m²</td>\n      <td>R$ 2.997</td>\n      <td>R$ 8.500</td>\n      <td>4</td>\n      <td>4</td>\n      <td>2</td>\n    </tr>\n    <tr>\n      <th>3361</th>\n      <td>Apartamento para Alugar com 94m2 com Suíte e V...</td>\n      <td>R$ 14.500</td>\n      <td>Rio de Janeiro, Ipanema</td>\n      <td>Ipanema</td>\n      <td>94m²</td>\n      <td>R$ 2.180</td>\n      <td>R$ 4.663</td>\n      <td>2</td>\n      <td>2</td>\n      <td>2</td>\n    </tr>\n    <tr>\n      <th>1821</th>\n      <td>Quarto aconchegante para alugar</td>\n      <td>R$ 1.700</td>\n      <td>Rio de Janeiro, Leblon</td>\n      <td>Leblon</td>\n      <td>None</td>\n      <td>None</td>\n      <td>None</td>\n      <td>None</td>\n      <td>None</td>\n      <td>None</td>\n    </tr>\n    <tr>\n      <th>135</th>\n      <td>Imóvel para aluguel com 36 metros quadrados co...</td>\n      <td>R$ 2.500</td>\n      <td>Rio de Janeiro, Flamengo</td>\n      <td>Flamengo</td>\n      <td>36m²</td>\n      <td>R$ 98</td>\n      <td>R$ 820</td>\n      <td>1</td>\n      <td>1</td>\n      <td>None</td>\n    </tr>\n    <tr>\n      <th>3531</th>\n      <td>Locação de apartamento em Residencial com Serv...</td>\n      <td>R$ 3.355</td>\n      <td>Rio de Janeiro, Copacabana</td>\n      <td>Copacabana</td>\n      <td>70m²</td>\n      <td>R$ 427</td>\n      <td>R$ 2.218</td>\n      <td>1</td>\n      <td>1</td>\n      <td>1</td>\n    </tr>\n  </tbody>\n</table>\n</div>",
       "datasetInfos": [],
       "metadata": {},
       "removedWidgets": [],
       "textData": null,
       "type": "htmlSandbox"
      }
     },
     "output_type": "display_data"
    }
   ],
   "source": [
    "# Show a sample from the dataset using pandas\n",
    "\n",
    "df_olx_RJ.sample(5)"
   ]
  },
  {
   "cell_type": "code",
   "execution_count": 0,
   "metadata": {
    "application/vnd.databricks.v1+cell": {
     "cellMetadata": {
      "byteLimit": 2048000,
      "rowLimit": 10000
     },
     "inputWidgets": {},
     "nuid": "e459eb67-67cb-4f44-b00b-a1b7da888eb4",
     "showTitle": true,
     "tableResultSettingsMap": {},
     "title": "Import OLX SP"
    }
   },
   "outputs": [],
   "source": [
    "# Import files from google drive to databricks notebook\n",
    "original_url = 'https://drive.google.com/file/d/1i6I_dasanYeTLsuGUvrSxTfA5OMhMrbI/view?usp=drive_link'\n",
    "\n",
    "file_id = original_url.split(\"/d/\")[1].split(\"/\")[0]\n",
    "url = f\"https://drive.google.com/uc?id={file_id}&export=download\" \n",
    "\n",
    "# Download the file\n",
    "response = requests.get(url)\n",
    "with open(\"OLX_SP.json\", \"wb\") as f:\n",
    "    f.write(response.content)\n",
    "\n",
    "# Read file using pandas\n",
    "df_olx_SP = pd.read_json('OLX_SP.json')\n",
    "\n",
    "# Convert pandas dataframe to spark dataframe\n",
    "df_olx_sp = spark.createDataFrame(df_olx_SP)"
   ]
  },
  {
   "cell_type": "code",
   "execution_count": 0,
   "metadata": {
    "application/vnd.databricks.v1+cell": {
     "cellMetadata": {
      "byteLimit": 2048000,
      "rowLimit": 10000
     },
     "inputWidgets": {},
     "nuid": "405113b6-3919-4daf-84fa-7d03d8ad4c60",
     "showTitle": true,
     "tableResultSettingsMap": {},
     "title": "Sample OLX SP"
    }
   },
   "outputs": [
    {
     "output_type": "display_data",
     "data": {
      "text/html": [
       "<div>\n",
       "<style scoped>\n",
       "    .dataframe tbody tr th:only-of-type {\n",
       "        vertical-align: middle;\n",
       "    }\n",
       "\n",
       "    .dataframe tbody tr th {\n",
       "        vertical-align: top;\n",
       "    }\n",
       "\n",
       "    .dataframe thead th {\n",
       "        text-align: right;\n",
       "    }\n",
       "</style>\n",
       "<table border=\"1\" class=\"dataframe\">\n",
       "  <thead>\n",
       "    <tr style=\"text-align: right;\">\n",
       "      <th></th>\n",
       "      <th>titulo</th>\n",
       "      <th>preco_aluguel</th>\n",
       "      <th>localizacao</th>\n",
       "      <th>area</th>\n",
       "      <th>iptu</th>\n",
       "      <th>preco_condominio</th>\n",
       "      <th>quartos</th>\n",
       "      <th>banheiros</th>\n",
       "      <th>garagem</th>\n",
       "    </tr>\n",
       "  </thead>\n",
       "  <tbody>\n",
       "    <tr>\n",
       "      <th>3018</th>\n",
       "      <td>None</td>\n",
       "      <td>None</td>\n",
       "      <td>None</td>\n",
       "      <td>None</td>\n",
       "      <td>None</td>\n",
       "      <td>None</td>\n",
       "      <td>None</td>\n",
       "      <td>None</td>\n",
       "      <td>NaN</td>\n",
       "    </tr>\n",
       "    <tr>\n",
       "      <th>2273</th>\n",
       "      <td>Apartamento com 3 dormitórios para alugar, 123...</td>\n",
       "      <td>R$ 8.500</td>\n",
       "      <td>São Paulo, Vila Romana</td>\n",
       "      <td>123m²</td>\n",
       "      <td>R$ 5.600</td>\n",
       "      <td>R$ 1.350</td>\n",
       "      <td>3</td>\n",
       "      <td>2</td>\n",
       "      <td>NaN</td>\n",
       "    </tr>\n",
       "    <tr>\n",
       "      <th>5199</th>\n",
       "      <td>Imóvel para aluguel tem 88 metros quadrados co...</td>\n",
       "      <td>R$ 8.500</td>\n",
       "      <td>São Paulo, Pinheiros</td>\n",
       "      <td>88m²</td>\n",
       "      <td>R$ 576</td>\n",
       "      <td>R$ 1.277</td>\n",
       "      <td>2</td>\n",
       "      <td>2</td>\n",
       "      <td>NaN</td>\n",
       "    </tr>\n",
       "    <tr>\n",
       "      <th>1230</th>\n",
       "      <td>Sobrado, Parque Ipê - São Paulo</td>\n",
       "      <td>R$ 2.800</td>\n",
       "      <td>São Paulo, Parque Ipê</td>\n",
       "      <td>120m²</td>\n",
       "      <td>R$ 0</td>\n",
       "      <td>R$ 0</td>\n",
       "      <td>2</td>\n",
       "      <td>3</td>\n",
       "      <td>NaN</td>\n",
       "    </tr>\n",
       "    <tr>\n",
       "      <th>329</th>\n",
       "      <td>Imóvel para aluguel tem 219 metros quadrados c...</td>\n",
       "      <td>R$ 9.000</td>\n",
       "      <td>São Paulo, Higienópolis</td>\n",
       "      <td>219m²</td>\n",
       "      <td>R$ 1.502</td>\n",
       "      <td>R$ 4.098</td>\n",
       "      <td>3</td>\n",
       "      <td>5 ou mais</td>\n",
       "      <td>NaN</td>\n",
       "    </tr>\n",
       "  </tbody>\n",
       "</table>\n",
       "</div>"
      ]
     },
     "metadata": {
      "application/vnd.databricks.v1+output": {
       "addedWidgets": {},
       "arguments": {},
       "data": "<div>\n<style scoped>\n    .dataframe tbody tr th:only-of-type {\n        vertical-align: middle;\n    }\n\n    .dataframe tbody tr th {\n        vertical-align: top;\n    }\n\n    .dataframe thead th {\n        text-align: right;\n    }\n</style>\n<table border=\"1\" class=\"dataframe\">\n  <thead>\n    <tr style=\"text-align: right;\">\n      <th></th>\n      <th>titulo</th>\n      <th>preco_aluguel</th>\n      <th>localizacao</th>\n      <th>area</th>\n      <th>iptu</th>\n      <th>preco_condominio</th>\n      <th>quartos</th>\n      <th>banheiros</th>\n      <th>garagem</th>\n    </tr>\n  </thead>\n  <tbody>\n    <tr>\n      <th>3018</th>\n      <td>None</td>\n      <td>None</td>\n      <td>None</td>\n      <td>None</td>\n      <td>None</td>\n      <td>None</td>\n      <td>None</td>\n      <td>None</td>\n      <td>NaN</td>\n    </tr>\n    <tr>\n      <th>2273</th>\n      <td>Apartamento com 3 dormitórios para alugar, 123...</td>\n      <td>R$ 8.500</td>\n      <td>São Paulo, Vila Romana</td>\n      <td>123m²</td>\n      <td>R$ 5.600</td>\n      <td>R$ 1.350</td>\n      <td>3</td>\n      <td>2</td>\n      <td>NaN</td>\n    </tr>\n    <tr>\n      <th>5199</th>\n      <td>Imóvel para aluguel tem 88 metros quadrados co...</td>\n      <td>R$ 8.500</td>\n      <td>São Paulo, Pinheiros</td>\n      <td>88m²</td>\n      <td>R$ 576</td>\n      <td>R$ 1.277</td>\n      <td>2</td>\n      <td>2</td>\n      <td>NaN</td>\n    </tr>\n    <tr>\n      <th>1230</th>\n      <td>Sobrado, Parque Ipê - São Paulo</td>\n      <td>R$ 2.800</td>\n      <td>São Paulo, Parque Ipê</td>\n      <td>120m²</td>\n      <td>R$ 0</td>\n      <td>R$ 0</td>\n      <td>2</td>\n      <td>3</td>\n      <td>NaN</td>\n    </tr>\n    <tr>\n      <th>329</th>\n      <td>Imóvel para aluguel tem 219 metros quadrados c...</td>\n      <td>R$ 9.000</td>\n      <td>São Paulo, Higienópolis</td>\n      <td>219m²</td>\n      <td>R$ 1.502</td>\n      <td>R$ 4.098</td>\n      <td>3</td>\n      <td>5 ou mais</td>\n      <td>NaN</td>\n    </tr>\n  </tbody>\n</table>\n</div>",
       "datasetInfos": [],
       "metadata": {},
       "removedWidgets": [],
       "textData": null,
       "type": "htmlSandbox"
      }
     },
     "output_type": "display_data"
    }
   ],
   "source": [
    "# Show a sample from the dataset using pandas\n",
    "\n",
    "df_olx_SP.sample(5)"
   ]
  },
  {
   "cell_type": "code",
   "execution_count": 0,
   "metadata": {
    "application/vnd.databricks.v1+cell": {
     "cellMetadata": {
      "byteLimit": 2048000,
      "rowLimit": 10000
     },
     "inputWidgets": {},
     "nuid": "10ceb818-aba6-4b68-8453-7815bdf29986",
     "showTitle": true,
     "tableResultSettingsMap": {},
     "title": "Import Zap Rio"
    }
   },
   "outputs": [],
   "source": [
    "# Import files from google drive to databricks notebook\n",
    "original_url = 'https://drive.google.com/file/d/1NOlDvIj5QQZHwXHXY5guCMxiuSeb52ek/view?usp=drive_link'\n",
    "\n",
    "file_id = original_url.split(\"/d/\")[1].split(\"/\")[0]\n",
    "url = f\"https://drive.google.com/uc?id={file_id}&export=download\" \n",
    "\n",
    "# Download the file\n",
    "response = requests.get(url)\n",
    "with open(\"ZAP_RJ.json\", \"wb\") as f:\n",
    "    f.write(response.content)\n",
    "\n",
    "# Read file using pandas\n",
    "df_zap_RJ = pd.read_json('ZAP_RJ.json')\n",
    "\n",
    "# Convert pandas dataframe to spark dataframe\n",
    "df_zap_rj = spark.createDataFrame(df_zap_RJ)"
   ]
  },
  {
   "cell_type": "code",
   "execution_count": 0,
   "metadata": {
    "application/vnd.databricks.v1+cell": {
     "cellMetadata": {
      "byteLimit": 2048000,
      "rowLimit": 10000
     },
     "inputWidgets": {},
     "nuid": "2be22a8c-6e62-47ed-9b0a-b61ad0e98ba0",
     "showTitle": true,
     "tableResultSettingsMap": {},
     "title": "Sample Zap Rio"
    }
   },
   "outputs": [
    {
     "output_type": "display_data",
     "data": {
      "text/html": [
       "<div>\n",
       "<style scoped>\n",
       "    .dataframe tbody tr th:only-of-type {\n",
       "        vertical-align: middle;\n",
       "    }\n",
       "\n",
       "    .dataframe tbody tr th {\n",
       "        vertical-align: top;\n",
       "    }\n",
       "\n",
       "    .dataframe thead th {\n",
       "        text-align: right;\n",
       "    }\n",
       "</style>\n",
       "<table border=\"1\" class=\"dataframe\">\n",
       "  <thead>\n",
       "    <tr style=\"text-align: right;\">\n",
       "      <th></th>\n",
       "      <th>link</th>\n",
       "      <th>preco</th>\n",
       "      <th>endereco</th>\n",
       "      <th>area</th>\n",
       "      <th>iptu</th>\n",
       "      <th>preco_condominio</th>\n",
       "      <th>quartos</th>\n",
       "      <th>banheiros</th>\n",
       "      <th>garagem</th>\n",
       "    </tr>\n",
       "  </thead>\n",
       "  <tbody>\n",
       "    <tr>\n",
       "      <th>1</th>\n",
       "      <td>https://www.zapimoveis.com.br/imovel/aluguel-a...</td>\n",
       "      <td>15000</td>\n",
       "      <td>Avenida Epitácio Pessoa</td>\n",
       "      <td>230</td>\n",
       "      <td>1569.0</td>\n",
       "      <td>4997.0</td>\n",
       "      <td>3</td>\n",
       "      <td>4</td>\n",
       "      <td>3</td>\n",
       "    </tr>\n",
       "    <tr>\n",
       "      <th>318</th>\n",
       "      <td>https://www.zapimoveis.com.br/imovel/aluguel-a...</td>\n",
       "      <td>12500</td>\n",
       "      <td>Avenida Rui Barbosa</td>\n",
       "      <td>248</td>\n",
       "      <td>1180.0</td>\n",
       "      <td>2700.0</td>\n",
       "      <td>3</td>\n",
       "      <td>4</td>\n",
       "      <td>1</td>\n",
       "    </tr>\n",
       "    <tr>\n",
       "      <th>6</th>\n",
       "      <td>https://www.zapimoveis.com.br/imovel/venda-apa...</td>\n",
       "      <td>6700</td>\n",
       "      <td>Rua Senador Vergueiro</td>\n",
       "      <td>111</td>\n",
       "      <td>331.0</td>\n",
       "      <td>1024.0</td>\n",
       "      <td>3</td>\n",
       "      <td>2</td>\n",
       "      <td>1</td>\n",
       "    </tr>\n",
       "    <tr>\n",
       "      <th>66</th>\n",
       "      <td>https://www.zapimoveis.com.br/imovel/aluguel-a...</td>\n",
       "      <td>4000</td>\n",
       "      <td>Rua Barata Ribeiro</td>\n",
       "      <td>68</td>\n",
       "      <td>243.0</td>\n",
       "      <td>1293.0</td>\n",
       "      <td>2</td>\n",
       "      <td>2</td>\n",
       "      <td>1</td>\n",
       "    </tr>\n",
       "    <tr>\n",
       "      <th>360</th>\n",
       "      <td>https://www.zapimoveis.com.br/imovel/aluguel-a...</td>\n",
       "      <td>18000</td>\n",
       "      <td>Avenida General San Martin</td>\n",
       "      <td>200</td>\n",
       "      <td>1785.0</td>\n",
       "      <td>3300.0</td>\n",
       "      <td>4</td>\n",
       "      <td>1</td>\n",
       "      <td>2</td>\n",
       "    </tr>\n",
       "  </tbody>\n",
       "</table>\n",
       "</div>"
      ]
     },
     "metadata": {
      "application/vnd.databricks.v1+output": {
       "addedWidgets": {},
       "arguments": {},
       "data": "<div>\n<style scoped>\n    .dataframe tbody tr th:only-of-type {\n        vertical-align: middle;\n    }\n\n    .dataframe tbody tr th {\n        vertical-align: top;\n    }\n\n    .dataframe thead th {\n        text-align: right;\n    }\n</style>\n<table border=\"1\" class=\"dataframe\">\n  <thead>\n    <tr style=\"text-align: right;\">\n      <th></th>\n      <th>link</th>\n      <th>preco</th>\n      <th>endereco</th>\n      <th>area</th>\n      <th>iptu</th>\n      <th>preco_condominio</th>\n      <th>quartos</th>\n      <th>banheiros</th>\n      <th>garagem</th>\n    </tr>\n  </thead>\n  <tbody>\n    <tr>\n      <th>1</th>\n      <td>https://www.zapimoveis.com.br/imovel/aluguel-a...</td>\n      <td>15000</td>\n      <td>Avenida Epitácio Pessoa</td>\n      <td>230</td>\n      <td>1569.0</td>\n      <td>4997.0</td>\n      <td>3</td>\n      <td>4</td>\n      <td>3</td>\n    </tr>\n    <tr>\n      <th>318</th>\n      <td>https://www.zapimoveis.com.br/imovel/aluguel-a...</td>\n      <td>12500</td>\n      <td>Avenida Rui Barbosa</td>\n      <td>248</td>\n      <td>1180.0</td>\n      <td>2700.0</td>\n      <td>3</td>\n      <td>4</td>\n      <td>1</td>\n    </tr>\n    <tr>\n      <th>6</th>\n      <td>https://www.zapimoveis.com.br/imovel/venda-apa...</td>\n      <td>6700</td>\n      <td>Rua Senador Vergueiro</td>\n      <td>111</td>\n      <td>331.0</td>\n      <td>1024.0</td>\n      <td>3</td>\n      <td>2</td>\n      <td>1</td>\n    </tr>\n    <tr>\n      <th>66</th>\n      <td>https://www.zapimoveis.com.br/imovel/aluguel-a...</td>\n      <td>4000</td>\n      <td>Rua Barata Ribeiro</td>\n      <td>68</td>\n      <td>243.0</td>\n      <td>1293.0</td>\n      <td>2</td>\n      <td>2</td>\n      <td>1</td>\n    </tr>\n    <tr>\n      <th>360</th>\n      <td>https://www.zapimoveis.com.br/imovel/aluguel-a...</td>\n      <td>18000</td>\n      <td>Avenida General San Martin</td>\n      <td>200</td>\n      <td>1785.0</td>\n      <td>3300.0</td>\n      <td>4</td>\n      <td>1</td>\n      <td>2</td>\n    </tr>\n  </tbody>\n</table>\n</div>",
       "datasetInfos": [],
       "metadata": {},
       "removedWidgets": [],
       "textData": null,
       "type": "htmlSandbox"
      }
     },
     "output_type": "display_data"
    }
   ],
   "source": [
    "# Show a sample from the dataset using pyspark\n",
    "\n",
    "df_zap_RJ.sample(5)"
   ]
  },
  {
   "cell_type": "code",
   "execution_count": 0,
   "metadata": {
    "application/vnd.databricks.v1+cell": {
     "cellMetadata": {
      "byteLimit": 2048000,
      "rowLimit": 10000
     },
     "inputWidgets": {},
     "nuid": "053975da-e001-4909-8c8b-76840318ee91",
     "showTitle": true,
     "tableResultSettingsMap": {},
     "title": "Import Zap SP"
    }
   },
   "outputs": [],
   "source": [
    "# Import files from google drive to databricks notebook\n",
    "original_url = 'https://drive.google.com/file/d/1_UvnWnrelZR8u_UsgjQIU3Ccjo49XYtp/view?usp=sharing'\n",
    "\n",
    "file_id = original_url.split(\"/d/\")[1].split(\"/\")[0]\n",
    "url = f\"https://drive.google.com/uc?id={file_id}&export=download\" \n",
    "\n",
    "# Download the file\n",
    "response = requests.get(url)\n",
    "with open(\"ZAP_SP.json\", \"wb\") as f:\n",
    "    f.write(response.content)\n",
    "\n",
    "# Read file using pandas\n",
    "df_zap_SP = pd.read_json('ZAP_SP.json')\n",
    "\n",
    "# Convert pandas dataframe to spark dataframe\n",
    "df_zap_sp = spark.createDataFrame(df_zap_SP)"
   ]
  },
  {
   "cell_type": "code",
   "execution_count": 0,
   "metadata": {
    "application/vnd.databricks.v1+cell": {
     "cellMetadata": {
      "byteLimit": 2048000,
      "rowLimit": 10000
     },
     "inputWidgets": {},
     "nuid": "7cbf2b2b-82b8-4b64-b281-ba6627e4f4e5",
     "showTitle": true,
     "tableResultSettingsMap": {},
     "title": "Sample Zap SP"
    }
   },
   "outputs": [
    {
     "output_type": "display_data",
     "data": {
      "text/html": [
       "<div>\n",
       "<style scoped>\n",
       "    .dataframe tbody tr th:only-of-type {\n",
       "        vertical-align: middle;\n",
       "    }\n",
       "\n",
       "    .dataframe tbody tr th {\n",
       "        vertical-align: top;\n",
       "    }\n",
       "\n",
       "    .dataframe thead th {\n",
       "        text-align: right;\n",
       "    }\n",
       "</style>\n",
       "<table border=\"1\" class=\"dataframe\">\n",
       "  <thead>\n",
       "    <tr style=\"text-align: right;\">\n",
       "      <th></th>\n",
       "      <th>link</th>\n",
       "      <th>preco</th>\n",
       "      <th>endereco</th>\n",
       "      <th>title</th>\n",
       "      <th>area</th>\n",
       "      <th>iptu</th>\n",
       "      <th>preco_condominio</th>\n",
       "      <th>quartos</th>\n",
       "      <th>banheiros</th>\n",
       "      <th>garagem</th>\n",
       "    </tr>\n",
       "  </thead>\n",
       "  <tbody>\n",
       "    <tr>\n",
       "      <th>499</th>\n",
       "      <td>https://www.zapimoveis.com.br/imovel/aluguel-a...</td>\n",
       "      <td>R$ 20.800</td>\n",
       "      <td>Rua Fábia</td>\n",
       "      <td>Vila Romana, São Paulo</td>\n",
       "      <td>206 m²</td>\n",
       "      <td>None</td>\n",
       "      <td>None</td>\n",
       "      <td>3</td>\n",
       "      <td>4</td>\n",
       "      <td>3</td>\n",
       "    </tr>\n",
       "    <tr>\n",
       "      <th>288</th>\n",
       "      <td>https://www.zapimoveis.com.br/imovel/venda-apa...</td>\n",
       "      <td>R$ 14.000</td>\n",
       "      <td>Rua Ministro Godói</td>\n",
       "      <td>Perdizes, São Paulo</td>\n",
       "      <td>135 m²</td>\n",
       "      <td>[Cond. R$ 1.578 ,  IPTU R$ 1.140]</td>\n",
       "      <td>[Cond. R$ 1.578 ,  IPTU R$ 1.140]</td>\n",
       "      <td>3</td>\n",
       "      <td>4</td>\n",
       "      <td>3</td>\n",
       "    </tr>\n",
       "    <tr>\n",
       "      <th>952</th>\n",
       "      <td>https://www.zapimoveis.com.br/imovel/aluguel-a...</td>\n",
       "      <td>R$ 5.100</td>\n",
       "      <td>Rua João Ramalho</td>\n",
       "      <td>Perdizes, São Paulo</td>\n",
       "      <td>116 m²</td>\n",
       "      <td>[Cond. R$ 1.000 ,  IPTU R$ 325]</td>\n",
       "      <td>[Cond. R$ 1.000 ,  IPTU R$ 325]</td>\n",
       "      <td>3</td>\n",
       "      <td>3</td>\n",
       "      <td>1</td>\n",
       "    </tr>\n",
       "    <tr>\n",
       "      <th>503</th>\n",
       "      <td>None</td>\n",
       "      <td>R$ 19.000</td>\n",
       "      <td>Rua Itapaiuna</td>\n",
       "      <td>Jardim Morumbi, São Paulo</td>\n",
       "      <td>257 m²</td>\n",
       "      <td>[Cond. R$ 4.800 ,  IPTU R$ 1.200]</td>\n",
       "      <td>[Cond. R$ 4.800 ,  IPTU R$ 1.200]</td>\n",
       "      <td>3-4</td>\n",
       "      <td>4-6</td>\n",
       "      <td>4</td>\n",
       "    </tr>\n",
       "    <tr>\n",
       "      <th>27</th>\n",
       "      <td>https://www.zapimoveis.com.br/imovel/aluguel-a...</td>\n",
       "      <td>R$ 4.000</td>\n",
       "      <td>Rua Brigadeiro Galvão</td>\n",
       "      <td>Barra Funda, São Paulo</td>\n",
       "      <td>67 m²</td>\n",
       "      <td>[Cond. R$ 905 ,  IPTU R$ 124]</td>\n",
       "      <td>[Cond. R$ 905 ,  IPTU R$ 124]</td>\n",
       "      <td>2</td>\n",
       "      <td>2</td>\n",
       "      <td>1</td>\n",
       "    </tr>\n",
       "  </tbody>\n",
       "</table>\n",
       "</div>"
      ]
     },
     "metadata": {
      "application/vnd.databricks.v1+output": {
       "addedWidgets": {},
       "arguments": {},
       "data": "<div>\n<style scoped>\n    .dataframe tbody tr th:only-of-type {\n        vertical-align: middle;\n    }\n\n    .dataframe tbody tr th {\n        vertical-align: top;\n    }\n\n    .dataframe thead th {\n        text-align: right;\n    }\n</style>\n<table border=\"1\" class=\"dataframe\">\n  <thead>\n    <tr style=\"text-align: right;\">\n      <th></th>\n      <th>link</th>\n      <th>preco</th>\n      <th>endereco</th>\n      <th>title</th>\n      <th>area</th>\n      <th>iptu</th>\n      <th>preco_condominio</th>\n      <th>quartos</th>\n      <th>banheiros</th>\n      <th>garagem</th>\n    </tr>\n  </thead>\n  <tbody>\n    <tr>\n      <th>499</th>\n      <td>https://www.zapimoveis.com.br/imovel/aluguel-a...</td>\n      <td>R$ 20.800</td>\n      <td>Rua Fábia</td>\n      <td>Vila Romana, São Paulo</td>\n      <td>206 m²</td>\n      <td>None</td>\n      <td>None</td>\n      <td>3</td>\n      <td>4</td>\n      <td>3</td>\n    </tr>\n    <tr>\n      <th>288</th>\n      <td>https://www.zapimoveis.com.br/imovel/venda-apa...</td>\n      <td>R$ 14.000</td>\n      <td>Rua Ministro Godói</td>\n      <td>Perdizes, São Paulo</td>\n      <td>135 m²</td>\n      <td>[Cond. R$ 1.578 ,  IPTU R$ 1.140]</td>\n      <td>[Cond. R$ 1.578 ,  IPTU R$ 1.140]</td>\n      <td>3</td>\n      <td>4</td>\n      <td>3</td>\n    </tr>\n    <tr>\n      <th>952</th>\n      <td>https://www.zapimoveis.com.br/imovel/aluguel-a...</td>\n      <td>R$ 5.100</td>\n      <td>Rua João Ramalho</td>\n      <td>Perdizes, São Paulo</td>\n      <td>116 m²</td>\n      <td>[Cond. R$ 1.000 ,  IPTU R$ 325]</td>\n      <td>[Cond. R$ 1.000 ,  IPTU R$ 325]</td>\n      <td>3</td>\n      <td>3</td>\n      <td>1</td>\n    </tr>\n    <tr>\n      <th>503</th>\n      <td>None</td>\n      <td>R$ 19.000</td>\n      <td>Rua Itapaiuna</td>\n      <td>Jardim Morumbi, São Paulo</td>\n      <td>257 m²</td>\n      <td>[Cond. R$ 4.800 ,  IPTU R$ 1.200]</td>\n      <td>[Cond. R$ 4.800 ,  IPTU R$ 1.200]</td>\n      <td>3-4</td>\n      <td>4-6</td>\n      <td>4</td>\n    </tr>\n    <tr>\n      <th>27</th>\n      <td>https://www.zapimoveis.com.br/imovel/aluguel-a...</td>\n      <td>R$ 4.000</td>\n      <td>Rua Brigadeiro Galvão</td>\n      <td>Barra Funda, São Paulo</td>\n      <td>67 m²</td>\n      <td>[Cond. R$ 905 ,  IPTU R$ 124]</td>\n      <td>[Cond. R$ 905 ,  IPTU R$ 124]</td>\n      <td>2</td>\n      <td>2</td>\n      <td>1</td>\n    </tr>\n  </tbody>\n</table>\n</div>",
       "datasetInfos": [],
       "metadata": {},
       "removedWidgets": [],
       "textData": null,
       "type": "htmlSandbox"
      }
     },
     "output_type": "display_data"
    }
   ],
   "source": [
    "# Show a sample from the dataset using pyspark\n",
    "\n",
    "df_zap_SP.sample(5)"
   ]
  },
  {
   "cell_type": "code",
   "execution_count": 0,
   "metadata": {
    "application/vnd.databricks.v1+cell": {
     "cellMetadata": {
      "byteLimit": 2048000,
      "rowLimit": 10000
     },
     "inputWidgets": {},
     "nuid": "214dc23f-947d-411c-91e8-bc6b45be9380",
     "showTitle": false,
     "tableResultSettingsMap": {},
     "title": ""
    }
   },
   "outputs": [
    {
     "output_type": "stream",
     "name": "stdout",
     "output_type": "stream",
     "text": [
      "Out[34]: DataFrame[]"
     ]
    }
   ],
   "source": [
    "# Defining the raw layer (bronze) database, where raw data files from different type and sources will be stored\n",
    "\n",
    "# Create new database with custom DBFS location\n",
    "spark.sql(\"\"\"\n",
    "CREATE DATABASE IF NOT EXISTS bronze_imoveis\n",
    "LOCATION 'dbfs:/mvp/database/bronze_imoveis'\n",
    "\"\"\")\n"
   ]
  },
  {
   "cell_type": "code",
   "execution_count": 0,
   "metadata": {
    "application/vnd.databricks.v1+cell": {
     "cellMetadata": {
      "byteLimit": 2048000,
      "rowLimit": 10000
     },
     "inputWidgets": {},
     "nuid": "3761ed33-2143-468c-95ca-8a88a8579048",
     "showTitle": false,
     "tableResultSettingsMap": {},
     "title": ""
    }
   },
   "outputs": [
    {
     "output_type": "display_data",
     "data": {
      "text/html": [
       "<style scoped>\n",
       "  .table-result-container {\n",
       "    max-height: 300px;\n",
       "    overflow: auto;\n",
       "  }\n",
       "  table, th, td {\n",
       "    border: 1px solid black;\n",
       "    border-collapse: collapse;\n",
       "  }\n",
       "  th, td {\n",
       "    padding: 5px;\n",
       "  }\n",
       "  th {\n",
       "    text-align: left;\n",
       "  }\n",
       "</style><div class='table-result-container'><table class='table-result'><thead style='background-color: white'><tr><th>databaseName</th></tr></thead><tbody><tr><td>bronze_imoveis</td></tr><tr><td>default</td></tr></tbody></table></div>"
      ]
     },
     "metadata": {
      "application/vnd.databricks.v1+output": {
       "addedWidgets": {},
       "aggData": [],
       "aggError": "",
       "aggOverflow": false,
       "aggSchema": [],
       "aggSeriesLimitReached": false,
       "aggType": "",
       "arguments": {},
       "columnCustomDisplayInfos": {},
       "data": [
        [
         "bronze_imoveis"
        ],
        [
         "default"
        ]
       ],
       "datasetInfos": [],
       "dbfsResultPath": null,
       "isJsonSchema": true,
       "metadata": {},
       "overflow": false,
       "plotOptions": {
        "customPlotOptions": {},
        "displayType": "table",
        "pivotAggregation": null,
        "pivotColumns": null,
        "xColumns": null,
        "yColumns": null
       },
       "removedWidgets": [],
       "schema": [
        {
         "metadata": "{}",
         "name": "databaseName",
         "type": "\"string\""
        }
       ],
       "type": "table"
      }
     },
     "output_type": "display_data"
    }
   ],
   "source": [
    "# Display databases\n",
    "\n",
    "# display(dbutils.fs.ls(\"dbfs:/mvp/database/\"))\n",
    "\n",
    "display(spark.sql(\"SHOW DATABASES\")) # este retorna só os que estão na metastore"
   ]
  },
  {
   "cell_type": "code",
   "execution_count": 0,
   "metadata": {
    "application/vnd.databricks.v1+cell": {
     "cellMetadata": {
      "byteLimit": 2048000,
      "rowLimit": 10000
     },
     "inputWidgets": {},
     "nuid": "63e48863-a955-4da7-8e3e-f09b10b8a6f6",
     "showTitle": false,
     "tableResultSettingsMap": {},
     "title": ""
    }
   },
   "outputs": [],
   "source": [
    "# Create delta tables inside the created database using pyspark, using mode overwrite if exists\n",
    "\n",
    "df_vivareal_rio.write.format(\"delta\").mode(\"overwrite\").saveAsTable('bronze_imoveis.vivareal_rio')\n",
    "df_vivareal_sp.write.format(\"delta\").mode(\"overwrite\").saveAsTable('bronze_imoveis.vivareal_sp')\n",
    "\n",
    "df_olx_rio.write.format(\"delta\").mode(\"overwrite\").saveAsTable('bronze_imoveis.olx_rio')\n",
    "df_olx_sp.write.format(\"delta\").mode(\"overwrite\").saveAsTable('bronze_imoveis.olx_sp')\n",
    "\n",
    "df_zap_rj.write.format(\"delta\").mode(\"overwrite\").saveAsTable('bronze_imoveis.zap_rio')\n",
    "df_zap_sp.write.format(\"delta\").mode(\"overwrite\").saveAsTable('bronze_imoveis.zap_sp')"
   ]
  },
  {
   "cell_type": "code",
   "execution_count": 0,
   "metadata": {
    "application/vnd.databricks.v1+cell": {
     "cellMetadata": {
      "byteLimit": 2048000,
      "rowLimit": 10000
     },
     "inputWidgets": {},
     "nuid": "70bcc1cd-577a-409f-be1b-6efa9f12d62c",
     "showTitle": false,
     "tableResultSettingsMap": {},
     "title": ""
    }
   },
   "outputs": [
    {
     "output_type": "stream",
     "name": "stdout",
     "output_type": "stream",
     "text": [
      "+--------------+------------+-----------+\n|database      |tableName   |isTemporary|\n+--------------+------------+-----------+\n|bronze_imoveis|olx_rio     |false      |\n|bronze_imoveis|olx_sp      |false      |\n|bronze_imoveis|vivareal_rio|false      |\n|bronze_imoveis|vivareal_sp |false      |\n|bronze_imoveis|zap_rio     |false      |\n|bronze_imoveis|zap_sp      |false      |\n+--------------+------------+-----------+\n\n"
     ]
    }
   ],
   "source": [
    "# Display tables inside bronze layer\n",
    "\n",
    "spark.sql(\"SHOW TABLES IN bronze_imoveis\").show(truncate=False)"
   ]
  },
  {
   "cell_type": "markdown",
   "metadata": {
    "application/vnd.databricks.v1+cell": {
     "cellMetadata": {},
     "inputWidgets": {},
     "nuid": "04e2e00b-d5f8-435c-88dd-95d7929b549b",
     "showTitle": false,
     "tableResultSettingsMap": {},
     "title": ""
    }
   },
   "source": [
    "#####Carregar Bases de Ceps de Rio e SP na camada Bronze"
   ]
  },
  {
   "cell_type": "code",
   "execution_count": 0,
   "metadata": {
    "application/vnd.databricks.v1+cell": {
     "cellMetadata": {
      "byteLimit": 2048000,
      "rowLimit": 10000
     },
     "inputWidgets": {},
     "nuid": "48d1b04c-8674-476e-8191-db1c09732edc",
     "showTitle": false,
     "tableResultSettingsMap": {},
     "title": ""
    }
   },
   "outputs": [
    {
     "output_type": "stream",
     "name": "stdout",
     "output_type": "stream",
     "text": [
      "+--------+--------------------+----------+------+----------+----------+\n|     Cep|          Logradouro|    Numero|Bairro|Cod Cidade|Cod Estado|\n+--------+--------------------+----------+------+----------+----------+\n|20010000|Rua Primeiro de M...|Unnamed: 2|Centro|      7764|        19|\n|20010010|Praça Quinze de N...|      null|Centro|      7764|        19|\n|20010020|        Rua São José|      null|Centro|      7764|        19|\n|20010030|     Travessa Tinoco|      null|Centro|      7764|        19|\n|20010040|  Travessa Tocantins|      null|Centro|      7764|        19|\n+--------+--------------------+----------+------+----------+----------+\nonly showing top 5 rows\n\n"
     ]
    }
   ],
   "source": [
    "# Import files from google drive to databricks notebook\n",
    "original_url = 'https://drive.google.com/file/d/1--1eqBPj-8-ESxr-ufHWq2Wr6CjrvecO/view?usp=sharing'\n",
    "\n",
    "file_id = original_url.split(\"/d/\")[1].split(\"/\")[0]\n",
    "url = f\"https://drive.google.com/uc?id={file_id}&export=download\" \n",
    "\n",
    "# Download the file\n",
    "response = requests.get(url)\n",
    "with open(\"cep_rj.csv\", \"wb\") as f:\n",
    "    f.write(response.content)\n",
    "\n",
    "# Read file using pandas\n",
    "Cep_rj = pd.read_csv('cep_rj.csv')\n",
    "\n",
    "# Convert pandas dataframe to spark dataframe\n",
    "df_Cep_RJ = spark.createDataFrame(Cep_rj)\n",
    "\n",
    "df_Cep_RJ.show(5)"
   ]
  },
  {
   "cell_type": "code",
   "execution_count": 0,
   "metadata": {
    "application/vnd.databricks.v1+cell": {
     "cellMetadata": {
      "byteLimit": 2048000,
      "rowLimit": 10000
     },
     "inputWidgets": {},
     "nuid": "72aa06c3-bfca-4d61-a3bf-33f90ffe7517",
     "showTitle": false,
     "tableResultSettingsMap": {},
     "title": ""
    }
   },
   "outputs": [
    {
     "output_type": "stream",
     "name": "stdout",
     "output_type": "stream",
     "text": [
      "root\n |-- Cep: long (nullable = true)\n |-- Logradouro: string (nullable = true)\n |-- Numero: string (nullable = true)\n |-- Bairro: string (nullable = true)\n |-- Cod Cidade: long (nullable = true)\n |-- Cod Estado: long (nullable = true)\n\n"
     ]
    }
   ],
   "source": [
    "df_Cep_RJ.printSchema()"
   ]
  },
  {
   "cell_type": "code",
   "execution_count": 0,
   "metadata": {
    "application/vnd.databricks.v1+cell": {
     "cellMetadata": {
      "byteLimit": 2048000,
      "rowLimit": 10000
     },
     "inputWidgets": {},
     "nuid": "771a6105-d8cf-4d8a-90df-ca4f8c5fc23d",
     "showTitle": false,
     "tableResultSettingsMap": {},
     "title": ""
    }
   },
   "outputs": [],
   "source": [
    "# Pyspark does not accept blank spaces or other characteres in column names\n",
    "# Apply a function to rename columns\n",
    "\n",
    "for col_name in df_Cep_RJ.columns:\n",
    "    new_col = col_name.lower().strip().replace(\" \", \"_\").replace(\"ã\", \"a\").replace(\"é\", \"e\").replace(\"í\", \"i\")\n",
    "    df_Cep_RJ = df_Cep_RJ.withColumnRenamed(col_name, new_col)\n"
   ]
  },
  {
   "cell_type": "code",
   "execution_count": 0,
   "metadata": {
    "application/vnd.databricks.v1+cell": {
     "cellMetadata": {},
     "inputWidgets": {},
     "nuid": "dfc0cf80-b990-49f0-a1a5-188f2e70841f",
     "showTitle": false,
     "tableResultSettingsMap": {},
     "title": ""
    }
   },
   "outputs": [
    {
     "output_type": "stream",
     "name": "stdout",
     "output_type": "stream",
     "text": [
      "Out[54]: DataFrame[]"
     ]
    }
   ],
   "source": [
    "# Create an auxiliary database inside bronze layer\n",
    "\n",
    "spark.sql(\"\"\"\n",
    "CREATE DATABASE IF NOT EXISTS bronze_aux\n",
    "LOCATION 'dbfs:/mvp/database/bronze_aux'\n",
    "\"\"\")"
   ]
  },
  {
   "cell_type": "code",
   "execution_count": 0,
   "metadata": {
    "application/vnd.databricks.v1+cell": {
     "cellMetadata": {
      "byteLimit": 2048000,
      "rowLimit": 10000
     },
     "inputWidgets": {},
     "nuid": "251541bb-b71c-4bef-9ae5-24c030970d62",
     "showTitle": false,
     "tableResultSettingsMap": {},
     "title": ""
    }
   },
   "outputs": [],
   "source": [
    "# Create a table inside bronse auxiliary database\n",
    "df_Cep_RJ.write.format(\"delta\").mode(\"overwrite\").saveAsTable(\"bronze_aux.cep_rio\")"
   ]
  },
  {
   "cell_type": "code",
   "execution_count": 0,
   "metadata": {
    "application/vnd.databricks.v1+cell": {
     "cellMetadata": {
      "byteLimit": 2048000,
      "rowLimit": 10000
     },
     "inputWidgets": {},
     "nuid": "1248e539-8692-43ba-8efd-2a3561cbf610",
     "showTitle": false,
     "tableResultSettingsMap": {},
     "title": ""
    }
   },
   "outputs": [
    {
     "output_type": "stream",
     "name": "stdout",
     "output_type": "stream",
     "text": [
      "+-------+--------------------+------------+------+----------+----------+\n|    Cep|          Logradouro|      Numero|Bairro|Cod Cidade|Cod Estado|\n+-------+--------------------+------------+------+----------+----------+\n|1001000|         Praça da Sé|- lado ímpar|    Sé|      8966|        26|\n|1001001|         Praça da Sé|  - lado par|    Sé|      8966|        26|\n|1001010|Rua Filipe de Oli...|        null|    Sé|      8966|        26|\n|1001900|     Praça da Sé 108|        null|    Sé|      8966|        26|\n|1001901|     Praça da Sé 371|        null|    Sé|      8966|        26|\n+-------+--------------------+------------+------+----------+----------+\nonly showing top 5 rows\n\n"
     ]
    }
   ],
   "source": [
    "# Import files from google drive to databricks notebook\n",
    "original_url = 'https://drive.google.com/file/d/12RZkNIR2XKkYz7NwKwi1OhunA3MOCCsw/view?usp=sharing'\n",
    "\n",
    "file_id = original_url.split(\"/d/\")[1].split(\"/\")[0]\n",
    "url = f\"https://drive.google.com/uc?id={file_id}&export=download\" \n",
    "\n",
    "# Download the file\n",
    "response = requests.get(url)\n",
    "with open(\"cep_sp.csv\", \"wb\") as f:\n",
    "    f.write(response.content)\n",
    "\n",
    "# Read file using pandas\n",
    "Cep_sp = pd.read_csv('cep_sp.csv')\n",
    "\n",
    "# Convert pandas dataframe to spark dataframe\n",
    "df_Cep_SP = spark.createDataFrame(Cep_sp)\n",
    "\n",
    "df_Cep_SP.show(5)"
   ]
  },
  {
   "cell_type": "code",
   "execution_count": 0,
   "metadata": {
    "application/vnd.databricks.v1+cell": {
     "cellMetadata": {
      "byteLimit": 2048000,
      "rowLimit": 10000
     },
     "inputWidgets": {},
     "nuid": "9ef94256-6455-4948-a6ea-64b9deb0f06b",
     "showTitle": false,
     "tableResultSettingsMap": {},
     "title": ""
    }
   },
   "outputs": [],
   "source": [
    "# Pyspark does not accept blank spaces or other characteres in column names\n",
    "# Apply a function to rename columns\n",
    "\n",
    "for col_name in df_Cep_SP.columns:\n",
    "    new_col = col_name.lower().strip().replace(\" \", \"_\").replace(\"ã\", \"a\").replace(\"é\", \"e\").replace(\"í\", \"i\")\n",
    "    df_Cep_SP = df_Cep_SP.withColumnRenamed(col_name, new_col)\n",
    "    "
   ]
  },
  {
   "cell_type": "code",
   "execution_count": 0,
   "metadata": {
    "application/vnd.databricks.v1+cell": {
     "cellMetadata": {
      "byteLimit": 2048000,
      "rowLimit": 10000
     },
     "inputWidgets": {},
     "nuid": "ce2bd3e6-32cd-4ada-8852-87a203f92960",
     "showTitle": false,
     "tableResultSettingsMap": {},
     "title": ""
    }
   },
   "outputs": [],
   "source": [
    "# Create a table inside bronze auxiliary database\n",
    "df_Cep_SP.write.format(\"delta\").mode(\"overwrite\").saveAsTable(\"bronze_aux.cep_sp\")"
   ]
  },
  {
   "cell_type": "markdown",
   "metadata": {
    "application/vnd.databricks.v1+cell": {
     "cellMetadata": {},
     "inputWidgets": {},
     "nuid": "f0e24998-0591-48c3-b898-c343e108538e",
     "showTitle": false,
     "tableResultSettingsMap": {},
     "title": ""
    }
   },
   "source": [
    "#### Importar base com ceps e coordenadas e geocodigo ibge"
   ]
  },
  {
   "cell_type": "code",
   "execution_count": 0,
   "metadata": {
    "application/vnd.databricks.v1+cell": {
     "cellMetadata": {
      "byteLimit": 2048000,
      "rowLimit": 10000
     },
     "inputWidgets": {},
     "nuid": "98fb1655-2f82-4f73-97ef-97bdc2b4a3df",
     "showTitle": false,
     "tableResultSettingsMap": {},
     "title": ""
    }
   },
   "outputs": [
    {
     "output_type": "stream",
     "name": "stdout",
     "output_type": "stream",
     "text": [
      "+---------+------------+-----------+---------------+\n| POSTCODE|         LON|        LAT|     CD_GEOCODI|\n+---------+------------+-----------+---------------+\n|00000-000| -46.6638301|-22.2576125|313490505000032|\n|00000-001| -67.8387383|   -9.92166|120040105000325|\n|00000-002|-67.88050835| -9.8820725|120040105000325|\n|00000-003| -46.5144433|  -21.82057|315180005000240|\n|00000-004| -67.8933533| -9.8820383|120040105000325|\n+---------+------------+-----------+---------------+\nonly showing top 5 rows\n\n"
     ]
    }
   ],
   "source": [
    "# Import base with geo info\n",
    "\n",
    "original_url = \"https://drive.google.com/file/d/1pVD2DHFw8nQH2u4ELovYu7cBXhmVYaH7/view?usp=drive_link\"\n",
    "\n",
    "file_id = original_url.split(\"/d/\")[1].split(\"/\")[0]\n",
    "url = f\"https://drive.google.com/uc?id={file_id}&export=download\" \n",
    "\n",
    "# Download the file\n",
    "response = requests.get(url)\n",
    "with open(\"Geo_base.csv\", \"wb\") as f:\n",
    "    f.write(response.content)\n",
    "\n",
    "# Read file using pandas\n",
    "Geo_base = pd.read_csv('Geo_base.csv')\n",
    "\n",
    "# Convert pandas dataframe to spark dataframe\n",
    "Geo_base = spark.createDataFrame(Geo_base)\n",
    "\n",
    "Geo_base.show(5)"
   ]
  },
  {
   "cell_type": "code",
   "execution_count": 0,
   "metadata": {
    "application/vnd.databricks.v1+cell": {
     "cellMetadata": {
      "byteLimit": 2048000,
      "rowLimit": 10000
     },
     "inputWidgets": {},
     "nuid": "5ee7cdaa-4541-425e-9838-5fd08a97dadb",
     "showTitle": false,
     "tableResultSettingsMap": {},
     "title": ""
    }
   },
   "outputs": [],
   "source": [
    "# Pyspark does not accept blank spaces or other characteres in column names\n",
    "# Apply a function to rename columns\n",
    "\n",
    "for col_name in Geo_base.columns:\n",
    "    new_col = col_name.lower().strip().replace(\" \", \"_\").replace(\"ã\", \"a\").replace(\"é\", \"e\").replace(\"í\", \"i\")\n",
    "    Geo_base = Geo_base.withColumnRenamed(col_name, new_col)"
   ]
  },
  {
   "cell_type": "code",
   "execution_count": 0,
   "metadata": {
    "application/vnd.databricks.v1+cell": {
     "cellMetadata": {
      "byteLimit": 2048000,
      "rowLimit": 10000
     },
     "inputWidgets": {},
     "nuid": "e55e94ae-1924-4483-9180-1df5d6d1beeb",
     "showTitle": false,
     "tableResultSettingsMap": {},
     "title": ""
    }
   },
   "outputs": [],
   "source": [
    "# Saving delta table in silver_imoveis database\n",
    "\n",
    "tabela = \"bronze_aux.geo_base\"\n",
    "\n",
    "if spark._jsparkSession.catalog().tableExists(tabela):\n",
    "    spark.sql(f\"DROP TABLE {tabela}\")\n",
    "\n",
    "# Delete metadata after dropping table(if it exists)\n",
    "dbutils.fs.rm(\"dbfs:/user/hive/warehouse/bronze_aux.db/geo_base\", recurse=True) \n",
    "\n",
    "# Write table in delta format\n",
    "Geo_base.write.format(\"delta\").mode(\"overwrite\").option('mergeSchema', 'true').saveAsTable(\"bronze_aux.geo_base\")\n"
   ]
  },
  {
   "cell_type": "markdown",
   "metadata": {
    "application/vnd.databricks.v1+cell": {
     "cellMetadata": {},
     "inputWidgets": {},
     "nuid": "4432aa18-a52a-47dc-8ee0-a532d427335b",
     "showTitle": false,
     "tableResultSettingsMap": {},
     "title": ""
    }
   },
   "source": [
    "#### Conclusão Etapa 1\n",
    "Nesta etapa os dados foram importados de uma pasta do google drive, mas poderiam ter sido importados de outras fontes, como por exemplo um bucket de alguma cloud (Azure, GCP, AWS) ou de outro servidor web. \n",
    "Inserindo um link para download direto do arquivo, o Databricks consegue ler e importar os dados usando request/response.\n",
    "\n",
    "Em seguida, uma database chamada \"bronze_imoveis\" foi definida dentro de uma estrutura de pastas customizada no DBFS (dbfs:/mvp/database/bronze_imoveis) e dentro desta database foram salvas as tabelkas Delta contendo os dados brutos importados.\n",
    "\n",
    "Neste primeiro layer ou camada chamada de \"Bronze\", os dados brutos são salvos diretamente, sem qualquer tipo de manipulação ou tratamento. Eles refletem exatamente o esado em que foram coletados da fonteoriginal.\n",
    "\n",
    " Em uma próxima etapa (Camada Silver), os dados serão tratados, limpos e uniformizados, de modo que cada dataset deverá ter o mesmo esquema de colunas e tipos de dados, preparados para futiras análise e agregações.."
   ]
  }
 ],
 "metadata": {
  "application/vnd.databricks.v1+notebook": {
   "computePreferences": null,
   "dashboards": [],
   "environmentMetadata": {
    "base_environment": "",
    "environment_version": "1"
   },
   "inputWidgetPreferences": null,
   "language": "python",
   "notebookMetadata": {
    "pythonIndentUnit": 4
   },
   "notebookName": "MVP_Camada_Bronze_2025-04-03 12:41:47",
   "widgets": {}
  }
 },
 "nbformat": 4,
 "nbformat_minor": 0
}