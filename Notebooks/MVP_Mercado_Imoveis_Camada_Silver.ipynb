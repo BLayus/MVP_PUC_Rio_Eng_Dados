{
 "cells": [
  {
   "cell_type": "markdown",
   "metadata": {
    "application/vnd.databricks.v1+cell": {
     "cellMetadata": {
      "byteLimit": 2048000,
      "rowLimit": 10000
     },
     "inputWidgets": {},
     "nuid": "cb1b9082-13d8-4220-bf71-bc9846d54bcf",
     "showTitle": false,
     "tableResultSettingsMap": {},
     "title": ""
    }
   },
   "source": [
    "## Etapa 2\n",
    "### Criar um novo banco de dados na camada Silver, tratar e limpar os dados"
   ]
  },
  {
   "cell_type": "code",
   "execution_count": 0,
   "metadata": {
    "application/vnd.databricks.v1+cell": {
     "cellMetadata": {
      "byteLimit": 2048000,
      "rowLimit": 10000
     },
     "inputWidgets": {},
     "nuid": "532aebfb-993f-4d63-8e8b-ac556d4b86d0",
     "showTitle": false,
     "tableResultSettingsMap": {},
     "title": ""
    }
   },
   "outputs": [
    {
     "output_type": "display_data",
     "data": {
      "application/vnd.databricks.v1+bamboolib_hint": "{\"pd.DataFrames\": [], \"version\": \"0.0.1\"}",
      "text/plain": []
     },
     "metadata": {},
     "output_type": "display_data"
    }
   ],
   "source": [
    "# Import libraries\n",
    "\n",
    "import requests\n",
    "import pandas as pd\n",
    "import re\n",
    "\n",
    "from pyspark.sql.types import StringType\n",
    "from pyspark.sql.functions import (regexp_extract, col, regexp_replace, lit, when, concat_ws, expr,\n",
    "                                size, trim, split, lpad, lower, coalesce, count, row_number, first,\n",
    "                                monotonically_increasing_id, concat)\n",
    "\n",
    "from pyspark.sql.window import Window\n",
    "\n",
    "import shutil\n"
   ]
  },
  {
   "cell_type": "code",
   "execution_count": 0,
   "metadata": {
    "application/vnd.databricks.v1+cell": {
     "cellMetadata": {
      "byteLimit": 2048000,
      "rowLimit": 10000
     },
     "inputWidgets": {},
     "nuid": "4cefb4d5-58cd-4b40-a9b1-a87571483cec",
     "showTitle": false,
     "tableResultSettingsMap": {},
     "title": ""
    }
   },
   "outputs": [
    {
     "output_type": "stream",
     "name": "stdout",
     "output_type": "stream",
     "text": [
      "Out[2]: DataFrame[]"
     ]
    }
   ],
   "source": [
    "# Defining the layer silver database, where transformed data will be stored\n",
    "\n",
    "# Create new database with custom DBFS location\n",
    "spark.sql(\"\"\"\n",
    "CREATE DATABASE IF NOT EXISTS silver_imoveis\n",
    "LOCATION 'dbfs:/mvp/database/silver_imoveis'\n",
    "\"\"\")"
   ]
  },
  {
   "cell_type": "code",
   "execution_count": 0,
   "metadata": {
    "application/vnd.databricks.v1+cell": {
     "cellMetadata": {
      "byteLimit": 2048000,
      "rowLimit": 10000
     },
     "inputWidgets": {},
     "nuid": "32dd3872-5a58-49f4-a331-c27466278795",
     "showTitle": false,
     "tableResultSettingsMap": {},
     "title": ""
    }
   },
   "outputs": [
    {
     "output_type": "display_data",
     "data": {
      "text/html": [
       "<style scoped>\n",
       "  .table-result-container {\n",
       "    max-height: 300px;\n",
       "    overflow: auto;\n",
       "  }\n",
       "  table, th, td {\n",
       "    border: 1px solid black;\n",
       "    border-collapse: collapse;\n",
       "  }\n",
       "  th, td {\n",
       "    padding: 5px;\n",
       "  }\n",
       "  th {\n",
       "    text-align: left;\n",
       "  }\n",
       "</style><div class='table-result-container'><table class='table-result'><thead style='background-color: white'><tr><th>databaseName</th></tr></thead><tbody><tr><td>bronze_aux</td></tr><tr><td>bronze_imoveis</td></tr><tr><td>default</td></tr><tr><td>ouro_imoveis</td></tr><tr><td>silver_aux</td></tr><tr><td>silver_imoveis</td></tr></tbody></table></div>"
      ]
     },
     "metadata": {
      "application/vnd.databricks.v1+output": {
       "addedWidgets": {},
       "aggData": [],
       "aggError": "",
       "aggOverflow": false,
       "aggSchema": [],
       "aggSeriesLimitReached": false,
       "aggType": "",
       "arguments": {},
       "columnCustomDisplayInfos": {},
       "data": [
        [
         "bronze_aux"
        ],
        [
         "bronze_imoveis"
        ],
        [
         "default"
        ],
        [
         "ouro_imoveis"
        ],
        [
         "silver_aux"
        ],
        [
         "silver_imoveis"
        ]
       ],
       "datasetInfos": [],
       "dbfsResultPath": null,
       "isJsonSchema": true,
       "metadata": {},
       "overflow": false,
       "plotOptions": {
        "customPlotOptions": {},
        "displayType": "table",
        "pivotAggregation": null,
        "pivotColumns": null,
        "xColumns": null,
        "yColumns": null
       },
       "removedWidgets": [],
       "schema": [
        {
         "metadata": "{}",
         "name": "databaseName",
         "type": "\"string\""
        }
       ],
       "type": "table"
      }
     },
     "output_type": "display_data"
    }
   ],
   "source": [
    "# Display databases\n",
    "\n",
    "display(spark.sql(\"SHOW DATABASES\"))"
   ]
  },
  {
   "cell_type": "code",
   "execution_count": 0,
   "metadata": {
    "application/vnd.databricks.v1+cell": {
     "cellMetadata": {
      "byteLimit": 2048000,
      "rowLimit": 10000
     },
     "inputWidgets": {},
     "nuid": "96c666a7-de73-4ccd-9a4c-7dc637b2c804",
     "showTitle": false,
     "tableResultSettingsMap": {},
     "title": ""
    }
   },
   "outputs": [],
   "source": [
    "# Define a function to add an ID for each listed property\n",
    "\n",
    "def adicionar_id_imovel(df, prefixo: str, nome_coluna=\"ID_imovel\"):\n",
    "    \"\"\"\n",
    "    Adiciona uma coluna de ID único para imóveis com padrão:\n",
    "    XXYYZZZZ → XX=cidade, YY=origem, ZZZZ=número sequencial\n",
    "    \n",
    "    Parâmetros:\n",
    "    - df: DataFrame PySpark de entrada\n",
    "    - prefixo: string de 4 dígitos (ex: \"1001\" para SP/VivaReal)\n",
    "    - nome_coluna: nome da coluna de ID que será criada (padrão = \"ID_imovel\")\n",
    "    \n",
    "    Retorna:\n",
    "    - DataFrame com nova coluna de ID\n",
    "    \"\"\"\n",
    "    # window function to generate sequencial number\n",
    "    window_spec = Window.orderBy(monotonically_increasing_id())\n",
    "\n",
    "    df = df.withColumn(\n",
    "        nome_coluna,\n",
    "        concat(\n",
    "            lit(prefixo),\n",
    "            lpad(row_number().over(window_spec).cast(\"string\"), 4, \"0\")\n",
    "        )\n",
    "    )\n",
    "    \n",
    "    return df\n"
   ]
  },
  {
   "cell_type": "code",
   "execution_count": 0,
   "metadata": {
    "application/vnd.databricks.v1+cell": {
     "cellMetadata": {
      "byteLimit": 2048000,
      "rowLimit": 10000
     },
     "inputWidgets": {},
     "nuid": "d4dbf87b-668c-4bfb-90e6-c029ec3d7862",
     "showTitle": false,
     "tableResultSettingsMap": {},
     "title": ""
    }
   },
   "outputs": [],
   "source": [
    "# Dic with numerical codes to ID_Imovel\n",
    "prefixos_id = {\n",
    "    \"df_VR_RJ\": \"2101\",  # VivaReal - Rio de Janeiro\n",
    "    \"df_OLX_RJ\": \"2102\", # OLX - Rio de Janeiro\n",
    "    \"df_ZAP_RJ\": \"2103\",  # Zap - Rio de Janeiro\n",
    "    \"df_VR_SP\": \"1101\",  # VivaReal - São Paulo\n",
    "    \"df_OLX_SP\": \"1102\", # OLX - São Paulo\n",
    "    \"df_ZAP_SP\": \"1103\",  # Zap - São Paulo\n",
    "}"
   ]
  },
  {
   "cell_type": "markdown",
   "metadata": {
    "application/vnd.databricks.v1+cell": {
     "cellMetadata": {
      "byteLimit": 2048000,
      "rowLimit": 10000
     },
     "inputWidgets": {},
     "nuid": "645c4c10-dc36-45a6-90d7-360f68e84a17",
     "showTitle": false,
     "tableResultSettingsMap": {},
     "title": ""
    }
   },
   "source": [
    "####Limpeza e Tratamento dos Dados\n",
    "Nesta parte do projeto, irei pegar cada tabela e tratar strings, tipagem dos dados, dados duplicados e faltantes, esquema de colunas, etc. No final espero ter todas a tabelas uniformizadas e prontas pra passar para uma próxima camada chamada \"Gold\", aonde poderei realizar agregações, análises e gráficos."
   ]
  },
  {
   "cell_type": "markdown",
   "metadata": {
    "application/vnd.databricks.v1+cell": {
     "cellMetadata": {
      "byteLimit": 2048000,
      "rowLimit": 10000
     },
     "inputWidgets": {},
     "nuid": "6f928393-6af0-4d5d-8bab-55a3235ba548",
     "showTitle": false,
     "tableResultSettingsMap": {},
     "title": ""
    }
   },
   "source": [
    "####Viva Real RJ"
   ]
  },
  {
   "cell_type": "code",
   "execution_count": 0,
   "metadata": {
    "application/vnd.databricks.v1+cell": {
     "cellMetadata": {
      "byteLimit": 2048000,
      "rowLimit": 10000
     },
     "inputWidgets": {},
     "nuid": "0517afad-7829-45c3-9f1e-dbb5caea1052",
     "showTitle": false,
     "tableResultSettingsMap": {},
     "title": ""
    }
   },
   "outputs": [
    {
     "output_type": "stream",
     "name": "stdout",
     "output_type": "stream",
     "text": [
      "<bound method DataFrame.printSchema of DataFrame[link: string, titulo: string, endereco: string, bairro: string, cep: bigint, preco: bigint, condominio: double, iptu: double, metragem: bigint, dormitorios: bigint, banheiros: bigint, vagas: bigint]>"
     ]
    },
    {
     "output_type": "display_data",
     "data": {
      "text/html": [
       "<style scoped>\n",
       "  .table-result-container {\n",
       "    max-height: 300px;\n",
       "    overflow: auto;\n",
       "  }\n",
       "  table, th, td {\n",
       "    border: 1px solid black;\n",
       "    border-collapse: collapse;\n",
       "  }\n",
       "  th, td {\n",
       "    padding: 5px;\n",
       "  }\n",
       "  th {\n",
       "    text-align: left;\n",
       "  }\n",
       "</style><div class='table-result-container'><table class='table-result'><thead style='background-color: white'><tr><th>link</th><th>titulo</th><th>endereco</th><th>bairro</th><th>cep</th><th>preco</th><th>condominio</th><th>iptu</th><th>metragem</th><th>dormitorios</th><th>banheiros</th><th>vagas</th></tr></thead><tbody><tr><td>/imovel/apartamento-2-quartos-lagoa-zona-sul-rio-de-janeiro-96m2-aluguel-RS7500-id-2778964233/</td><td>Imóvel para aluguel tem 96 metros quadrados com 2 quartos em Lagoa - Rio de Janeiro - RJ</td><td>Avenida Epitácio Pessoa, 4362</td><td>Lagoa</td><td>22471004</td><td>7500</td><td>900.0</td><td>66.0</td><td>96</td><td>2</td><td>1</td><td>0</td></tr><tr><td>/imovel/apartamento-2-quartos-botafogo-zona-sul-rio-de-janeiro-70m2-aluguel-RS4500-id-2776607722/</td><td>EXCELENTE 2 QUARTOS COM DEPENDÊNCIA COMPLETA EM BOTAFOGO</td><td>Rua Rodrigo de Brito, </td><td>Botafogo</td><td>22280100</td><td>4500</td><td>721.0</td><td>1.0</td><td>70</td><td>2</td><td>2</td><td>0</td></tr><tr><td>/imovel/apartamento-3-quartos-ipanema-zona-sul-rio-de-janeiro-com-garagem-148m2-aluguel-RS18000-id-2752473132/</td><td>APARTAMENTO - IPANEMA - 03 QUARTOS - 02 VAGAS</td><td>Rua Prudente de Morais, 790</td><td>Ipanema</td><td>22420041</td><td>18000</td><td>3989.0</td><td>990.0</td><td>148</td><td>3</td><td>2</td><td>2</td></tr><tr><td>/imovel/apartamento-2-quartos-lagoa-zona-sul-rio-de-janeiro-com-garagem-105m2-aluguel-RS9500-id-2773156320/</td><td>Apartamento com vista Jockey e Cristo, Junto ao Piraquê, varandão, 2 qtos(1 suite) 2 vagas de garag</td><td>Avenida Lineu de Paula Machado, 1005</td><td>Lagoa</td><td>22470040</td><td>9500</td><td>2000.0</td><td>450.0</td><td>105</td><td>2</td><td>3</td><td>2</td></tr><tr><td>/imovel/apartamento-3-quartos-ipanema-zona-sul-rio-de-janeiro-82m2-aluguel-RS5800-id-2793796630/</td><td>apartamento terreo 3 quartos copanema, 1 suite, boa cozinha/área, sem vaga, proximo praia e metrô</td><td>Rua Joaquim Nabuco, </td><td>Ipanema</td><td>22080060</td><td>5800</td><td>1634.0</td><td>532.0</td><td>82</td><td>3</td><td>2</td><td>0</td></tr><tr><td>/imovel/apartamento-2-quartos-botafogo-zona-sul-rio-de-janeiro-com-garagem-67m2-aluguel-RS5500-id-2786256816/</td><td>Apartamento para aluguel, com 67m² no Botafogo!</td><td>Rua São Clemente, </td><td>Botafogo</td><td>22260004</td><td>5500</td><td>1348.0</td><td>285.0</td><td>67</td><td>2</td><td>2</td><td>1</td></tr></tbody></table></div>"
      ]
     },
     "metadata": {
      "application/vnd.databricks.v1+output": {
       "addedWidgets": {},
       "aggData": [],
       "aggError": "",
       "aggOverflow": false,
       "aggSchema": [],
       "aggSeriesLimitReached": false,
       "aggType": "",
       "arguments": {},
       "columnCustomDisplayInfos": {},
       "data": [
        [
         "/imovel/apartamento-2-quartos-lagoa-zona-sul-rio-de-janeiro-96m2-aluguel-RS7500-id-2778964233/",
         "Imóvel para aluguel tem 96 metros quadrados com 2 quartos em Lagoa - Rio de Janeiro - RJ",
         "Avenida Epitácio Pessoa, 4362",
         "Lagoa",
         22471004,
         7500,
         900.0,
         66.0,
         96,
         2,
         1,
         0
        ],
        [
         "/imovel/apartamento-2-quartos-botafogo-zona-sul-rio-de-janeiro-70m2-aluguel-RS4500-id-2776607722/",
         "EXCELENTE 2 QUARTOS COM DEPENDÊNCIA COMPLETA EM BOTAFOGO",
         "Rua Rodrigo de Brito, ",
         "Botafogo",
         22280100,
         4500,
         721.0,
         1.0,
         70,
         2,
         2,
         0
        ],
        [
         "/imovel/apartamento-3-quartos-ipanema-zona-sul-rio-de-janeiro-com-garagem-148m2-aluguel-RS18000-id-2752473132/",
         "APARTAMENTO - IPANEMA - 03 QUARTOS - 02 VAGAS",
         "Rua Prudente de Morais, 790",
         "Ipanema",
         22420041,
         18000,
         3989.0,
         990.0,
         148,
         3,
         2,
         2
        ],
        [
         "/imovel/apartamento-2-quartos-lagoa-zona-sul-rio-de-janeiro-com-garagem-105m2-aluguel-RS9500-id-2773156320/",
         "Apartamento com vista Jockey e Cristo, Junto ao Piraquê, varandão, 2 qtos(1 suite) 2 vagas de garag",
         "Avenida Lineu de Paula Machado, 1005",
         "Lagoa",
         22470040,
         9500,
         2000.0,
         450.0,
         105,
         2,
         3,
         2
        ],
        [
         "/imovel/apartamento-3-quartos-ipanema-zona-sul-rio-de-janeiro-82m2-aluguel-RS5800-id-2793796630/",
         "apartamento terreo 3 quartos copanema, 1 suite, boa cozinha/área, sem vaga, proximo praia e metrô",
         "Rua Joaquim Nabuco, ",
         "Ipanema",
         22080060,
         5800,
         1634.0,
         532.0,
         82,
         3,
         2,
         0
        ],
        [
         "/imovel/apartamento-2-quartos-botafogo-zona-sul-rio-de-janeiro-com-garagem-67m2-aluguel-RS5500-id-2786256816/",
         "Apartamento para aluguel, com 67m² no Botafogo!",
         "Rua São Clemente, ",
         "Botafogo",
         22260004,
         5500,
         1348.0,
         285.0,
         67,
         2,
         2,
         1
        ]
       ],
       "datasetInfos": [],
       "dbfsResultPath": null,
       "isJsonSchema": true,
       "metadata": {},
       "overflow": false,
       "plotOptions": {
        "customPlotOptions": {},
        "displayType": "table",
        "pivotAggregation": null,
        "pivotColumns": null,
        "xColumns": null,
        "yColumns": null
       },
       "removedWidgets": [],
       "schema": [
        {
         "metadata": "{}",
         "name": "link",
         "type": "\"string\""
        },
        {
         "metadata": "{}",
         "name": "titulo",
         "type": "\"string\""
        },
        {
         "metadata": "{}",
         "name": "endereco",
         "type": "\"string\""
        },
        {
         "metadata": "{}",
         "name": "bairro",
         "type": "\"string\""
        },
        {
         "metadata": "{}",
         "name": "cep",
         "type": "\"long\""
        },
        {
         "metadata": "{}",
         "name": "preco",
         "type": "\"long\""
        },
        {
         "metadata": "{}",
         "name": "condominio",
         "type": "\"double\""
        },
        {
         "metadata": "{}",
         "name": "iptu",
         "type": "\"double\""
        },
        {
         "metadata": "{}",
         "name": "metragem",
         "type": "\"long\""
        },
        {
         "metadata": "{}",
         "name": "dormitorios",
         "type": "\"long\""
        },
        {
         "metadata": "{}",
         "name": "banheiros",
         "type": "\"long\""
        },
        {
         "metadata": "{}",
         "name": "vagas",
         "type": "\"long\""
        }
       ],
       "type": "table"
      }
     },
     "output_type": "display_data"
    }
   ],
   "source": [
    "# Perform cleaning and transformations using pyspark\n",
    "\n",
    "df_VR_RJ = spark.table(\"bronze_imoveis.vivareal_rio\")\n",
    "\n",
    "display(df_VR_RJ.printSchema)\n",
    "display(df_VR_RJ.sample(.005))\n"
   ]
  },
  {
   "cell_type": "code",
   "execution_count": 0,
   "metadata": {
    "application/vnd.databricks.v1+cell": {
     "cellMetadata": {
      "byteLimit": 2048000,
      "rowLimit": 10000
     },
     "inputWidgets": {},
     "nuid": "546b848b-bacb-44e3-bf8a-205ceed0d2f1",
     "showTitle": false,
     "tableResultSettingsMap": {},
     "title": ""
    }
   },
   "outputs": [],
   "source": [
    "# Cast datatypes and save in another silver table\n",
    "\n",
    "df_VR_RJ = df_VR_RJ.select(\n",
    "    col(\"link\").cast(\"string\"),\n",
    "    col(\"titulo\").cast(\"string\"),\n",
    "    col(\"endereco\").cast(\"string\"),\n",
    "    col(\"bairro\").cast(\"string\"),\n",
    "    col(\"cep\").cast(\"string\"),              # CEP as string, some ceps starts with digit zero\n",
    "    col(\"preco\").cast(\"double\"),\n",
    "    col(\"condominio\").cast(\"double\"),\n",
    "    col(\"iptu\").cast(\"double\"),\n",
    "    col(\"metragem\").cast(\"int\"),\n",
    "    col(\"dormitorios\").cast(\"int\"),\n",
    "    col(\"banheiros\").cast(\"int\"),\n",
    "    col(\"vagas\").cast(\"int\")\n",
    ")\n"
   ]
  },
  {
   "cell_type": "code",
   "execution_count": 0,
   "metadata": {
    "application/vnd.databricks.v1+cell": {
     "cellMetadata": {
      "byteLimit": 2048000,
      "rowLimit": 10000
     },
     "inputWidgets": {},
     "nuid": "d6af7594-616c-4599-82c4-b8243c871af5",
     "showTitle": false,
     "tableResultSettingsMap": {},
     "title": ""
    }
   },
   "outputs": [],
   "source": [
    "# Apply Id function\n",
    "\n",
    "df_VR_rio = adicionar_id_imovel(df_VR_RJ, 2101, nome_coluna=\"ID_imovel\")\n"
   ]
  },
  {
   "cell_type": "code",
   "execution_count": 0,
   "metadata": {
    "application/vnd.databricks.v1+cell": {
     "cellMetadata": {
      "byteLimit": 2048000,
      "rowLimit": 10000
     },
     "inputWidgets": {},
     "nuid": "61f99e36-0e81-4ea6-807a-43ee12c665a7",
     "showTitle": false,
     "tableResultSettingsMap": {},
     "title": ""
    }
   },
   "outputs": [],
   "source": [
    "# Map columns to schema\n",
    "column_mapping = {\n",
    "    'Id_imovel': 'ID_imovel',\n",
    "    'link': 'Link',\n",
    "    'titulo':  'Titulo',\n",
    "    'endereco': 'Endereco',\n",
    "    'preco': 'Preco',\n",
    "    'condominio': 'Condominio',\n",
    "    'iptu': 'IPTU',\n",
    "    'metragem': 'Area', \n",
    "    'dormitorios': 'Dormitorios',\n",
    "    'banheiros': 'Banheiros',\n",
    "    'vagas': 'Garagem',\n",
    "}\n",
    "\n",
    "# Renaming columns in the DataFrame using Pyspark\n",
    "for old_name, new_name in column_mapping.items():\n",
    "    df_VR_rio = df_VR_rio.withColumnRenamed(old_name, new_name)\n",
    "\n",
    "# Reorder the columns\n",
    "esquema= ['ID_imovel', 'Link', 'Titulo', 'Endereco', 'Bairro', 'Cep', 'Preco', 'Condominio', 'Iptu', 'Area', 'Dormitorios', 'Banheiros', 'Garagem']\n",
    "df_VR_rio = df_VR_rio.select(esquema)"
   ]
  },
  {
   "cell_type": "code",
   "execution_count": 0,
   "metadata": {
    "application/vnd.databricks.v1+cell": {
     "cellMetadata": {
      "byteLimit": 2048000,
      "rowLimit": 10000
     },
     "inputWidgets": {},
     "nuid": "7f131786-d950-4796-97c6-86bd9dc9cc44",
     "showTitle": false,
     "tableResultSettingsMap": {},
     "title": ""
    }
   },
   "outputs": [
    {
     "output_type": "display_data",
     "data": {
      "text/html": [
       "<style scoped>\n",
       "  .table-result-container {\n",
       "    max-height: 300px;\n",
       "    overflow: auto;\n",
       "  }\n",
       "  table, th, td {\n",
       "    border: 1px solid black;\n",
       "    border-collapse: collapse;\n",
       "  }\n",
       "  th, td {\n",
       "    padding: 5px;\n",
       "  }\n",
       "  th {\n",
       "    text-align: left;\n",
       "  }\n",
       "</style><div class='table-result-container'><table class='table-result'><thead style='background-color: white'><tr><th>ID_imovel</th><th>Link</th><th>Titulo</th><th>Endereco</th><th>Bairro</th><th>Cep</th><th>Preco</th><th>Condominio</th><th>Iptu</th><th>Area</th><th>Dormitorios</th><th>Banheiros</th><th>Garagem</th></tr></thead><tbody><tr><td>21010007</td><td>/imovel/apartamento-3-quartos-ipanema-zona-sul-rio-de-janeiro-com-garagem-149m2-venda-RS3800000-id-2744523679/</td><td>Apartamento - Padrão / Residencial / Ipanema</td><td>Rua Nascimento Silva, </td><td>Ipanema</td><td>22421023</td><td>20000.0</td><td>5500.0</td><td>1500.0</td><td>149</td><td>3</td><td>5</td><td>3</td></tr><tr><td>21010033</td><td>/imovel/apartamento-3-quartos-lagoa-zona-sul-rio-de-janeiro-com-garagem-135m2-aluguel-RS5000-id-2793188924/</td><td>Apartamento com 3 Quartos e Varanda na Lagoa.</td><td>Rua Professor Saldanha, 154</td><td>Lagoa</td><td>22461220</td><td>5000.0</td><td>2281.0</td><td>559.0</td><td>135</td><td>3</td><td>2</td><td>1</td></tr><tr><td>21010383</td><td>/imovel/apartamento-4-quartos-ipanema-zona-sul-rio-de-janeiro-com-garagem-140m2-aluguel-RS9500-id-2785304526/</td><td>Excelente apartamento 4 quartos para alugar em Ipanema - 2 vagas</td><td>Rua Gomes Carneiro, </td><td>Ipanema</td><td>22071110</td><td>9500.0</td><td>2200.0</td><td>900.0</td><td>140</td><td>4</td><td>3</td><td>2</td></tr><tr><td>21010603</td><td>/imovel/apartamento-3-quartos-ipanema-zona-sul-rio-de-janeiro-com-garagem-130m2-venda-RS2000000-id-2788904614/</td><td>Apartamento - Padrão / Residencial / Ipanema</td><td>Rua Almirante Saddock de Sá, 144</td><td>Ipanema</td><td>22411040</td><td>8500.0</td><td>2633.0</td><td>599.0</td><td>130</td><td>3</td><td>3</td><td>1</td></tr><tr><td>21010677</td><td>/imovel/apartamento-3-quartos-ipanema-zona-sul-rio-de-janeiro-com-garagem-119m2-aluguel-RS11500-id-2774539142/</td><td>Ipanema/Lagoa - Apartamento de 3 quartos com suíte, Infra completa e 2 vagas</td><td>Avenida Epitácio Pessoa, 2356</td><td>Ipanema</td><td>22411072</td><td>11500.0</td><td>2710.0</td><td>915.0</td><td>119</td><td>3</td><td>3</td><td>2</td></tr><tr><td>21011185</td><td>/imovel/apartamento-2-quartos-ipanema-zona-sul-rio-de-janeiro-com-garagem-70m2-aluguel-RS4950-id-2762241220/</td><td>Apartamento 2 quartos, dep completas, vaga, portaria 24 horas, bicicletário, Barão com Teixeira</td><td>Rua Barão da Torre, 82</td><td>Ipanema</td><td>22411000</td><td>4950.0</td><td>1226.0</td><td>230.0</td><td>70</td><td>2</td><td>1</td><td>1</td></tr><tr><td>21011336</td><td>/imovel/apartamento-4-quartos-copacabana-zona-sul-rio-de-janeiro-com-garagem-360m2-venda-RS6000000-id-2512022780/</td><td>Cobertura para aluguel e venda com 360 metros quadrados com 4 quartos</td><td>Avenida Atlântica, </td><td>Copacabana</td><td>22070001</td><td>15000.0</td><td>4700.0</td><td>null</td><td>360</td><td>4</td><td>4</td><td>1</td></tr></tbody></table></div>"
      ]
     },
     "metadata": {
      "application/vnd.databricks.v1+output": {
       "addedWidgets": {},
       "aggData": [],
       "aggError": "",
       "aggOverflow": false,
       "aggSchema": [],
       "aggSeriesLimitReached": false,
       "aggType": "",
       "arguments": {},
       "columnCustomDisplayInfos": {},
       "data": [
        [
         "21010007",
         "/imovel/apartamento-3-quartos-ipanema-zona-sul-rio-de-janeiro-com-garagem-149m2-venda-RS3800000-id-2744523679/",
         "Apartamento - Padrão / Residencial / Ipanema",
         "Rua Nascimento Silva, ",
         "Ipanema",
         "22421023",
         20000.0,
         5500.0,
         1500.0,
         149,
         3,
         5,
         3
        ],
        [
         "21010033",
         "/imovel/apartamento-3-quartos-lagoa-zona-sul-rio-de-janeiro-com-garagem-135m2-aluguel-RS5000-id-2793188924/",
         "Apartamento com 3 Quartos e Varanda na Lagoa.",
         "Rua Professor Saldanha, 154",
         "Lagoa",
         "22461220",
         5000.0,
         2281.0,
         559.0,
         135,
         3,
         2,
         1
        ],
        [
         "21010383",
         "/imovel/apartamento-4-quartos-ipanema-zona-sul-rio-de-janeiro-com-garagem-140m2-aluguel-RS9500-id-2785304526/",
         "Excelente apartamento 4 quartos para alugar em Ipanema - 2 vagas",
         "Rua Gomes Carneiro, ",
         "Ipanema",
         "22071110",
         9500.0,
         2200.0,
         900.0,
         140,
         4,
         3,
         2
        ],
        [
         "21010603",
         "/imovel/apartamento-3-quartos-ipanema-zona-sul-rio-de-janeiro-com-garagem-130m2-venda-RS2000000-id-2788904614/",
         "Apartamento - Padrão / Residencial / Ipanema",
         "Rua Almirante Saddock de Sá, 144",
         "Ipanema",
         "22411040",
         8500.0,
         2633.0,
         599.0,
         130,
         3,
         3,
         1
        ],
        [
         "21010677",
         "/imovel/apartamento-3-quartos-ipanema-zona-sul-rio-de-janeiro-com-garagem-119m2-aluguel-RS11500-id-2774539142/",
         "Ipanema/Lagoa - Apartamento de 3 quartos com suíte, Infra completa e 2 vagas",
         "Avenida Epitácio Pessoa, 2356",
         "Ipanema",
         "22411072",
         11500.0,
         2710.0,
         915.0,
         119,
         3,
         3,
         2
        ],
        [
         "21011185",
         "/imovel/apartamento-2-quartos-ipanema-zona-sul-rio-de-janeiro-com-garagem-70m2-aluguel-RS4950-id-2762241220/",
         "Apartamento 2 quartos, dep completas, vaga, portaria 24 horas, bicicletário, Barão com Teixeira",
         "Rua Barão da Torre, 82",
         "Ipanema",
         "22411000",
         4950.0,
         1226.0,
         230.0,
         70,
         2,
         1,
         1
        ],
        [
         "21011336",
         "/imovel/apartamento-4-quartos-copacabana-zona-sul-rio-de-janeiro-com-garagem-360m2-venda-RS6000000-id-2512022780/",
         "Cobertura para aluguel e venda com 360 metros quadrados com 4 quartos",
         "Avenida Atlântica, ",
         "Copacabana",
         "22070001",
         15000.0,
         4700.0,
         null,
         360,
         4,
         4,
         1
        ]
       ],
       "datasetInfos": [],
       "dbfsResultPath": null,
       "isJsonSchema": true,
       "metadata": {},
       "overflow": false,
       "plotOptions": {
        "customPlotOptions": {},
        "displayType": "table",
        "pivotAggregation": null,
        "pivotColumns": null,
        "xColumns": null,
        "yColumns": null
       },
       "removedWidgets": [],
       "schema": [
        {
         "metadata": "{}",
         "name": "ID_imovel",
         "type": "\"string\""
        },
        {
         "metadata": "{}",
         "name": "Link",
         "type": "\"string\""
        },
        {
         "metadata": "{}",
         "name": "Titulo",
         "type": "\"string\""
        },
        {
         "metadata": "{}",
         "name": "Endereco",
         "type": "\"string\""
        },
        {
         "metadata": "{}",
         "name": "Bairro",
         "type": "\"string\""
        },
        {
         "metadata": "{}",
         "name": "Cep",
         "type": "\"string\""
        },
        {
         "metadata": "{}",
         "name": "Preco",
         "type": "\"double\""
        },
        {
         "metadata": "{}",
         "name": "Condominio",
         "type": "\"double\""
        },
        {
         "metadata": "{}",
         "name": "Iptu",
         "type": "\"double\""
        },
        {
         "metadata": "{}",
         "name": "Area",
         "type": "\"integer\""
        },
        {
         "metadata": "{}",
         "name": "Dormitorios",
         "type": "\"integer\""
        },
        {
         "metadata": "{}",
         "name": "Banheiros",
         "type": "\"integer\""
        },
        {
         "metadata": "{}",
         "name": "Garagem",
         "type": "\"integer\""
        }
       ],
       "type": "table"
      }
     },
     "output_type": "display_data"
    }
   ],
   "source": [
    "display(df_VR_rio.sample(0.005))"
   ]
  },
  {
   "cell_type": "code",
   "execution_count": 0,
   "metadata": {
    "application/vnd.databricks.v1+cell": {
     "cellMetadata": {
      "byteLimit": 2048000,
      "rowLimit": 10000
     },
     "inputWidgets": {},
     "nuid": "e9db3a86-d4d5-4780-b053-099697527371",
     "showTitle": false,
     "tableResultSettingsMap": {},
     "title": ""
    }
   },
   "outputs": [],
   "source": [
    "# Saving delta table in silver_imoveis database\n",
    "\n",
    "tabela = \"silver_imoveis.vivareal_rio\"\n",
    "\n",
    "if spark._jsparkSession.catalog().tableExists(tabela):\n",
    "    spark.sql(f\"DROP TABLE {tabela}\")\n",
    "\n",
    "# Delete metadata after dropping table(if it exists)\n",
    "dbutils.fs.rm(\"dbfs:/user/hive/warehouse/silver_imoveis.db/vivareal_rio\", recurse=True) \n",
    "\n",
    "# Write table in delta format\n",
    "df_VR_rio.write.format(\"delta\").mode(\"overwrite\").option('mergeSchema', 'true').saveAsTable(\"silver_imoveis.vivareal_rio\")\n"
   ]
  },
  {
   "cell_type": "markdown",
   "metadata": {
    "application/vnd.databricks.v1+cell": {
     "cellMetadata": {
      "byteLimit": 2048000,
      "rowLimit": 10000
     },
     "inputWidgets": {},
     "nuid": "89a1a744-cfbf-43b2-8681-b275b2b530fd",
     "showTitle": false,
     "tableResultSettingsMap": {},
     "title": ""
    }
   },
   "source": [
    "####Viva Real SP"
   ]
  },
  {
   "cell_type": "code",
   "execution_count": 0,
   "metadata": {
    "application/vnd.databricks.v1+cell": {
     "cellMetadata": {
      "byteLimit": 2048000,
      "rowLimit": 10000
     },
     "inputWidgets": {},
     "nuid": "14df081d-476d-4fb4-9ff9-f14ac902624a",
     "showTitle": false,
     "tableResultSettingsMap": {},
     "title": ""
    }
   },
   "outputs": [
    {
     "output_type": "stream",
     "name": "stdout",
     "output_type": "stream",
     "text": [
      "<bound method DataFrame.printSchema of DataFrame[link: string, preco: string, endereco: string, title: string, area: string, iptu: array<string>, condominio: array<string>, dormitorios: string, banheiros: string, garagem: string]>"
     ]
    },
    {
     "output_type": "display_data",
     "data": {
      "text/html": [
       "<style scoped>\n",
       "  .table-result-container {\n",
       "    max-height: 300px;\n",
       "    overflow: auto;\n",
       "  }\n",
       "  table, th, td {\n",
       "    border: 1px solid black;\n",
       "    border-collapse: collapse;\n",
       "  }\n",
       "  th, td {\n",
       "    padding: 5px;\n",
       "  }\n",
       "  th {\n",
       "    text-align: left;\n",
       "  }\n",
       "</style><div class='table-result-container'><table class='table-result'><thead style='background-color: white'><tr><th>link</th><th>preco</th><th>endereco</th><th>title</th><th>area</th><th>iptu</th><th>condominio</th><th>dormitorios</th><th>banheiros</th><th>garagem</th></tr></thead><tbody><tr><td>https://www.vivareal.com.br/imovel/apartamento-1-quartos-pinheiros-sao-paulo-30m2-aluguel-RS4500-id-2561864857/</td><td>R$ 4.500</td><td>Rua dos Pinheiros</td><td>Pinheiros, São Paulo</td><td>30 m²</td><td>List(Cond. R$ 500)</td><td>List(Cond. R$ 500)</td><td>1</td><td>1</td><td>null</td></tr><tr><td>https://www.vivareal.com.br/imovel/apartamento-3-quartos-perdizes-sao-paulo-com-garagem-221m2-aluguel-RS8500-id-2615549432/</td><td>R$ 8.500</td><td>Rua Monte Alegre</td><td>Perdizes, São Paulo</td><td>221 m²</td><td>List(Cond. R$ 4.000 ,  IPTU R$ 1.294)</td><td>List(Cond. R$ 4.000 ,  IPTU R$ 1.294)</td><td>3</td><td>7</td><td>2</td></tr><tr><td>https://www.vivareal.com.br/imovel/apartamento-1-quartos-barra-funda-zona-oeste-sao-paulo-28m2-aluguel-RS1800-id-2753549503/</td><td>R$ 1.800</td><td>Avenida Rudge</td><td>Bom Retiro, São Paulo</td><td>28 m²</td><td>List(Cond. R$ 450)</td><td>List(Cond. R$ 450)</td><td>1</td><td>1</td><td>null</td></tr><tr><td>https://www.vivareal.com.br/imovel/apartamento-2-quartos-perdizes-sao-paulo-com-garagem-91m2-aluguel-RS5199-id-2790774192/</td><td>R$ 5.199</td><td>Rua Monte Alegre</td><td>Perdizes, São Paulo</td><td>91 m²</td><td>List(Cond. R$ 1.850 ,  IPTU R$ 240)</td><td>List(Cond. R$ 1.850 ,  IPTU R$ 240)</td><td>2</td><td>2</td><td>1</td></tr><tr><td>https://www.vivareal.com.br/imovel/apartamento-1-quartos-jardim-paulista-sao-paulo-com-garagem-86m2-venda-RS3001600-id-2714056126/</td><td>R$ 16.294</td><td>Rua José Maria Lisboa</td><td>Jardim Paulista, São Paulo</td><td>86 m²</td><td>List(Cond. R$ 3.888 ,  IPTU R$ 341)</td><td>List(Cond. R$ 3.888 ,  IPTU R$ 341)</td><td>1</td><td>2</td><td>1</td></tr></tbody></table></div>"
      ]
     },
     "metadata": {
      "application/vnd.databricks.v1+output": {
       "addedWidgets": {},
       "aggData": [],
       "aggError": "",
       "aggOverflow": false,
       "aggSchema": [],
       "aggSeriesLimitReached": false,
       "aggType": "",
       "arguments": {},
       "columnCustomDisplayInfos": {},
       "data": [
        [
         "https://www.vivareal.com.br/imovel/apartamento-1-quartos-pinheiros-sao-paulo-30m2-aluguel-RS4500-id-2561864857/",
         "R$ 4.500",
         "Rua dos Pinheiros",
         "Pinheiros, São Paulo",
         "30 m²",
         [
          "Cond. R$ 500"
         ],
         [
          "Cond. R$ 500"
         ],
         "1",
         "1",
         null
        ],
        [
         "https://www.vivareal.com.br/imovel/apartamento-3-quartos-perdizes-sao-paulo-com-garagem-221m2-aluguel-RS8500-id-2615549432/",
         "R$ 8.500",
         "Rua Monte Alegre",
         "Perdizes, São Paulo",
         "221 m²",
         [
          "Cond. R$ 4.000 ",
          " IPTU R$ 1.294"
         ],
         [
          "Cond. R$ 4.000 ",
          " IPTU R$ 1.294"
         ],
         "3",
         "7",
         "2"
        ],
        [
         "https://www.vivareal.com.br/imovel/apartamento-1-quartos-barra-funda-zona-oeste-sao-paulo-28m2-aluguel-RS1800-id-2753549503/",
         "R$ 1.800",
         "Avenida Rudge",
         "Bom Retiro, São Paulo",
         "28 m²",
         [
          "Cond. R$ 450"
         ],
         [
          "Cond. R$ 450"
         ],
         "1",
         "1",
         null
        ],
        [
         "https://www.vivareal.com.br/imovel/apartamento-2-quartos-perdizes-sao-paulo-com-garagem-91m2-aluguel-RS5199-id-2790774192/",
         "R$ 5.199",
         "Rua Monte Alegre",
         "Perdizes, São Paulo",
         "91 m²",
         [
          "Cond. R$ 1.850 ",
          " IPTU R$ 240"
         ],
         [
          "Cond. R$ 1.850 ",
          " IPTU R$ 240"
         ],
         "2",
         "2",
         "1"
        ],
        [
         "https://www.vivareal.com.br/imovel/apartamento-1-quartos-jardim-paulista-sao-paulo-com-garagem-86m2-venda-RS3001600-id-2714056126/",
         "R$ 16.294",
         "Rua José Maria Lisboa",
         "Jardim Paulista, São Paulo",
         "86 m²",
         [
          "Cond. R$ 3.888 ",
          " IPTU R$ 341"
         ],
         [
          "Cond. R$ 3.888 ",
          " IPTU R$ 341"
         ],
         "1",
         "2",
         "1"
        ]
       ],
       "datasetInfos": [],
       "dbfsResultPath": null,
       "isJsonSchema": true,
       "metadata": {},
       "overflow": false,
       "plotOptions": {
        "customPlotOptions": {},
        "displayType": "table",
        "pivotAggregation": null,
        "pivotColumns": null,
        "xColumns": null,
        "yColumns": null
       },
       "removedWidgets": [],
       "schema": [
        {
         "metadata": "{}",
         "name": "link",
         "type": "\"string\""
        },
        {
         "metadata": "{}",
         "name": "preco",
         "type": "\"string\""
        },
        {
         "metadata": "{}",
         "name": "endereco",
         "type": "\"string\""
        },
        {
         "metadata": "{}",
         "name": "title",
         "type": "\"string\""
        },
        {
         "metadata": "{}",
         "name": "area",
         "type": "\"string\""
        },
        {
         "metadata": "{}",
         "name": "iptu",
         "type": "{\"type\":\"array\",\"elementType\":\"string\",\"containsNull\":true}"
        },
        {
         "metadata": "{}",
         "name": "condominio",
         "type": "{\"type\":\"array\",\"elementType\":\"string\",\"containsNull\":true}"
        },
        {
         "metadata": "{}",
         "name": "dormitorios",
         "type": "\"string\""
        },
        {
         "metadata": "{}",
         "name": "banheiros",
         "type": "\"string\""
        },
        {
         "metadata": "{}",
         "name": "garagem",
         "type": "\"string\""
        }
       ],
       "type": "table"
      }
     },
     "output_type": "display_data"
    }
   ],
   "source": [
    "# Dataset viva real sp \n",
    "\n",
    "df_VR_SP = spark.table(\"bronze_imoveis.vivareal_sp\")\n",
    "\n",
    "display(df_VR_SP.printSchema)\n",
    "display(df_VR_SP.sample(.005))\n"
   ]
  },
  {
   "cell_type": "code",
   "execution_count": 0,
   "metadata": {
    "application/vnd.databricks.v1+cell": {
     "cellMetadata": {
      "byteLimit": 2048000,
      "rowLimit": 10000
     },
     "inputWidgets": {},
     "nuid": "d5163d01-6b10-4a46-80d4-f1e0eaf7b94a",
     "showTitle": false,
     "tableResultSettingsMap": {},
     "title": ""
    }
   },
   "outputs": [],
   "source": [
    "# Perform cleaning and transformations in dataframe viva real SP using Pyspark\n",
    "\n",
    "# Column preco\n",
    "df_VR_SP = df_VR_SP.withColumn('preco', regexp_extract(col('preco'), r'(\\d[\\d.]*)', 1))\n",
    "df_VR_SP = df_VR_SP.withColumn('preco', regexp_replace(col('preco'), r'\\.', '').cast('double'))\n",
    "\n",
    "# Column preco_condominio\n",
    "df_VR_SP = df_VR_SP.withColumn(\n",
    "    \"condominio\",\n",
    "    when((col(\"condominio\").isNotNull()) & (size(col(\"condominio\")) > 1), col(\"condominio\")[0]).otherwise(None)) # extract 1 part of a list\n",
    "\n",
    "df_VR_SP = df_VR_SP.withColumn(\n",
    "    \"condominio\",\n",
    "    regexp_extract(col(\"condominio\"), r\"(\\d[\\d\\.]*)\", 1)) # extract numerical part\n",
    "\n",
    "df_VR_SP = df_VR_SP.withColumn(\n",
    "    \"condominio\",\n",
    "    regexp_replace(col(\"condominio\"), r\"\\.\", \"\").cast(\"double\")) # replace separator and dtype) # replace separator and dtype\n",
    "\n",
    "# Column iptu\n",
    "df_VR_SP = df_VR_SP.withColumn(\n",
    "    \"iptu\",\n",
    "    when((col(\"iptu\").isNotNull()) & (size(col(\"iptu\")) > 1), col(\"iptu\")[1]).otherwise(None)) # extract 2 part of a list\n",
    "\n",
    "df_VR_SP = df_VR_SP.withColumn(\n",
    "    \"iptu\",\n",
    "    regexp_extract(col(\"iptu\"), r\"(\\d[\\d\\.]*)\", 1)) # extract numerical part\n",
    "\n",
    "df_VR_SP = df_VR_SP.withColumn(\n",
    "    \"iptu\",\n",
    "    regexp_replace(col(\"iptu\"), r\"\\.\", \"\").cast(\"double\")) # replace separator and dtype) # replace separator and dtype\n",
    "\n",
    "# Column area\n",
    "df_VR_SP = df_VR_SP.withColumn('area', regexp_extract(col('area'), r'(\\d[\\d]*)', 1))\n",
    "df_VR_SP = df_VR_SP.withColumn('area', col('area').cast('int'))\n",
    "\n",
    "# Column dormitorios, banheiros e garagem => change only dtypes\n",
    "# There are some values in the columns with the following format \"1-2\", create a function to extract only first element \n",
    "# Apply function and transform dtypes\n",
    "cols_to_transform = ['dormitorios', 'banheiros', 'garagem']\n",
    "\n",
    "for col_name in cols_to_transform:\n",
    "    df_VR_SP = df_VR_SP.withColumn(col_name, regexp_extract(col(col_name), r\"(\\d+)\", 1).cast(\"int\"))\n"
   ]
  },
  {
   "cell_type": "markdown",
   "metadata": {
    "application/vnd.databricks.v1+cell": {
     "cellMetadata": {},
     "inputWidgets": {},
     "nuid": "654cd83c-28e0-47e0-8e14-bac6cb513c66",
     "showTitle": false,
     "tableResultSettingsMap": {},
     "title": ""
    }
   },
   "source": [
    "#####Enrichment with cep info"
   ]
  },
  {
   "cell_type": "code",
   "execution_count": 0,
   "metadata": {
    "application/vnd.databricks.v1+cell": {
     "cellMetadata": {
      "byteLimit": 2048000,
      "rowLimit": 10000
     },
     "inputWidgets": {},
     "nuid": "678458ab-0e89-42e5-8274-501901d89672",
     "showTitle": false,
     "tableResultSettingsMap": {},
     "title": ""
    }
   },
   "outputs": [],
   "source": [
    "# Open cep_sp dataset from silver table\n",
    "\n",
    "df_cep_sp = spark.table(\"silver_aux.cep_sp\")\n"
   ]
  },
  {
   "cell_type": "code",
   "execution_count": 0,
   "metadata": {
    "application/vnd.databricks.v1+cell": {
     "cellMetadata": {
      "byteLimit": 2048000,
      "rowLimit": 10000
     },
     "inputWidgets": {},
     "nuid": "5957974c-3609-47c5-889c-28cb86d77f69",
     "showTitle": false,
     "tableResultSettingsMap": {},
     "title": ""
    }
   },
   "outputs": [],
   "source": [
    "# 1. Def function normalize: lower column names and remove blank spaces\n",
    "def normalizar_col(df, col_name):\n",
    "    return df.withColumn(col_name, trim(lower(col(col_name))))\n",
    "\n",
    "# Generate bairro column using title string\n",
    "df_VR_SP = df_VR_SP.withColumn(\"bairro\", regexp_extract(col(\"title\"), r\"^([^,]+),\", 1))\n",
    "\n",
    "# Apply function\n",
    "for col_name in [\"endereco\", \"bairro\"]:\n",
    "    df_VR_SP = normalizar_col(df_VR_SP, col_name)\n",
    "\n",
    "for col_name in [\"Logradouro\", \"Bairro\"]:\n",
    "    df_cep_sp = normalizar_col(df_cep_sp, col_name)\n"
   ]
  },
  {
   "cell_type": "code",
   "execution_count": 0,
   "metadata": {
    "application/vnd.databricks.v1+cell": {
     "cellMetadata": {
      "byteLimit": 2048000,
      "rowLimit": 10000
     },
     "inputWidgets": {},
     "nuid": "58a57119-bc70-4c69-ae56-18e9352cb630",
     "showTitle": false,
     "tableResultSettingsMap": {},
     "title": ""
    }
   },
   "outputs": [],
   "source": [
    "# 2. Rename endereco column in database\n",
    "df_VR_SP = df_VR_SP.withColumnRenamed(\"endereco\", \"Logradouro\")\n",
    "df_VR_SP = df_VR_SP.withColumnRenamed(\"bairro\", \"Bairro\")\n",
    "\n",
    "# 3. Convert CEP to string format (may contain 0 in thge beggining, not numerical format)\n",
    "df_cep_sp = df_cep_sp.withColumn(\"Cep\", col(\"Cep\").cast(StringType()))"
   ]
  },
  {
   "cell_type": "code",
   "execution_count": 0,
   "metadata": {
    "application/vnd.databricks.v1+cell": {
     "cellMetadata": {
      "byteLimit": 2048000,
      "rowLimit": 10000
     },
     "inputWidgets": {},
     "nuid": "4ece2e8e-0afc-4f86-9357-c9eabc10aee1",
     "showTitle": false,
     "tableResultSettingsMap": {},
     "title": ""
    }
   },
   "outputs": [],
   "source": [
    "# 4. Deduplicate CEP database (choose only one CEP for each logradouro + bairro)\n",
    "from pyspark.sql.window import Window\n",
    "from pyspark.sql.functions import row_number\n",
    "\n",
    "window_spec = Window.partitionBy(\"Logradouro\", \"Bairro\").orderBy(\"Cep\")\n",
    "df_cep_dedup = df_cep_sp.withColumn(\"rn\", row_number().over(window_spec)).filter(col(\"rn\") == 1).drop(\"rn\")\n"
   ]
  },
  {
   "cell_type": "code",
   "execution_count": 0,
   "metadata": {
    "application/vnd.databricks.v1+cell": {
     "cellMetadata": {
      "byteLimit": 2048000,
      "rowLimit": 10000
     },
     "inputWidgets": {},
     "nuid": "517a6755-5211-43ae-9455-1615557abc1f",
     "showTitle": false,
     "tableResultSettingsMap": {},
     "title": ""
    }
   },
   "outputs": [],
   "source": [
    "# 5. Main join using Logradouro + Bairro\n",
    "\n",
    "df_join = df_VR_SP.join(\n",
    "    df_cep_dedup.select(\"Logradouro\", \"Bairro\", \"Cep\"),\n",
    "    on=[\"Logradouro\", \"Bairro\"],\n",
    "    how=\"left\"\n",
    ").select(df_VR_SP[\"*\"], df_cep_dedup[\"Cep\"])  # avoid errors in column names\n"
   ]
  },
  {
   "cell_type": "code",
   "execution_count": 0,
   "metadata": {
    "application/vnd.databricks.v1+cell": {
     "cellMetadata": {
      "byteLimit": 2048000,
      "rowLimit": 10000
     },
     "inputWidgets": {},
     "nuid": "8df99e46-98fc-4458-aafa-37b992f8c8e2",
     "showTitle": false,
     "tableResultSettingsMap": {},
     "title": ""
    }
   },
   "outputs": [
    {
     "output_type": "stream",
     "name": "stdout",
     "output_type": "stream",
     "text": [
      "106"
     ]
    }
   ],
   "source": [
    "# 6. Filter not assigned CEP rows\n",
    "\n",
    "df_sem_cep = df_join.filter(col(\"Cep\").isNull())\n",
    "\n",
    "display(df_join.filter(col(\"Cep\").isNull()).count())"
   ]
  },
  {
   "cell_type": "code",
   "execution_count": 0,
   "metadata": {
    "application/vnd.databricks.v1+cell": {
     "cellMetadata": {
      "byteLimit": 2048000,
      "rowLimit": 10000
     },
     "inputWidgets": {},
     "nuid": "260a57da-fb22-41e3-a0b7-9d61807ed4e8",
     "showTitle": false,
     "tableResultSettingsMap": {},
     "title": ""
    }
   },
   "outputs": [],
   "source": [
    "# 7. Deduplicate cep data using only bairro to perform second fallback join\n",
    "df_cep_bairro = df_cep_dedup.dropDuplicates([\"Bairro\"]).select(\"Bairro\", \"Cep\")\n",
    "\n",
    "# Rename column cep to avoid errors\n",
    "df_cep_bairro = df_cep_bairro.withColumnRenamed(\"Cep\", \"Cep_fallback\")\n"
   ]
  },
  {
   "cell_type": "code",
   "execution_count": 0,
   "metadata": {
    "application/vnd.databricks.v1+cell": {
     "cellMetadata": {
      "byteLimit": 2048000,
      "rowLimit": 10000
     },
     "inputWidgets": {},
     "nuid": "30114986-831c-4b18-96c1-5e7560000cdc",
     "showTitle": false,
     "tableResultSettingsMap": {},
     "title": ""
    }
   },
   "outputs": [],
   "source": [
    "# 8. Fallback join using Bairro\n",
    "df_fallback = df_sem_cep.join(\n",
    "    df_cep_bairro,\n",
    "    on=\"Bairro\",\n",
    "    how=\"left\")\n",
    "    "
   ]
  },
  {
   "cell_type": "code",
   "execution_count": 0,
   "metadata": {
    "application/vnd.databricks.v1+cell": {
     "cellMetadata": {
      "byteLimit": 2048000,
      "rowLimit": 10000
     },
     "inputWidgets": {},
     "nuid": "a24978f4-9d82-4b4a-8e28-bfa1c130930d",
     "showTitle": false,
     "tableResultSettingsMap": {},
     "title": ""
    }
   },
   "outputs": [],
   "source": [
    "# Replace null values in column cep with cep fallback, then remove cep_fallback column\n",
    "# If column cep value equals to Null => replace with Cep_fallback, else keep original value\n",
    "\n",
    "df_fallback = df_fallback.withColumn(\"Cep\", coalesce(\"Cep\", \"Cep_fallback\")).drop(\"Cep_fallback\")\n"
   ]
  },
  {
   "cell_type": "code",
   "execution_count": 0,
   "metadata": {
    "application/vnd.databricks.v1+cell": {
     "cellMetadata": {
      "byteLimit": 2048000,
      "rowLimit": 10000
     },
     "inputWidgets": {},
     "nuid": "4f7f212e-f54f-467d-b45f-b848bba4d930",
     "showTitle": false,
     "tableResultSettingsMap": {},
     "title": ""
    }
   },
   "outputs": [],
   "source": [
    "# 9. Replace null CEP with fallback\n",
    "\n",
    "df_com_cep = df_join.filter(col(\"Cep\").isNotNull())\n",
    "\n",
    "df_apos_fallback = df_fallback.filter(col(\"Cep\").isNotNull())\n"
   ]
  },
  {
   "cell_type": "code",
   "execution_count": 0,
   "metadata": {
    "application/vnd.databricks.v1+cell": {
     "cellMetadata": {
      "byteLimit": 2048000,
      "rowLimit": 10000
     },
     "inputWidgets": {},
     "nuid": "0e03d6e1-97cc-4261-a7fa-e4f931a50d4c",
     "showTitle": false,
     "tableResultSettingsMap": {},
     "title": ""
    }
   },
   "outputs": [],
   "source": [
    "# 10. Perform final union (mkeep same schema/columns)\n",
    "\n",
    "df_final = df_com_cep.unionByName(df_apos_fallback)\n"
   ]
  },
  {
   "cell_type": "code",
   "execution_count": 0,
   "metadata": {
    "application/vnd.databricks.v1+cell": {
     "cellMetadata": {
      "byteLimit": 2048000,
      "rowLimit": 10000
     },
     "inputWidgets": {},
     "nuid": "7230c4cf-0157-4946-aab6-e1428ffb721b",
     "showTitle": false,
     "tableResultSettingsMap": {},
     "title": ""
    }
   },
   "outputs": [
    {
     "output_type": "stream",
     "name": "stdout",
     "output_type": "stream",
     "text": [
      "Total de imóveis: 1333\nImóveis sem CEP: 0\n"
     ]
    }
   ],
   "source": [
    "\n",
    "# 11. Check final results \n",
    "print(\"Total de imóveis:\", df_final.count())\n",
    "print(\"Imóveis sem CEP:\", df_final.filter(col(\"Cep\").isNull()).count())\n",
    "\n",
    "# Count ok!"
   ]
  },
  {
   "cell_type": "markdown",
   "metadata": {
    "application/vnd.databricks.v1+cell": {
     "cellMetadata": {},
     "inputWidgets": {},
     "nuid": "1631c716-947b-454a-98dc-4ce7fee4acf1",
     "showTitle": false,
     "tableResultSettingsMap": {},
     "title": ""
    }
   },
   "source": [
    "#####Save final dataset to table"
   ]
  },
  {
   "cell_type": "code",
   "execution_count": 0,
   "metadata": {
    "application/vnd.databricks.v1+cell": {
     "cellMetadata": {
      "byteLimit": 2048000,
      "rowLimit": 10000
     },
     "inputWidgets": {},
     "nuid": "b9f58c0b-da14-4117-8279-2f8861f2edec",
     "showTitle": false,
     "tableResultSettingsMap": {},
     "title": ""
    }
   },
   "outputs": [],
   "source": [
    "# Apply Id function\n",
    "\n",
    "df_final = adicionar_id_imovel(df_final, 1101, nome_coluna=\"ID_imovel\")"
   ]
  },
  {
   "cell_type": "code",
   "execution_count": 0,
   "metadata": {
    "application/vnd.databricks.v1+cell": {
     "cellMetadata": {
      "byteLimit": 2048000,
      "rowLimit": 10000
     },
     "inputWidgets": {},
     "nuid": "5561a015-9c3e-4374-b982-8552316b559e",
     "showTitle": false,
     "tableResultSettingsMap": {},
     "title": ""
    }
   },
   "outputs": [],
   "source": [
    "# Map columns to schema\n",
    "column_mapping = {\n",
    "    'ID_imovel': 'ID_imovel',\n",
    "    'link': 'Link',\n",
    "    'title':  'Titulo',\n",
    "    'Bairro': 'Bairro',\n",
    "    'Cep': 'Cep',\n",
    "    'Logradouro': 'Endereco',\n",
    "    'preco': 'Preco',\n",
    "    'condominio': 'Condominio',\n",
    "    'iptu': 'IPTU',\n",
    "    'area': 'Area', \n",
    "    'dormitorios': 'Dormitorios',\n",
    "    'banheiros': 'Banheiros',\n",
    "    'garagem': 'Garagem',\n",
    "}\n",
    "\n",
    "# Renaming columns in the DataFrame using Pyspark\n",
    "for old_name, new_name in column_mapping.items():\n",
    "    df_final = df_final.withColumnRenamed(old_name, new_name)\n",
    "\n",
    "# Reorder the columns\n",
    "esquema= ['ID_imovel', 'Link', 'Titulo', 'Endereco', 'Bairro', 'Cep', 'Preco', 'Condominio', 'Iptu', 'Area', 'Dormitorios', 'Banheiros', 'Garagem']\n",
    "\n",
    "df_final = df_final.select(esquema)"
   ]
  },
  {
   "cell_type": "code",
   "execution_count": 0,
   "metadata": {
    "application/vnd.databricks.v1+cell": {
     "cellMetadata": {
      "byteLimit": 2048000,
      "rowLimit": 10000
     },
     "inputWidgets": {},
     "nuid": "7c231af3-60c2-4427-9a87-2a139a0bc970",
     "showTitle": false,
     "tableResultSettingsMap": {},
     "title": ""
    }
   },
   "outputs": [
    {
     "output_type": "display_data",
     "data": {
      "text/html": [
       "<style scoped>\n",
       "  .table-result-container {\n",
       "    max-height: 300px;\n",
       "    overflow: auto;\n",
       "  }\n",
       "  table, th, td {\n",
       "    border: 1px solid black;\n",
       "    border-collapse: collapse;\n",
       "  }\n",
       "  th, td {\n",
       "    padding: 5px;\n",
       "  }\n",
       "  th {\n",
       "    text-align: left;\n",
       "  }\n",
       "</style><div class='table-result-container'><table class='table-result'><thead style='background-color: white'><tr><th>ID_imovel</th><th>Link</th><th>Titulo</th><th>Endereco</th><th>Bairro</th><th>Cep</th><th>Preco</th><th>Condominio</th><th>Iptu</th><th>Area</th><th>Dormitorios</th><th>Banheiros</th><th>Garagem</th></tr></thead><tbody><tr><td>11010168</td><td>https://www.vivareal.com.br/imovel/apartamento-1-quartos-agua-branca-sao-paulo-40m2-aluguel-RS2700-id-2694624380/</td><td>Água Branca, São Paulo</td><td>rua carlos vicari</td><td>água branca</td><td>05033070</td><td>2700.0</td><td>200.0</td><td>100.0</td><td>40</td><td>1</td><td>1</td><td>null</td></tr><tr><td>11010295</td><td>https://www.vivareal.com.br/imovel/apartamento-1-quartos-agua-branca-zona-oeste-sao-paulo-30m2-aluguel-RS2500-id-2698341789/</td><td>Água Branca, São Paulo</td><td>rua guaicurus</td><td>água branca</td><td>05033000</td><td>2500.0</td><td>400.0</td><td>80.0</td><td>30</td><td>1</td><td>1</td><td>null</td></tr><tr><td>11010314</td><td>https://www.vivareal.com.br/imovel/apartamento-3-quartos-sumarezinho-sao-paulo-com-garagem-110m2-aluguel-RS4800-id-2789516657/</td><td>Sumarezinho, São Paulo</td><td>rua harmonia</td><td>sumarezinho</td><td>05435000</td><td>4800.0</td><td>2100.0</td><td>480.0</td><td>110</td><td>3</td><td>3</td><td>2</td></tr><tr><td>11010499</td><td>null</td><td>Jardim Europa, São Paulo</td><td>rua seridó</td><td>jardim europa</td><td>01455040</td><td>100000.0</td><td>6938.0</td><td>6354.0</td><td>412</td><td>3</td><td>5</td><td>5</td></tr><tr><td>11010772</td><td>https://www.vivareal.com.br/imovel/apartamento-1-quartos-pinheiros-zona-oeste-sao-paulo-37m2-aluguel-RS4099-id-2778442016/</td><td>Pinheiros, São Paulo</td><td>rua capote valente</td><td>pinheiros</td><td>05409000</td><td>4099.0</td><td>749.0</td><td>151.0</td><td>37</td><td>1</td><td>1</td><td>null</td></tr><tr><td>11011085</td><td>https://www.vivareal.com.br/imovel/apartamento-3-quartos-vila-leopoldina-sao-paulo-com-garagem-143m2-venda-RS2200000-id-2784244223/</td><td>Vila Leopoldina, São Paulo</td><td>rua mergenthaler</td><td>vila leopoldina</td><td>05311030</td><td>12000.0</td><td>2200.0</td><td>1000.0</td><td>143</td><td>3</td><td>4</td><td>2</td></tr><tr><td>11011089</td><td>https://www.vivareal.com.br/imovel/apartamento-1-quartos-perdizes-zona-oeste-sao-paulo-com-garagem-41m2-aluguel-RS4400-id-2792084426/</td><td>Perdizes, São Paulo</td><td>rua minerva</td><td>perdizes</td><td>05007030</td><td>4400.0</td><td>400.0</td><td>59.0</td><td>41</td><td>1</td><td>1</td><td>1</td></tr><tr><td>11011107</td><td>https://www.vivareal.com.br/imovel/apartamento-2-quartos-perdizes-sao-paulo-com-garagem-80m2-aluguel-RS7500-id-2790778319/</td><td>Perdizes, São Paulo</td><td>rua monte alegre</td><td>perdizes</td><td>05014000</td><td>7500.0</td><td>2000.0</td><td>560.0</td><td>80</td><td>2</td><td>2</td><td>2</td></tr><tr><td>11011137</td><td>https://www.vivareal.com.br/imovel/apartamento-1-quartos-pinheiros-sao-paulo-com-garagem-40m2-aluguel-RS4855-id-2644263613/</td><td>Pinheiros, São Paulo</td><td>rua padre carvalho</td><td>pinheiros</td><td>05427020</td><td>4855.0</td><td>1068.0</td><td>257.0</td><td>40</td><td>1</td><td>1</td><td>1</td></tr></tbody></table></div>"
      ]
     },
     "metadata": {
      "application/vnd.databricks.v1+output": {
       "addedWidgets": {},
       "aggData": [],
       "aggError": "",
       "aggOverflow": false,
       "aggSchema": [],
       "aggSeriesLimitReached": false,
       "aggType": "",
       "arguments": {},
       "columnCustomDisplayInfos": {},
       "data": [
        [
         "11010168",
         "https://www.vivareal.com.br/imovel/apartamento-1-quartos-agua-branca-sao-paulo-40m2-aluguel-RS2700-id-2694624380/",
         "Água Branca, São Paulo",
         "rua carlos vicari",
         "água branca",
         "05033070",
         2700.0,
         200.0,
         100.0,
         40,
         1,
         1,
         null
        ],
        [
         "11010295",
         "https://www.vivareal.com.br/imovel/apartamento-1-quartos-agua-branca-zona-oeste-sao-paulo-30m2-aluguel-RS2500-id-2698341789/",
         "Água Branca, São Paulo",
         "rua guaicurus",
         "água branca",
         "05033000",
         2500.0,
         400.0,
         80.0,
         30,
         1,
         1,
         null
        ],
        [
         "11010314",
         "https://www.vivareal.com.br/imovel/apartamento-3-quartos-sumarezinho-sao-paulo-com-garagem-110m2-aluguel-RS4800-id-2789516657/",
         "Sumarezinho, São Paulo",
         "rua harmonia",
         "sumarezinho",
         "05435000",
         4800.0,
         2100.0,
         480.0,
         110,
         3,
         3,
         2
        ],
        [
         "11010499",
         null,
         "Jardim Europa, São Paulo",
         "rua seridó",
         "jardim europa",
         "01455040",
         100000.0,
         6938.0,
         6354.0,
         412,
         3,
         5,
         5
        ],
        [
         "11010772",
         "https://www.vivareal.com.br/imovel/apartamento-1-quartos-pinheiros-zona-oeste-sao-paulo-37m2-aluguel-RS4099-id-2778442016/",
         "Pinheiros, São Paulo",
         "rua capote valente",
         "pinheiros",
         "05409000",
         4099.0,
         749.0,
         151.0,
         37,
         1,
         1,
         null
        ],
        [
         "11011085",
         "https://www.vivareal.com.br/imovel/apartamento-3-quartos-vila-leopoldina-sao-paulo-com-garagem-143m2-venda-RS2200000-id-2784244223/",
         "Vila Leopoldina, São Paulo",
         "rua mergenthaler",
         "vila leopoldina",
         "05311030",
         12000.0,
         2200.0,
         1000.0,
         143,
         3,
         4,
         2
        ],
        [
         "11011089",
         "https://www.vivareal.com.br/imovel/apartamento-1-quartos-perdizes-zona-oeste-sao-paulo-com-garagem-41m2-aluguel-RS4400-id-2792084426/",
         "Perdizes, São Paulo",
         "rua minerva",
         "perdizes",
         "05007030",
         4400.0,
         400.0,
         59.0,
         41,
         1,
         1,
         1
        ],
        [
         "11011107",
         "https://www.vivareal.com.br/imovel/apartamento-2-quartos-perdizes-sao-paulo-com-garagem-80m2-aluguel-RS7500-id-2790778319/",
         "Perdizes, São Paulo",
         "rua monte alegre",
         "perdizes",
         "05014000",
         7500.0,
         2000.0,
         560.0,
         80,
         2,
         2,
         2
        ],
        [
         "11011137",
         "https://www.vivareal.com.br/imovel/apartamento-1-quartos-pinheiros-sao-paulo-com-garagem-40m2-aluguel-RS4855-id-2644263613/",
         "Pinheiros, São Paulo",
         "rua padre carvalho",
         "pinheiros",
         "05427020",
         4855.0,
         1068.0,
         257.0,
         40,
         1,
         1,
         1
        ]
       ],
       "datasetInfos": [],
       "dbfsResultPath": null,
       "isJsonSchema": true,
       "metadata": {},
       "overflow": false,
       "plotOptions": {
        "customPlotOptions": {},
        "displayType": "table",
        "pivotAggregation": null,
        "pivotColumns": null,
        "xColumns": null,
        "yColumns": null
       },
       "removedWidgets": [],
       "schema": [
        {
         "metadata": "{}",
         "name": "ID_imovel",
         "type": "\"string\""
        },
        {
         "metadata": "{}",
         "name": "Link",
         "type": "\"string\""
        },
        {
         "metadata": "{}",
         "name": "Titulo",
         "type": "\"string\""
        },
        {
         "metadata": "{}",
         "name": "Endereco",
         "type": "\"string\""
        },
        {
         "metadata": "{}",
         "name": "Bairro",
         "type": "\"string\""
        },
        {
         "metadata": "{}",
         "name": "Cep",
         "type": "\"string\""
        },
        {
         "metadata": "{}",
         "name": "Preco",
         "type": "\"double\""
        },
        {
         "metadata": "{}",
         "name": "Condominio",
         "type": "\"double\""
        },
        {
         "metadata": "{}",
         "name": "Iptu",
         "type": "\"double\""
        },
        {
         "metadata": "{}",
         "name": "Area",
         "type": "\"integer\""
        },
        {
         "metadata": "{}",
         "name": "Dormitorios",
         "type": "\"integer\""
        },
        {
         "metadata": "{}",
         "name": "Banheiros",
         "type": "\"integer\""
        },
        {
         "metadata": "{}",
         "name": "Garagem",
         "type": "\"integer\""
        }
       ],
       "type": "table"
      }
     },
     "output_type": "display_data"
    }
   ],
   "source": [
    "display(df_final.sample(.01))"
   ]
  },
  {
   "cell_type": "code",
   "execution_count": 0,
   "metadata": {
    "application/vnd.databricks.v1+cell": {
     "cellMetadata": {
      "byteLimit": 2048000,
      "rowLimit": 10000
     },
     "inputWidgets": {},
     "nuid": "9ba975df-f440-4593-a452-086802336b82",
     "showTitle": false,
     "tableResultSettingsMap": {},
     "title": ""
    }
   },
   "outputs": [
    {
     "output_type": "stream",
     "name": "stdout",
     "output_type": "stream",
     "text": [
      "+-----------------------------+-------+----+\n|Endereco                     |Preco  |qtde|\n+-----------------------------+-------+----+\n|rua benedito branco de abreu |2100.0 |9   |\n|rua minerva                  |4400.0 |7   |\n|null                         |10000.0|7   |\n|rua harmonia                 |3800.0 |5   |\n|rua cândido fontoura         |1500.0 |5   |\n|rua aimberê                  |8496.0 |5   |\n|rua da consolação            |8100.0 |5   |\n|rua ministro godói           |3000.0 |4   |\n|rua alves guimarães          |4500.0 |4   |\n|rua doutor augusto de miranda|1800.0 |4   |\n|rua carlos weber             |8000.0 |4   |\n|rua guaipá                   |3100.0 |4   |\n|rua roma                     |3750.0 |4   |\n|rua joão ramalho             |5496.0 |4   |\n|rua doutor franco da rocha   |2000.0 |4   |\n|rua benedito branco de abreu |1800.0 |4   |\n|null                         |3000.0 |4   |\n|rua mourato coelho           |6998.0 |3   |\n|rua guaicurus                |2500.0 |3   |\n|rua pais leme                |9197.0 |3   |\n+-----------------------------+-------+----+\nonly showing top 20 rows\n\n"
     ]
    }
   ],
   "source": [
    "# Verify duplicates, if endereco e preco is the same, hence i can consider row as duplicated\n",
    "\n",
    "df_final.groupBy(\"Endereco\", \"Preco\") \\\n",
    "    .agg(count(\"*\").alias(\"qtde\")) \\\n",
    "    .filter(col(\"qtde\") > 1) \\\n",
    "    .orderBy(col(\"qtde\").desc()) \\\n",
    "    .show(truncate=False)\n"
   ]
  },
  {
   "cell_type": "code",
   "execution_count": 0,
   "metadata": {
    "application/vnd.databricks.v1+cell": {
     "cellMetadata": {
      "byteLimit": 2048000,
      "rowLimit": 10000
     },
     "inputWidgets": {},
     "nuid": "77281056-767e-45b2-815e-61991e7bf0dd",
     "showTitle": false,
     "tableResultSettingsMap": {},
     "title": ""
    }
   },
   "outputs": [
    {
     "output_type": "stream",
     "name": "stdout",
     "output_type": "stream",
     "text": [
      "Total de combinações duplicadas: 177\n"
     ]
    }
   ],
   "source": [
    "# Count duplicated rows\n",
    "duplicates = df_final.groupBy(\"Endereco\", \"Preco\") \\\n",
    "    .agg(count(\"*\").alias(\"qtde\")) \\\n",
    "    .filter(col(\"qtde\") > 1)\n",
    "\n",
    "print(\"Total de combinações duplicadas:\", duplicates.count())"
   ]
  },
  {
   "cell_type": "code",
   "execution_count": 0,
   "metadata": {
    "application/vnd.databricks.v1+cell": {
     "cellMetadata": {
      "byteLimit": 2048000,
      "rowLimit": 10000
     },
     "inputWidgets": {},
     "nuid": "50d92afb-1bed-4265-b866-16383cd87bf4",
     "showTitle": false,
     "tableResultSettingsMap": {},
     "title": ""
    }
   },
   "outputs": [],
   "source": [
    "# Drop duplicates\n",
    "df_final = df_final.dropDuplicates([\"Endereco\", \"Preco\"])"
   ]
  },
  {
   "cell_type": "code",
   "execution_count": 0,
   "metadata": {
    "application/vnd.databricks.v1+cell": {
     "cellMetadata": {
      "byteLimit": 2048000,
      "rowLimit": 10000
     },
     "inputWidgets": {},
     "nuid": "7c062170-bb56-4c45-b0f3-a4eeda95943d",
     "showTitle": false,
     "tableResultSettingsMap": {},
     "title": ""
    }
   },
   "outputs": [
    {
     "output_type": "stream",
     "name": "stdout",
     "output_type": "stream",
     "text": [
      "1065\n"
     ]
    }
   ],
   "source": [
    "print(df_final.count()) # Finished with 1065 rows of data"
   ]
  },
  {
   "cell_type": "code",
   "execution_count": 0,
   "metadata": {
    "application/vnd.databricks.v1+cell": {
     "cellMetadata": {
      "byteLimit": 2048000,
      "rowLimit": 10000
     },
     "inputWidgets": {},
     "nuid": "3b0c9f00-2eda-4a76-a869-819190c0eb0e",
     "showTitle": false,
     "tableResultSettingsMap": {},
     "title": ""
    }
   },
   "outputs": [],
   "source": [
    "# Saving delta table in silver_imoveis database\n",
    "\n",
    "tabela = \"silver_imoveis.vivareal_sp\"\n",
    "\n",
    "if spark._jsparkSession.catalog().tableExists(tabela):\n",
    "    spark.sql(f\"DROP TABLE {tabela}\")\n",
    "\n",
    "# Delete metadata after dropping table(if it exists)\n",
    "dbutils.fs.rm(\"dbfs:/user/hive/warehouse/silver_imoveis.db/vivareal_sp\", recurse=True) \n",
    "\n",
    "# Write table in delta format\n",
    "df_final.write.format(\"delta\").mode(\"overwrite\").option(\"mergeSchema\", 'true').saveAsTable(\"silver_imoveis.vivareal_sp\")\n"
   ]
  },
  {
   "cell_type": "markdown",
   "metadata": {
    "application/vnd.databricks.v1+cell": {
     "cellMetadata": {
      "byteLimit": 2048000,
      "rowLimit": 10000
     },
     "inputWidgets": {},
     "nuid": "fac67a1b-cfcd-4850-9678-4c53e55177d1",
     "showTitle": false,
     "tableResultSettingsMap": {},
     "title": ""
    }
   },
   "source": [
    "####OLX Rio"
   ]
  },
  {
   "cell_type": "code",
   "execution_count": 0,
   "metadata": {
    "application/vnd.databricks.v1+cell": {
     "cellMetadata": {
      "byteLimit": 2048000,
      "rowLimit": 10000
     },
     "inputWidgets": {},
     "nuid": "56927480-586c-442f-b3b8-14b876dc0714",
     "showTitle": false,
     "tableResultSettingsMap": {},
     "title": ""
    }
   },
   "outputs": [
    {
     "output_type": "stream",
     "name": "stdout",
     "output_type": "stream",
     "text": [
      "<bound method DataFrame.printSchema of DataFrame[titulo: string, preco_aluguel: string, localizacao: string, bairro: string, area: string, iptu: string, preco_condominio: string, quartos: string, banheiros: string, garagem: string]>"
     ]
    },
    {
     "output_type": "display_data",
     "data": {
      "text/html": [
       "<style scoped>\n",
       "  .table-result-container {\n",
       "    max-height: 300px;\n",
       "    overflow: auto;\n",
       "  }\n",
       "  table, th, td {\n",
       "    border: 1px solid black;\n",
       "    border-collapse: collapse;\n",
       "  }\n",
       "  th, td {\n",
       "    padding: 5px;\n",
       "  }\n",
       "  th {\n",
       "    text-align: left;\n",
       "  }\n",
       "</style><div class='table-result-container'><table class='table-result'><thead style='background-color: white'><tr><th>titulo</th><th>preco_aluguel</th><th>localizacao</th><th>bairro</th><th>area</th><th>iptu</th><th>preco_condominio</th><th>quartos</th><th>banheiros</th><th>garagem</th></tr></thead><tbody><tr><td>Cobertura - Triplex / Residencial / Ipanema</td><td>R$ 25.000</td><td>Rio de Janeiro, Ipanema</td><td>Ipanema</td><td>500m²</td><td>R$ 2.850</td><td>R$ 9.500</td><td>5 ou mais</td><td>5 ou mais</td><td>4</td></tr><tr><td>Apartamento para Locação em Rio De Janeiro, Botafogo, 4 dormitórios, 2 suítes, 3 banheiros</td><td>R$ 4.500</td><td>Rio de Janeiro, Botafogo</td><td>Botafogo</td><td>200m²</td><td>R$ 436</td><td>R$ 2.050</td><td>4</td><td>3</td><td>0</td></tr><tr><td>357 m² Oportunidade. Amplo apartamento de frente com 2 vagas.</td><td>R$ 20.000</td><td>Rio de Janeiro, Ipanema</td><td>Ipanema</td><td>357m²</td><td>R$ 18.590</td><td>R$ 2.800</td><td>4</td><td>4</td><td>2</td></tr><tr><td>POSTO 6 DE COPACABANA, 3 QUARTOS , REFORMADO!</td><td>R$ 10.000</td><td>Rio de Janeiro, Copacabana</td><td>Copacabana</td><td>76m²</td><td>R$ 336</td><td>R$ 1.500</td><td>3</td><td>3</td><td>null</td></tr><tr><td>Copacabana!!! 3 quartos com 3 vagas, próximo ao metrô e praia.</td><td>R$ 8.000</td><td>Rio de Janeiro, Copacabana</td><td>Copacabana</td><td>212m²</td><td>R$ 937</td><td>R$ 3.198</td><td>3</td><td>4</td><td>3</td></tr><tr><td>null</td><td>null</td><td>null</td><td>null</td><td>null</td><td>null</td><td>null</td><td>null</td><td>null</td><td>null</td></tr><tr><td>Apartamento venda ou locação Quartos em Botafogo, Rio de Janeiro</td><td>R$ 6.200</td><td>Rio de Janeiro, Humaitá</td><td>Humaitá</td><td>105m²</td><td>R$ 5.272</td><td>R$ 1.100</td><td>3</td><td>3</td><td>2</td></tr><tr><td>Apartamento / Residencial / Leblon</td><td>R$ 11.000</td><td>Rio de Janeiro, Leblon</td><td>Leblon</td><td>118m²</td><td>R$ 814</td><td>R$ 3.000</td><td>3</td><td>4</td><td>2</td></tr><tr><td>Casa Comercial</td><td>R$ 20.000</td><td>Rio de Janeiro, Botafogo</td><td>Botafogo</td><td>457m²</td><td>R$ 47.870</td><td>R$ 0</td><td>5 ou mais</td><td>5 ou mais</td><td>3</td></tr><tr><td>EXCELENTE CASA NA LADEIRA DO ASCURRA - 04 QUARTOS - COSME VELHO</td><td>R$ 9.500</td><td>Rio de Janeiro, Cosme Velho</td><td>Cosme Velho</td><td>254m²</td><td>R$ 324</td><td>R$ 0</td><td>4</td><td>3</td><td>1</td></tr><tr><td>Cobertura Reformada com Vista Verde e Mar</td><td>R$ 25.000</td><td>Rio de Janeiro, Ipanema</td><td>Ipanema</td><td>533m²</td><td>R$ 2.850</td><td>R$ 9.500</td><td>5 ou mais</td><td>5 ou mais</td><td>2</td></tr><tr><td>BOTAFOGO | REFORMADO | CONJUGADO | ALUGUEL</td><td>R$ 2.600</td><td>Rio de Janeiro, Botafogo</td><td>Botafogo</td><td>24m²</td><td>R$ 0</td><td>R$ 420</td><td>1</td><td>1</td><td>null</td></tr><tr><td>null</td><td>null</td><td>null</td><td>null</td><td>null</td><td>null</td><td>null</td><td>null</td><td>null</td><td>null</td></tr><tr><td>Apartamento à venda, Ipanema, Rio de Janeiro, RJ</td><td>R$ 22.000</td><td>Rio de Janeiro, Ipanema</td><td>Ipanema</td><td>180m²</td><td>R$ 1.790</td><td>R$ 5.500</td><td>3</td><td>4</td><td>2</td></tr><tr><td>Apartamento com 3 dormitórios para alugar, 120 m² por R$ 30.317,40/mês - Ipanema - Rio de </td><td>R$ 27.000</td><td>Rio de Janeiro, Ipanema</td><td>Ipanema</td><td>120m²</td><td>R$ 762</td><td>R$ 2.555</td><td>3</td><td>3</td><td>2</td></tr><tr><td>Apartamento - / Residencial / Ipanema</td><td>R$ 21.000</td><td>Rio de Janeiro, Ipanema</td><td>Ipanema</td><td>180m²</td><td>R$ 1.700</td><td>R$ 5.500</td><td>3</td><td>4</td><td>2</td></tr><tr><td>Imóvel para aluguel possui 43 metros quadrados com 1 quarto em Copacabana - Rio de Janeiro</td><td>R$ 4.000</td><td>Rio de Janeiro, Copacabana</td><td>Copacabana</td><td>43m²</td><td>R$ 316</td><td>R$ 913</td><td>1</td><td>1</td><td>null</td></tr><tr><td>Apartamento 4 Quartos para Locação em Rio de Janeiro, Ipanema, 4 dormitórios, 1 suíte, 3 b</td><td>R$ 14.000</td><td>Rio de Janeiro, Copacabana</td><td>Copacabana</td><td>180m²</td><td>R$ 850</td><td>R$ 3.400</td><td>4</td><td>3</td><td>1</td></tr><tr><td>Rua Silveira Martins, 128</td><td>R$ 2.500</td><td>Rio de Janeiro, Flamengo</td><td>Flamengo</td><td>41m²</td><td>R$ 107</td><td>R$ 620</td><td>1</td><td>1</td><td>0</td></tr><tr><td>Apartamento no Flamengo!</td><td>R$ 2.500</td><td>Rio de Janeiro, Flamengo</td><td>Flamengo</td><td>33m²</td><td>R$ 950</td><td>R$ 570</td><td>1</td><td>1</td><td>0</td></tr><tr><td>Apartamento com 4 dormitórios para alugar, 220 m² por R$ 35.270,00/mês - Leblon - Rio de J</td><td>R$ 29.500</td><td>Rio de Janeiro, Leblon</td><td>Leblon</td><td>220m²</td><td>R$ 1.800</td><td>R$ 3.970</td><td>4</td><td>3</td><td>3</td></tr><tr><td>APARTAMENTO EM COPACABANA, IMAGINE ACORDAR E SER RECEBIDO POR UMA VISTA INCRÍVEL DIRETO DO</td><td>R$ 3.355</td><td>Rio de Janeiro, Copacabana</td><td>Copacabana</td><td>71m²</td><td>R$ 427</td><td>R$ 2.218</td><td>1</td><td>1</td><td>1</td></tr><tr><td>APARTAMENTO TRÊS QUARTOS PARA ALUGAR EM COPACABANA.APARTAMENTO TRÊS QUARTOS PARA ALUGAR EM</td><td>R$ 6.500</td><td>Rio de Janeiro, Copacabana</td><td>Copacabana</td><td>158m²</td><td>R$ 586</td><td>R$ 1.280</td><td>3</td><td>2</td><td>null</td></tr><tr><td>Apartamento de 4 quartos para alugar, 200 m² por R$ 21.000/mês - Ipanema - Rio de Janeiro/</td><td>R$ 21.000</td><td>Rio de Janeiro, Ipanema</td><td>Ipanema</td><td>200m²</td><td>R$ 1.612</td><td>R$ 4.729</td><td>4</td><td>4</td><td>3</td></tr></tbody></table></div>"
      ]
     },
     "metadata": {
      "application/vnd.databricks.v1+output": {
       "addedWidgets": {},
       "aggData": [],
       "aggError": "",
       "aggOverflow": false,
       "aggSchema": [],
       "aggSeriesLimitReached": false,
       "aggType": "",
       "arguments": {},
       "columnCustomDisplayInfos": {},
       "data": [
        [
         "Cobertura - Triplex / Residencial / Ipanema",
         "R$ 25.000",
         "Rio de Janeiro, Ipanema",
         "Ipanema",
         "500m²",
         "R$ 2.850",
         "R$ 9.500",
         "5 ou mais",
         "5 ou mais",
         "4"
        ],
        [
         "Apartamento para Locação em Rio De Janeiro, Botafogo, 4 dormitórios, 2 suítes, 3 banheiros",
         "R$ 4.500",
         "Rio de Janeiro, Botafogo",
         "Botafogo",
         "200m²",
         "R$ 436",
         "R$ 2.050",
         "4",
         "3",
         "0"
        ],
        [
         "357 m² Oportunidade. Amplo apartamento de frente com 2 vagas.",
         "R$ 20.000",
         "Rio de Janeiro, Ipanema",
         "Ipanema",
         "357m²",
         "R$ 18.590",
         "R$ 2.800",
         "4",
         "4",
         "2"
        ],
        [
         "POSTO 6 DE COPACABANA, 3 QUARTOS , REFORMADO!",
         "R$ 10.000",
         "Rio de Janeiro, Copacabana",
         "Copacabana",
         "76m²",
         "R$ 336",
         "R$ 1.500",
         "3",
         "3",
         null
        ],
        [
         "Copacabana!!! 3 quartos com 3 vagas, próximo ao metrô e praia.",
         "R$ 8.000",
         "Rio de Janeiro, Copacabana",
         "Copacabana",
         "212m²",
         "R$ 937",
         "R$ 3.198",
         "3",
         "4",
         "3"
        ],
        [
         null,
         null,
         null,
         null,
         null,
         null,
         null,
         null,
         null,
         null
        ],
        [
         "Apartamento venda ou locação Quartos em Botafogo, Rio de Janeiro",
         "R$ 6.200",
         "Rio de Janeiro, Humaitá",
         "Humaitá",
         "105m²",
         "R$ 5.272",
         "R$ 1.100",
         "3",
         "3",
         "2"
        ],
        [
         "Apartamento / Residencial / Leblon",
         "R$ 11.000",
         "Rio de Janeiro, Leblon",
         "Leblon",
         "118m²",
         "R$ 814",
         "R$ 3.000",
         "3",
         "4",
         "2"
        ],
        [
         "Casa Comercial",
         "R$ 20.000",
         "Rio de Janeiro, Botafogo",
         "Botafogo",
         "457m²",
         "R$ 47.870",
         "R$ 0",
         "5 ou mais",
         "5 ou mais",
         "3"
        ],
        [
         "EXCELENTE CASA NA LADEIRA DO ASCURRA - 04 QUARTOS - COSME VELHO",
         "R$ 9.500",
         "Rio de Janeiro, Cosme Velho",
         "Cosme Velho",
         "254m²",
         "R$ 324",
         "R$ 0",
         "4",
         "3",
         "1"
        ],
        [
         "Cobertura Reformada com Vista Verde e Mar",
         "R$ 25.000",
         "Rio de Janeiro, Ipanema",
         "Ipanema",
         "533m²",
         "R$ 2.850",
         "R$ 9.500",
         "5 ou mais",
         "5 ou mais",
         "2"
        ],
        [
         "BOTAFOGO | REFORMADO | CONJUGADO | ALUGUEL",
         "R$ 2.600",
         "Rio de Janeiro, Botafogo",
         "Botafogo",
         "24m²",
         "R$ 0",
         "R$ 420",
         "1",
         "1",
         null
        ],
        [
         null,
         null,
         null,
         null,
         null,
         null,
         null,
         null,
         null,
         null
        ],
        [
         "Apartamento à venda, Ipanema, Rio de Janeiro, RJ",
         "R$ 22.000",
         "Rio de Janeiro, Ipanema",
         "Ipanema",
         "180m²",
         "R$ 1.790",
         "R$ 5.500",
         "3",
         "4",
         "2"
        ],
        [
         "Apartamento com 3 dormitórios para alugar, 120 m² por R$ 30.317,40/mês - Ipanema - Rio de ",
         "R$ 27.000",
         "Rio de Janeiro, Ipanema",
         "Ipanema",
         "120m²",
         "R$ 762",
         "R$ 2.555",
         "3",
         "3",
         "2"
        ],
        [
         "Apartamento - / Residencial / Ipanema",
         "R$ 21.000",
         "Rio de Janeiro, Ipanema",
         "Ipanema",
         "180m²",
         "R$ 1.700",
         "R$ 5.500",
         "3",
         "4",
         "2"
        ],
        [
         "Imóvel para aluguel possui 43 metros quadrados com 1 quarto em Copacabana - Rio de Janeiro",
         "R$ 4.000",
         "Rio de Janeiro, Copacabana",
         "Copacabana",
         "43m²",
         "R$ 316",
         "R$ 913",
         "1",
         "1",
         null
        ],
        [
         "Apartamento 4 Quartos para Locação em Rio de Janeiro, Ipanema, 4 dormitórios, 1 suíte, 3 b",
         "R$ 14.000",
         "Rio de Janeiro, Copacabana",
         "Copacabana",
         "180m²",
         "R$ 850",
         "R$ 3.400",
         "4",
         "3",
         "1"
        ],
        [
         "Rua Silveira Martins, 128",
         "R$ 2.500",
         "Rio de Janeiro, Flamengo",
         "Flamengo",
         "41m²",
         "R$ 107",
         "R$ 620",
         "1",
         "1",
         "0"
        ],
        [
         "Apartamento no Flamengo!",
         "R$ 2.500",
         "Rio de Janeiro, Flamengo",
         "Flamengo",
         "33m²",
         "R$ 950",
         "R$ 570",
         "1",
         "1",
         "0"
        ],
        [
         "Apartamento com 4 dormitórios para alugar, 220 m² por R$ 35.270,00/mês - Leblon - Rio de J",
         "R$ 29.500",
         "Rio de Janeiro, Leblon",
         "Leblon",
         "220m²",
         "R$ 1.800",
         "R$ 3.970",
         "4",
         "3",
         "3"
        ],
        [
         "APARTAMENTO EM COPACABANA, IMAGINE ACORDAR E SER RECEBIDO POR UMA VISTA INCRÍVEL DIRETO DO",
         "R$ 3.355",
         "Rio de Janeiro, Copacabana",
         "Copacabana",
         "71m²",
         "R$ 427",
         "R$ 2.218",
         "1",
         "1",
         "1"
        ],
        [
         "APARTAMENTO TRÊS QUARTOS PARA ALUGAR EM COPACABANA.APARTAMENTO TRÊS QUARTOS PARA ALUGAR EM",
         "R$ 6.500",
         "Rio de Janeiro, Copacabana",
         "Copacabana",
         "158m²",
         "R$ 586",
         "R$ 1.280",
         "3",
         "2",
         null
        ],
        [
         "Apartamento de 4 quartos para alugar, 200 m² por R$ 21.000/mês - Ipanema - Rio de Janeiro/",
         "R$ 21.000",
         "Rio de Janeiro, Ipanema",
         "Ipanema",
         "200m²",
         "R$ 1.612",
         "R$ 4.729",
         "4",
         "4",
         "3"
        ]
       ],
       "datasetInfos": [],
       "dbfsResultPath": null,
       "isJsonSchema": true,
       "metadata": {},
       "overflow": false,
       "plotOptions": {
        "customPlotOptions": {},
        "displayType": "table",
        "pivotAggregation": null,
        "pivotColumns": null,
        "xColumns": null,
        "yColumns": null
       },
       "removedWidgets": [],
       "schema": [
        {
         "metadata": "{}",
         "name": "titulo",
         "type": "\"string\""
        },
        {
         "metadata": "{}",
         "name": "preco_aluguel",
         "type": "\"string\""
        },
        {
         "metadata": "{}",
         "name": "localizacao",
         "type": "\"string\""
        },
        {
         "metadata": "{}",
         "name": "bairro",
         "type": "\"string\""
        },
        {
         "metadata": "{}",
         "name": "area",
         "type": "\"string\""
        },
        {
         "metadata": "{}",
         "name": "iptu",
         "type": "\"string\""
        },
        {
         "metadata": "{}",
         "name": "preco_condominio",
         "type": "\"string\""
        },
        {
         "metadata": "{}",
         "name": "quartos",
         "type": "\"string\""
        },
        {
         "metadata": "{}",
         "name": "banheiros",
         "type": "\"string\""
        },
        {
         "metadata": "{}",
         "name": "garagem",
         "type": "\"string\""
        }
       ],
       "type": "table"
      }
     },
     "output_type": "display_data"
    }
   ],
   "source": [
    "# Dataset OLX Rio \n",
    "\n",
    "df_OLX_RJ = spark.table(\"bronze_imoveis.olx_rio\")\n",
    "\n",
    "display(df_OLX_RJ.printSchema)\n",
    "display(df_OLX_RJ.sample(.005))"
   ]
  },
  {
   "cell_type": "code",
   "execution_count": 0,
   "metadata": {
    "application/vnd.databricks.v1+cell": {
     "cellMetadata": {
      "byteLimit": 2048000,
      "rowLimit": 10000
     },
     "inputWidgets": {},
     "nuid": "bae684e2-a202-45d9-b356-42439e9f1f13",
     "showTitle": false,
     "tableResultSettingsMap": {},
     "title": ""
    }
   },
   "outputs": [
    {
     "output_type": "stream",
     "name": "stdout",
     "output_type": "stream",
     "text": [
      "4165\n"
     ]
    }
   ],
   "source": [
    "# Count before drop\n",
    "print(df_OLX_RJ.count())"
   ]
  },
  {
   "cell_type": "code",
   "execution_count": 0,
   "metadata": {
    "application/vnd.databricks.v1+cell": {
     "cellMetadata": {
      "byteLimit": 2048000,
      "rowLimit": 10000
     },
     "inputWidgets": {},
     "nuid": "3d58bde2-9e33-4529-85e1-1f4682684223",
     "showTitle": false,
     "tableResultSettingsMap": {},
     "title": ""
    }
   },
   "outputs": [],
   "source": [
    "# Drop rows that has all null values \n",
    "df_OLX_RJ = df_OLX_RJ.dropna(subset=['titulo', 'localizacao'], how='all')"
   ]
  },
  {
   "cell_type": "code",
   "execution_count": 0,
   "metadata": {
    "application/vnd.databricks.v1+cell": {
     "cellMetadata": {
      "byteLimit": 2048000,
      "rowLimit": 10000
     },
     "inputWidgets": {},
     "nuid": "7aa4c77d-0f1d-4654-95a9-60fee1823389",
     "showTitle": false,
     "tableResultSettingsMap": {},
     "title": ""
    }
   },
   "outputs": [
    {
     "output_type": "stream",
     "name": "stdout",
     "output_type": "stream",
     "text": [
      "3654\n"
     ]
    }
   ],
   "source": [
    "# Count after drop\n",
    "print(df_OLX_RJ.count())"
   ]
  },
  {
   "cell_type": "code",
   "execution_count": 0,
   "metadata": {
    "application/vnd.databricks.v1+cell": {
     "cellMetadata": {
      "byteLimit": 2048000,
      "rowLimit": 10000
     },
     "inputWidgets": {},
     "nuid": "6c4c393d-fc04-4f90-a2f5-6336ecc333d7",
     "showTitle": false,
     "tableResultSettingsMap": {},
     "title": ""
    }
   },
   "outputs": [],
   "source": [
    "# Cleaning and transforms using pyspark\n",
    "\n",
    "# Column preco\n",
    "df_OLX_RJ = df_OLX_RJ.withColumn('preco_aluguel', regexp_extract(col('preco_aluguel'), r'(\\d[\\d.]*)', 1))\n",
    "df_OLX_RJ = df_OLX_RJ.withColumn('preco_aluguel', regexp_replace(col('preco_aluguel'), r'\\.', '').cast('double'))\n",
    "\n",
    "# Column preco_condominio\n",
    "df_OLX_RJ = df_OLX_RJ.withColumn('preco_condominio', regexp_extract(col('preco_condominio'), r'(\\d[\\d.]*)', 1))\n",
    "df_OLX_RJ = df_OLX_RJ.withColumn('preco_condominio', regexp_replace(col('preco_condominio'), r'\\.', '').cast('double'))\n",
    "\n",
    "# Column iptu\n",
    "df_OLX_RJ = df_OLX_RJ.withColumn('iptu', regexp_extract(col('iptu'), r'(\\d[\\d.]*)', 1))\n",
    "df_OLX_RJ = df_OLX_RJ.withColumn('iptu', regexp_replace(col('iptu'), r'\\.', '').cast('double'))\n",
    "\n",
    "# Column area\n",
    "df_OLX_RJ = df_OLX_RJ.withColumn('area', regexp_extract(col('area'), r'(\\d[\\d]*)', 1))\n",
    "df_OLX_RJ = df_OLX_RJ.withColumn('area', col('area').cast('int'))\n",
    "\n",
    "# Column dormitorios, banheiros e garagem => change only dtypes\n",
    "cols_to_transform = ['quartos', 'banheiros', 'garagem']\n",
    "\n",
    "for col_name in cols_to_transform:\n",
    "    df_OLX_RJ = df_OLX_RJ.withColumn(col_name, regexp_extract(col(col_name), r\"(\\d+)\", 1).cast(\"int\"))\n"
   ]
  },
  {
   "cell_type": "code",
   "execution_count": 0,
   "metadata": {
    "application/vnd.databricks.v1+cell": {
     "cellMetadata": {
      "byteLimit": 2048000,
      "rowLimit": 10000
     },
     "inputWidgets": {},
     "nuid": "d6a2e881-8f21-4053-9ca7-a358bacd1fbc",
     "showTitle": false,
     "tableResultSettingsMap": {},
     "title": ""
    }
   },
   "outputs": [],
   "source": [
    "# Create a new column called link to fit pre-defined esquema\n",
    "df_OLX_RJ = df_OLX_RJ.withColumn('Link', lit(0).cast('string'))\n"
   ]
  },
  {
   "cell_type": "markdown",
   "metadata": {
    "application/vnd.databricks.v1+cell": {
     "cellMetadata": {},
     "inputWidgets": {},
     "nuid": "954d2258-6fe2-4a3a-b4eb-8ed3ea55caa4",
     "showTitle": false,
     "tableResultSettingsMap": {},
     "title": ""
    }
   },
   "source": [
    "#####Enrichment with cep info"
   ]
  },
  {
   "cell_type": "code",
   "execution_count": 0,
   "metadata": {
    "application/vnd.databricks.v1+cell": {
     "cellMetadata": {
      "byteLimit": 2048000,
      "rowLimit": 10000
     },
     "inputWidgets": {},
     "nuid": "602c8bd4-a327-45a5-a434-dc6a445d3be5",
     "showTitle": false,
     "tableResultSettingsMap": {},
     "title": ""
    }
   },
   "outputs": [],
   "source": [
    "# Open table cep_rio from silver layer\n",
    "df_cep_rj = spark.table(\"silver_aux.cep_rio\")"
   ]
  },
  {
   "cell_type": "code",
   "execution_count": 0,
   "metadata": {
    "application/vnd.databricks.v1+cell": {
     "cellMetadata": {
      "byteLimit": 2048000,
      "rowLimit": 10000
     },
     "inputWidgets": {},
     "nuid": "6af66bbf-7ff1-4fbe-9ac0-e757375def50",
     "showTitle": false,
     "tableResultSettingsMap": {},
     "title": ""
    }
   },
   "outputs": [],
   "source": [
    "# 1. Defining a function to normalize strings: all column strings should be in lower case\n",
    "def normalizar_col(df, col_name):\n",
    "    return df.withColumn(col_name, trim(lower(col(col_name))))\n",
    "\n",
    "# Apply function to normalize\n",
    "for col_name in [\"localizacao\", \"bairro\"]:\n",
    "    df_OLX_RJ = normalizar_col(df_OLX_RJ, col_name)\n",
    "\n",
    "for col_name in [\"Logradouro\", \"Bairro\"]:\n",
    "    df_cep_rj = normalizar_col(df_cep_rj, col_name)\n"
   ]
  },
  {
   "cell_type": "code",
   "execution_count": 0,
   "metadata": {
    "application/vnd.databricks.v1+cell": {
     "cellMetadata": {
      "byteLimit": 2048000,
      "rowLimit": 10000
     },
     "inputWidgets": {},
     "nuid": "abf048b5-7fe3-48d8-9ad4-4345eac89c6e",
     "showTitle": false,
     "tableResultSettingsMap": {},
     "title": ""
    }
   },
   "outputs": [],
   "source": [
    "# 2. Rename columns localizacao to Logradouro and bairro to Bairro\n",
    "df_OLX_RJ = df_OLX_RJ.withColumnRenamed(\"localizacao\", \"Logradouro\")\n",
    "df_OLX_RJ = df_OLX_RJ.withColumnRenamed(\"bairro\", \"Bairro\")\n",
    "\n",
    "# 3. Convert cep to string \n",
    "df_cep_rj = df_cep_rj.withColumn(\"Cep\", col(\"Cep\").cast(StringType()))\n"
   ]
  },
  {
   "cell_type": "code",
   "execution_count": 0,
   "metadata": {
    "application/vnd.databricks.v1+cell": {
     "cellMetadata": {
      "byteLimit": 2048000,
      "rowLimit": 10000
     },
     "inputWidgets": {},
     "nuid": "058c0c9f-b702-40e9-8ba5-8d99fe6d0735",
     "showTitle": false,
     "tableResultSettingsMap": {},
     "title": ""
    }
   },
   "outputs": [],
   "source": [
    "# 4. Deduplicate CEP dataset (pick one cep for each logradouro)\n",
    "\n",
    "# Count how many times each cep appears in each neighborhood\n",
    "df_cep_freq = df_cep_rj.groupBy(\"Bairro\", \"Cep\") \\\n",
    "    .agg(count(\"*\").alias(\"freq\"))\n",
    "\n",
    "window_spec = Window.partitionBy( \"Bairro\").orderBy(col(\"freq\").desc(), col(\"Cep\"))\n",
    "df_cep_dedup = df_cep_freq.withColumn(\"rn\", row_number().over(window_spec)).filter(col(\"rn\") == 1).drop(\"freq\", \"rn\")\n"
   ]
  },
  {
   "cell_type": "code",
   "execution_count": 0,
   "metadata": {
    "application/vnd.databricks.v1+cell": {
     "cellMetadata": {
      "byteLimit": 2048000,
      "rowLimit": 10000
     },
     "inputWidgets": {},
     "nuid": "0f926f73-7ef8-491b-ac39-802889ea2cf1",
     "showTitle": false,
     "tableResultSettingsMap": {},
     "title": ""
    }
   },
   "outputs": [],
   "source": [
    "# 5. Main join by Bairro\n",
    "\n",
    "df_join = df_OLX_RJ.join(\n",
    "    df_cep_dedup.select(\"Bairro\", \"Cep\"),\n",
    "    on=[\"Bairro\"],\n",
    "    how=\"left\"\n",
    ").select(df_OLX_RJ[\"*\"], df_cep_dedup[\"Cep\"])  # Avoid errors\n"
   ]
  },
  {
   "cell_type": "code",
   "execution_count": 0,
   "metadata": {
    "application/vnd.databricks.v1+cell": {
     "cellMetadata": {
      "byteLimit": 2048000,
      "rowLimit": 10000
     },
     "inputWidgets": {},
     "nuid": "b943017e-76f6-4688-a0ee-d05190ed932f",
     "showTitle": false,
     "tableResultSettingsMap": {},
     "title": ""
    }
   },
   "outputs": [
    {
     "output_type": "stream",
     "name": "stdout",
     "output_type": "stream",
     "text": [
      "0\n3654\n"
     ]
    }
   ],
   "source": [
    "# 6. Identify rows without CEP\n",
    "\n",
    "df_sem_cep = df_join.filter(col(\"Cep\").isNull())\n",
    "\n",
    "print(df_join.filter(col(\"Cep\").isNull()).count())\n",
    "print(df_join.count())"
   ]
  },
  {
   "cell_type": "code",
   "execution_count": 0,
   "metadata": {
    "application/vnd.databricks.v1+cell": {
     "cellMetadata": {
      "byteLimit": 2048000,
      "rowLimit": 10000
     },
     "inputWidgets": {},
     "nuid": "e19c2abb-a6d3-45de-8216-9342bb1c2f14",
     "showTitle": false,
     "tableResultSettingsMap": {},
     "title": ""
    }
   },
   "outputs": [
    {
     "output_type": "stream",
     "name": "stdout",
     "output_type": "stream",
     "text": [
      "Total de imóveis: 3654\nImóveis sem CEP: 0\n"
     ]
    }
   ],
   "source": [
    "# 7. Verify final results\n",
    "\n",
    "print(\"Total de imóveis:\", df_join.count())\n",
    "print(\"Imóveis sem CEP:\", df_sem_cep.filter(col(\"Cep\").isNull()).count())\n",
    "\n",
    "# Count ok!"
   ]
  },
  {
   "cell_type": "code",
   "execution_count": 0,
   "metadata": {
    "application/vnd.databricks.v1+cell": {
     "cellMetadata": {
      "byteLimit": 2048000,
      "rowLimit": 10000
     },
     "inputWidgets": {},
     "nuid": "ab153ea9-283a-46bb-9978-e975fda0a009",
     "showTitle": false,
     "tableResultSettingsMap": {},
     "title": ""
    }
   },
   "outputs": [
    {
     "output_type": "stream",
     "name": "stdout",
     "output_type": "stream",
     "text": [
      "+--------------------+-------------+--------------------+---------------+----+------+----------------+-------+---------+-------+----+--------+\n|              titulo|preco_aluguel|          Logradouro|         Bairro|area|  iptu|preco_condominio|quartos|banheiros|garagem|Link|     Cep|\n+--------------------+-------------+--------------------+---------------+----+------+----------------+-------+---------+-------+----+--------+\n|IPANEMA - FLAT - ...|      19000.0|rio de janeiro, i...|        ipanema|  85|1033.0|          5800.0|      2|        2|      1|   0|22071110|\n|Casa de rua - Tri...|      20000.0|rio de janeiro, j...|jardim botânico| 600|2337.0|             0.0|      4|        1|   null|   0|22261070|\n|Apartamento para ...|      38000.0|rio de janeiro, i...|        ipanema| 350|4400.0|          9700.0|      3|        5|      3|   0|22071110|\n|Cobertura com 4 d...|      20000.0|rio de janeiro, urca|           urca| 370|1370.0|          3430.0|      4|        5|      2|   0|22290177|\n|LIFESTYLE | LEBLO...|      30000.0|rio de janeiro, l...|         leblon| 660|4005.0|          7020.0|      4|        5|      2|   0|22430030|\n+--------------------+-------------+--------------------+---------------+----+------+----------------+-------+---------+-------+----+--------+\nonly showing top 5 rows\n\n"
     ]
    }
   ],
   "source": [
    "display(df_join.show(5))"
   ]
  },
  {
   "cell_type": "code",
   "execution_count": 0,
   "metadata": {
    "application/vnd.databricks.v1+cell": {
     "cellMetadata": {
      "byteLimit": 2048000,
      "rowLimit": 10000
     },
     "inputWidgets": {},
     "nuid": "3654612d-5853-428f-a33e-8fd34d4c471d",
     "showTitle": false,
     "tableResultSettingsMap": {},
     "title": ""
    }
   },
   "outputs": [],
   "source": [
    "df_final = df_join"
   ]
  },
  {
   "cell_type": "markdown",
   "metadata": {
    "application/vnd.databricks.v1+cell": {
     "cellMetadata": {},
     "inputWidgets": {},
     "nuid": "d9d32e10-a1de-4fe9-819c-020f24f88e35",
     "showTitle": false,
     "tableResultSettingsMap": {},
     "title": ""
    }
   },
   "source": [
    "#####Save final dataset to table"
   ]
  },
  {
   "cell_type": "code",
   "execution_count": 0,
   "metadata": {
    "application/vnd.databricks.v1+cell": {
     "cellMetadata": {
      "byteLimit": 2048000,
      "rowLimit": 10000
     },
     "inputWidgets": {},
     "nuid": "0a782895-5108-4857-b660-16d8bcb9e294",
     "showTitle": false,
     "tableResultSettingsMap": {},
     "title": ""
    }
   },
   "outputs": [],
   "source": [
    "# Apply Id function\n",
    "\n",
    "df_final = adicionar_id_imovel(df_final, 2102, nome_coluna=\"ID_imovel\")"
   ]
  },
  {
   "cell_type": "code",
   "execution_count": 0,
   "metadata": {
    "application/vnd.databricks.v1+cell": {
     "cellMetadata": {
      "byteLimit": 2048000,
      "rowLimit": 10000
     },
     "inputWidgets": {},
     "nuid": "583aaca1-444f-446f-a6d7-2a31934701e8",
     "showTitle": false,
     "tableResultSettingsMap": {},
     "title": ""
    }
   },
   "outputs": [],
   "source": [
    " # Map columns to schema\n",
    "column_mapping = {\n",
    "    'ID_imovel': 'ID_imovel',\n",
    "    'link': 'Link',\n",
    "    'titulo':  'Titulo',\n",
    "    'Logradouro': 'Endereco',\n",
    "    'preco_aluguel': 'Preco',\n",
    "    'Cep': 'Cep',\n",
    "    'bairro': 'Bairro',\n",
    "    'preco_condominio': 'Condominio',\n",
    "    'iptu': 'IPTU',\n",
    "    'area': 'Area', \n",
    "    'quartos': 'Dormitorios',\n",
    "    'banheiros': 'Banheiros',\n",
    "    'garagem': 'Garagem',\n",
    "}\n",
    "\n",
    "# Renaming columns in the DataFrame using Pyspark\n",
    "for old_name, new_name in column_mapping.items():\n",
    "    df_final = df_final.withColumnRenamed(old_name, new_name)\n",
    "\n",
    "# Reorder the columns\n",
    "esquema= ['ID_imovel', 'Link', 'Titulo', 'Endereco', 'Bairro', 'Cep', 'Preco', 'Condominio', 'Iptu', 'Area', 'Dormitorios', 'Banheiros', 'Garagem']\n",
    "df_final = df_final.select(esquema)\n"
   ]
  },
  {
   "cell_type": "code",
   "execution_count": 0,
   "metadata": {
    "application/vnd.databricks.v1+cell": {
     "cellMetadata": {
      "byteLimit": 2048000,
      "rowLimit": 10000
     },
     "inputWidgets": {},
     "nuid": "3781757c-9e05-49fa-b4ac-d68c20bad430",
     "showTitle": false,
     "tableResultSettingsMap": {},
     "title": ""
    }
   },
   "outputs": [
    {
     "output_type": "stream",
     "name": "stdout",
     "output_type": "stream",
     "text": [
      "+---------+----+--------------------+--------------------+---------------+--------+-------+----------+------+----+-----------+---------+-------+\n|ID_imovel|Link|              Titulo|            Endereco|         Bairro|     Cep|  Preco|Condominio|  Iptu|Area|Dormitorios|Banheiros|Garagem|\n+---------+----+--------------------+--------------------+---------------+--------+-------+----------+------+----+-----------+---------+-------+\n| 21020001|   0|IPANEMA - FLAT - ...|rio de janeiro, i...|        ipanema|22071110|19000.0|    5800.0|1033.0|  85|          2|        2|      1|\n| 21020002|   0|Casa de rua - Tri...|rio de janeiro, j...|jardim botânico|22261070|20000.0|       0.0|2337.0| 600|          4|        1|   null|\n| 21020003|   0|Apartamento para ...|rio de janeiro, i...|        ipanema|22071110|38000.0|    9700.0|4400.0| 350|          3|        5|      3|\n| 21020004|   0|Cobertura com 4 d...|rio de janeiro, urca|           urca|22290177|20000.0|    3430.0|1370.0| 370|          4|        5|      2|\n| 21020005|   0|LIFESTYLE | LEBLO...|rio de janeiro, l...|         leblon|22430030|30000.0|    7020.0|4005.0| 660|          4|        5|      2|\n+---------+----+--------------------+--------------------+---------------+--------+-------+----------+------+----+-----------+---------+-------+\nonly showing top 5 rows\n\n"
     ]
    }
   ],
   "source": [
    "df_final.show(5)\n",
    "\n"
   ]
  },
  {
   "cell_type": "code",
   "execution_count": 0,
   "metadata": {
    "application/vnd.databricks.v1+cell": {
     "cellMetadata": {
      "byteLimit": 2048000,
      "rowLimit": 10000
     },
     "inputWidgets": {},
     "nuid": "2d7bc84b-3885-4f73-a35c-1a7707f09fd6",
     "showTitle": false,
     "tableResultSettingsMap": {},
     "title": ""
    }
   },
   "outputs": [
    {
     "output_type": "stream",
     "name": "stdout",
     "output_type": "stream",
     "text": [
      "+--------------------------+-------+----+\n|Endereco                  |Preco  |qtde|\n+--------------------------+-------+----+\n|rio de janeiro, ipanema   |25000.0|91  |\n|rio de janeiro, copacabana|15000.0|44  |\n|rio de janeiro, ipanema   |15000.0|41  |\n|rio de janeiro, ipanema   |22000.0|40  |\n|rio de janeiro, ipanema   |30000.0|36  |\n|rio de janeiro, copacabana|3500.0 |32  |\n|rio de janeiro, copacabana|6000.0 |31  |\n|rio de janeiro, ipanema   |21000.0|31  |\n|rio de janeiro, copacabana|3000.0 |31  |\n|rio de janeiro, ipanema   |26000.0|30  |\n|rio de janeiro, copacabana|5000.0 |29  |\n|rio de janeiro, copacabana|10000.0|28  |\n|rio de janeiro, ipanema   |40000.0|27  |\n|rio de janeiro, copacabana|4500.0 |27  |\n|rio de janeiro, copacabana|23000.0|27  |\n|rio de janeiro, leblon    |15000.0|26  |\n|rio de janeiro, leblon    |35000.0|24  |\n|rio de janeiro, leblon    |13000.0|24  |\n|rio de janeiro, copacabana|12000.0|22  |\n|rio de janeiro, ipanema   |35000.0|22  |\n+--------------------------+-------+----+\nonly showing top 20 rows\n\n"
     ]
    }
   ],
   "source": [
    "# Verify duplicates, if endereco e preco are the same, hence i can consider duplicated row\n",
    "\n",
    "df_final.groupBy(\"Endereco\", \"Preco\") \\\n",
    "    .agg(count(\"*\").alias(\"qtde\")) \\\n",
    "    .filter(col(\"qtde\") > 1) \\\n",
    "    .orderBy(col(\"qtde\").desc()) \\\n",
    "    .show(truncate=False)"
   ]
  },
  {
   "cell_type": "code",
   "execution_count": 0,
   "metadata": {
    "application/vnd.databricks.v1+cell": {
     "cellMetadata": {
      "byteLimit": 2048000,
      "rowLimit": 10000
     },
     "inputWidgets": {},
     "nuid": "e89d02bb-f93a-4389-8687-0479345e9b3d",
     "showTitle": false,
     "tableResultSettingsMap": {},
     "title": ""
    }
   },
   "outputs": [
    {
     "output_type": "stream",
     "name": "stdout",
     "output_type": "stream",
     "text": [
      "Total de combinações duplicadas: 500\n"
     ]
    }
   ],
   "source": [
    "# Count duplicates\n",
    "duplicates = df_final.groupBy(\"Endereco\", \"Preco\") \\\n",
    "    .agg(count(\"*\").alias(\"qtde\")) \\\n",
    "    .filter(col(\"qtde\") > 1)\n",
    "\n",
    "print(\"Total de combinações duplicadas:\", duplicates.count())"
   ]
  },
  {
   "cell_type": "code",
   "execution_count": 0,
   "metadata": {
    "application/vnd.databricks.v1+cell": {
     "cellMetadata": {
      "byteLimit": 2048000,
      "rowLimit": 10000
     },
     "inputWidgets": {},
     "nuid": "7468e5e9-c1e5-456a-b046-dbbf9cba4e8f",
     "showTitle": false,
     "tableResultSettingsMap": {},
     "title": ""
    }
   },
   "outputs": [
    {
     "output_type": "stream",
     "name": "stdout",
     "output_type": "stream",
     "text": [
      "1101\n"
     ]
    }
   ],
   "source": [
    "# Drop duplicates\n",
    "df_final = df_final.dropDuplicates([\"Endereco\", \"Preco\"])\n",
    "\n",
    "print(df_final.count()) # Finished with 1101 rows of data"
   ]
  },
  {
   "cell_type": "code",
   "execution_count": 0,
   "metadata": {
    "application/vnd.databricks.v1+cell": {
     "cellMetadata": {
      "byteLimit": 2048000,
      "rowLimit": 10000
     },
     "inputWidgets": {},
     "nuid": "6c6c550f-4e23-4f25-bfde-9e7e75bd91a4",
     "showTitle": false,
     "tableResultSettingsMap": {},
     "title": ""
    }
   },
   "outputs": [],
   "source": [
    "# Saving delta table in silver_imoveis database\n",
    "\n",
    "tabela = \"silver_imoveis.olx_rio\"\n",
    "\n",
    "if spark._jsparkSession.catalog().tableExists(tabela):\n",
    "    spark.sql(f\"DROP TABLE {tabela}\")\n",
    "\n",
    "# Delete metadata after dropping table(if it exists)\n",
    "dbutils.fs.rm(\"dbfs:/user/hive/warehouse/silver_imoveis.db/olx_rio\", recurse=True) \n",
    "\n",
    "# Write delta table in silver layer\n",
    "df_final.write.format(\"delta\").mode(\"overwrite\").saveAsTable(\"silver_imoveis.olx_rio\")\n"
   ]
  },
  {
   "cell_type": "markdown",
   "metadata": {
    "application/vnd.databricks.v1+cell": {
     "cellMetadata": {
      "byteLimit": 2048000,
      "rowLimit": 10000
     },
     "inputWidgets": {},
     "nuid": "b04205c6-1be9-4bf4-96ee-5f3a3bd60dea",
     "showTitle": false,
     "tableResultSettingsMap": {},
     "title": ""
    }
   },
   "source": [
    "####OLX SP"
   ]
  },
  {
   "cell_type": "code",
   "execution_count": 0,
   "metadata": {
    "application/vnd.databricks.v1+cell": {
     "cellMetadata": {
      "byteLimit": 2048000,
      "rowLimit": 10000
     },
     "inputWidgets": {},
     "nuid": "b07bf053-22b9-460f-9723-fdedd45f0024",
     "showTitle": false,
     "tableResultSettingsMap": {},
     "title": ""
    }
   },
   "outputs": [
    {
     "output_type": "stream",
     "name": "stdout",
     "output_type": "stream",
     "text": [
      "<bound method DataFrame.printSchema of DataFrame[titulo: string, preco_aluguel: string, localizacao: string, area: string, iptu: string, preco_condominio: string, quartos: string, banheiros: string, garagem: double]>"
     ]
    },
    {
     "output_type": "display_data",
     "data": {
      "text/html": [
       "<style scoped>\n",
       "  .table-result-container {\n",
       "    max-height: 300px;\n",
       "    overflow: auto;\n",
       "  }\n",
       "  table, th, td {\n",
       "    border: 1px solid black;\n",
       "    border-collapse: collapse;\n",
       "  }\n",
       "  th, td {\n",
       "    padding: 5px;\n",
       "  }\n",
       "  th {\n",
       "    text-align: left;\n",
       "  }\n",
       "</style><div class='table-result-container'><table class='table-result'><thead style='background-color: white'><tr><th>titulo</th><th>preco_aluguel</th><th>localizacao</th><th>area</th><th>iptu</th><th>preco_condominio</th><th>quartos</th><th>banheiros</th><th>garagem</th></tr></thead><tbody><tr><td>Viva bem na Vila Madalena</td><td>R$ 25.000</td><td>São Paulo, Vila Madalena</td><td>336m²</td><td>R$ 2.608</td><td>R$ 0</td><td>4</td><td>5 ou mais</td><td>null</td></tr><tr><td>Apartamento com 1 Quarto para alugar, 25m² - Lapa</td><td>R$ 2.870</td><td>São Paulo, Vila Romana</td><td>25m²</td><td>R$ 35</td><td>R$ 645</td><td>1</td><td>1</td><td>null</td></tr><tr><td>null</td><td>null</td><td>null</td><td>null</td><td>null</td><td>null</td><td>null</td><td>null</td><td>null</td></tr><tr><td>CASA PARA LOCAÇÃO NA ÁGUA BRANCA PRÓXIMO DA ESTAÇÃO DE TREM ÁGUA BRANCA</td><td>R$ 1.700</td><td>São Paulo, Água Branca</td><td>65m²</td><td>R$ 131</td><td>R$ 0</td><td>1</td><td>1</td><td>null</td></tr><tr><td>Apartamento muito bem localizado na rua Oscar Freire ao lado do Hospital Clínicas e metrô </td><td>R$ 4.800</td><td>São Paulo, Pinheiros</td><td>110m²</td><td>R$ 3.648</td><td>R$ 1.750</td><td>3</td><td>2</td><td>null</td></tr><tr><td>Apartamento para Locação em São Paulo, AGUA BRANCA, 2 dormitórios, 1 suíte, 2 banheiros, 1</td><td>R$ 5.500</td><td>São Paulo, Água Branca</td><td>62m²</td><td>R$ 200</td><td>R$ 800</td><td>2</td><td>2</td><td>null</td></tr><tr><td>Imóvel para aluguel tem 115 metros quadrados com 2 quartos em Sumaré - São Paulo - SP</td><td>R$ 18.000</td><td>São Paulo, Sumaré</td><td>115m²</td><td>R$ 450</td><td>R$ 3.000</td><td>2</td><td>3</td><td>null</td></tr><tr><td>VN Capote Valente disponível para locação contendo 78m², 01 dormitório e 02 vagas de garag</td><td>R$ 12.838</td><td>São Paulo, Pinheiros</td><td>78m²</td><td>R$ 412</td><td>R$ 1.750</td><td>1</td><td>2</td><td>null</td></tr><tr><td>APARTAMENTO RESIDENCIAL em SÃO PAULO - SP, VILA ROMANA</td><td>R$ 1.400</td><td>São Paulo, Vila Romana</td><td>15m²</td><td>R$ 0</td><td>R$ 100</td><td>1</td><td>1</td><td>null</td></tr><tr><td>Imóvel para aluguel com 1 quarto em Pinheiros - São Paulo - SP</td><td>R$ 3.600</td><td>São Paulo, Pinheiros</td><td>28m²</td><td>R$ 100</td><td>R$ 600</td><td>1</td><td>1</td><td>null</td></tr><tr><td>APARTAMENTO 3 QUARTOS COM VARANDA PROX. USP FL48</td><td>R$ 1.850</td><td>São Paulo, Vila Nova Alba</td><td>72m²</td><td>R$ 208</td><td>R$ 808</td><td>3</td><td>2</td><td>null</td></tr><tr><td>Kitnet com 1 dormitório para alugar, 29 m² por R$ 1.421/mês - Lapa - São Paulo/SP</td><td>R$ 1.000</td><td>São Paulo, Lapa</td><td>29m²</td><td>R$ 65</td><td>R$ 356</td><td>1</td><td>1</td><td>null</td></tr><tr><td>APARTAMENTO - PINHEIROS - SP</td><td>R$ 4.500</td><td>São Paulo, Pinheiros</td><td>20m²</td><td>R$ 0</td><td>R$ 491</td><td>1</td><td>1</td><td>null</td></tr><tr><td>Kitnet com 1 dormitório para alugar, 35 m² por R$ 1.800,00/mês - Butantã - São Paulo/SP</td><td>R$ 1.700</td><td>São Paulo, Jardim Pinheiros</td><td>35m²</td><td>R$ 0</td><td>R$ 100</td><td>1</td><td>1</td><td>null</td></tr><tr><td>Imóvel para aluguel tem 29 metros quadrados com 1 quarto em Pinheiros - São Paulo - SP</td><td>R$ 2.250</td><td>São Paulo, Pinheiros</td><td>29m²</td><td>R$ 0</td><td>R$ 1.000</td><td>1</td><td>1</td><td>null</td></tr><tr><td>Apartamento de 3 quartos com suíte, 3 salas e 2 vagas em condomínio no Jaguaré, São Paulo-</td><td>R$ 3.000</td><td>São Paulo, Jaguaré</td><td>72m²</td><td>R$ 100</td><td>R$ 850</td><td>3</td><td>2</td><td>null</td></tr><tr><td>Casa para aluguel com 150m², 2 vagas, 3 dormitórios e 1 suíte no Jardim das Vertentes</td><td>R$ 3.500</td><td>São Paulo, Jardim das Vertentes</td><td>80m²</td><td>R$ 70</td><td>R$ 1</td><td>3</td><td>1</td><td>null</td></tr><tr><td>Locação Apartamento 1 Dormitórios - 70 m² Pinheiros</td><td>R$ 7.496</td><td>São Paulo, Pinheiros</td><td>70m²</td><td>R$ 380</td><td>R$ 1.450</td><td>1</td><td>1</td><td>null</td></tr><tr><td>Casa com 1 dormitório para alugar, 18 m² por R$ 680,00/mês - Vila Bruna - São Paulo/SP</td><td>R$ 650</td><td>São Paulo, Vila Bruna</td><td>18m²</td><td>R$ 30</td><td>R$ 0</td><td>1</td><td>1</td><td>null</td></tr><tr><td>APARTAMENTO - PINHEIROS - SP</td><td>R$ 2.200</td><td>São Paulo, Pinheiros</td><td>68m²</td><td>R$ 65</td><td>R$ 780</td><td>2</td><td>1</td><td>null</td></tr><tr><td>null</td><td>null</td><td>null</td><td>null</td><td>null</td><td>null</td><td>null</td><td>null</td><td>null</td></tr><tr><td>Apartamento Locação 1 Dormitórios - 78 m² Vila Madalena</td><td>R$ 4.998</td><td>São Paulo, Sumarezinho</td><td>78m²</td><td>R$ 286</td><td>R$ 1.210</td><td>1</td><td>2</td><td>null</td></tr><tr><td>ALUGA-SE APTO NO STORY JAGUARÉALUGA-SE APTO NO STORY JAGUARÉ</td><td>R$ 2.700</td><td>São Paulo, Jaguaré</td><td>60m²</td><td>R$ 100</td><td>R$ 700</td><td>2</td><td>1</td><td>null</td></tr><tr><td>Apartamento para Venda e Locação na Lapa, 02 dormitórios. São Paulo.</td><td>R$ 3.000</td><td>São Paulo, Lapa</td><td>40m²</td><td>R$ 0</td><td>R$ 380</td><td>2</td><td>1</td><td>null</td></tr><tr><td>Apartamento Locação Perdizes 110 m² 3 Dormitórios</td><td>R$ 7.497</td><td>São Paulo, Perdizes</td><td>110m²</td><td>R$ 621</td><td>R$ 1.450</td><td>3</td><td>3</td><td>null</td></tr><tr><td>Apartamento com 4 dormitórios para alugar, 100 m² por R$ 7.950,00/mês - Pinheiros - São Pa</td><td>R$ 5.800</td><td>São Paulo, Pinheiros</td><td>100m²</td><td>R$ 400</td><td>R$ 1.750</td><td>4</td><td>1</td><td>null</td></tr><tr><td>Apartamento Locação 2 Dormitórios - 96 m² Pinheiros</td><td>R$ 11.998</td><td>São Paulo, Pinheiros</td><td>96m²</td><td>R$ 540</td><td>R$ 1.800</td><td>2</td><td>2</td><td>null</td></tr><tr><td>Locação Apartamento 3 Dormitórios - 100 m² Pinheiros</td><td>R$ 7.997</td><td>São Paulo, Pinheiros</td><td>100m²</td><td>R$ 920</td><td>R$ 1.522</td><td>3</td><td>2</td><td>null</td></tr><tr><td>Apartamento Locação Pinheiros 119 m² 3 Dormitórios</td><td>R$ 10.498</td><td>São Paulo, Pinheiros</td><td>119m²</td><td>R$ 1.002</td><td>R$ 2.999</td><td>3</td><td>4</td><td>null</td></tr><tr><td>Apartamento Locação Perdizes 135 m² 2 Dormitórios</td><td>R$ 11.999</td><td>São Paulo, Perdizes</td><td>135m²</td><td>R$ 1.036</td><td>R$ 1.426</td><td>2</td><td>2</td><td>null</td></tr></tbody></table></div>"
      ]
     },
     "metadata": {
      "application/vnd.databricks.v1+output": {
       "addedWidgets": {},
       "aggData": [],
       "aggError": "",
       "aggOverflow": false,
       "aggSchema": [],
       "aggSeriesLimitReached": false,
       "aggType": "",
       "arguments": {},
       "columnCustomDisplayInfos": {},
       "data": [
        [
         "Viva bem na Vila Madalena",
         "R$ 25.000",
         "São Paulo, Vila Madalena",
         "336m²",
         "R$ 2.608",
         "R$ 0",
         "4",
         "5 ou mais",
         null
        ],
        [
         "Apartamento com 1 Quarto para alugar, 25m² - Lapa",
         "R$ 2.870",
         "São Paulo, Vila Romana",
         "25m²",
         "R$ 35",
         "R$ 645",
         "1",
         "1",
         null
        ],
        [
         null,
         null,
         null,
         null,
         null,
         null,
         null,
         null,
         null
        ],
        [
         "CASA PARA LOCAÇÃO NA ÁGUA BRANCA PRÓXIMO DA ESTAÇÃO DE TREM ÁGUA BRANCA",
         "R$ 1.700",
         "São Paulo, Água Branca",
         "65m²",
         "R$ 131",
         "R$ 0",
         "1",
         "1",
         null
        ],
        [
         "Apartamento muito bem localizado na rua Oscar Freire ao lado do Hospital Clínicas e metrô ",
         "R$ 4.800",
         "São Paulo, Pinheiros",
         "110m²",
         "R$ 3.648",
         "R$ 1.750",
         "3",
         "2",
         null
        ],
        [
         "Apartamento para Locação em São Paulo, AGUA BRANCA, 2 dormitórios, 1 suíte, 2 banheiros, 1",
         "R$ 5.500",
         "São Paulo, Água Branca",
         "62m²",
         "R$ 200",
         "R$ 800",
         "2",
         "2",
         null
        ],
        [
         "Imóvel para aluguel tem 115 metros quadrados com 2 quartos em Sumaré - São Paulo - SP",
         "R$ 18.000",
         "São Paulo, Sumaré",
         "115m²",
         "R$ 450",
         "R$ 3.000",
         "2",
         "3",
         null
        ],
        [
         "VN Capote Valente disponível para locação contendo 78m², 01 dormitório e 02 vagas de garag",
         "R$ 12.838",
         "São Paulo, Pinheiros",
         "78m²",
         "R$ 412",
         "R$ 1.750",
         "1",
         "2",
         null
        ],
        [
         "APARTAMENTO RESIDENCIAL em SÃO PAULO - SP, VILA ROMANA",
         "R$ 1.400",
         "São Paulo, Vila Romana",
         "15m²",
         "R$ 0",
         "R$ 100",
         "1",
         "1",
         null
        ],
        [
         "Imóvel para aluguel com 1 quarto em Pinheiros - São Paulo - SP",
         "R$ 3.600",
         "São Paulo, Pinheiros",
         "28m²",
         "R$ 100",
         "R$ 600",
         "1",
         "1",
         null
        ],
        [
         "APARTAMENTO 3 QUARTOS COM VARANDA PROX. USP FL48",
         "R$ 1.850",
         "São Paulo, Vila Nova Alba",
         "72m²",
         "R$ 208",
         "R$ 808",
         "3",
         "2",
         null
        ],
        [
         "Kitnet com 1 dormitório para alugar, 29 m² por R$ 1.421/mês - Lapa - São Paulo/SP",
         "R$ 1.000",
         "São Paulo, Lapa",
         "29m²",
         "R$ 65",
         "R$ 356",
         "1",
         "1",
         null
        ],
        [
         "APARTAMENTO - PINHEIROS - SP",
         "R$ 4.500",
         "São Paulo, Pinheiros",
         "20m²",
         "R$ 0",
         "R$ 491",
         "1",
         "1",
         null
        ],
        [
         "Kitnet com 1 dormitório para alugar, 35 m² por R$ 1.800,00/mês - Butantã - São Paulo/SP",
         "R$ 1.700",
         "São Paulo, Jardim Pinheiros",
         "35m²",
         "R$ 0",
         "R$ 100",
         "1",
         "1",
         null
        ],
        [
         "Imóvel para aluguel tem 29 metros quadrados com 1 quarto em Pinheiros - São Paulo - SP",
         "R$ 2.250",
         "São Paulo, Pinheiros",
         "29m²",
         "R$ 0",
         "R$ 1.000",
         "1",
         "1",
         null
        ],
        [
         "Apartamento de 3 quartos com suíte, 3 salas e 2 vagas em condomínio no Jaguaré, São Paulo-",
         "R$ 3.000",
         "São Paulo, Jaguaré",
         "72m²",
         "R$ 100",
         "R$ 850",
         "3",
         "2",
         null
        ],
        [
         "Casa para aluguel com 150m², 2 vagas, 3 dormitórios e 1 suíte no Jardim das Vertentes",
         "R$ 3.500",
         "São Paulo, Jardim das Vertentes",
         "80m²",
         "R$ 70",
         "R$ 1",
         "3",
         "1",
         null
        ],
        [
         "Locação Apartamento 1 Dormitórios - 70 m² Pinheiros",
         "R$ 7.496",
         "São Paulo, Pinheiros",
         "70m²",
         "R$ 380",
         "R$ 1.450",
         "1",
         "1",
         null
        ],
        [
         "Casa com 1 dormitório para alugar, 18 m² por R$ 680,00/mês - Vila Bruna - São Paulo/SP",
         "R$ 650",
         "São Paulo, Vila Bruna",
         "18m²",
         "R$ 30",
         "R$ 0",
         "1",
         "1",
         null
        ],
        [
         "APARTAMENTO - PINHEIROS - SP",
         "R$ 2.200",
         "São Paulo, Pinheiros",
         "68m²",
         "R$ 65",
         "R$ 780",
         "2",
         "1",
         null
        ],
        [
         null,
         null,
         null,
         null,
         null,
         null,
         null,
         null,
         null
        ],
        [
         "Apartamento Locação 1 Dormitórios - 78 m² Vila Madalena",
         "R$ 4.998",
         "São Paulo, Sumarezinho",
         "78m²",
         "R$ 286",
         "R$ 1.210",
         "1",
         "2",
         null
        ],
        [
         "ALUGA-SE APTO NO STORY JAGUARÉALUGA-SE APTO NO STORY JAGUARÉ",
         "R$ 2.700",
         "São Paulo, Jaguaré",
         "60m²",
         "R$ 100",
         "R$ 700",
         "2",
         "1",
         null
        ],
        [
         "Apartamento para Venda e Locação na Lapa, 02 dormitórios. São Paulo.",
         "R$ 3.000",
         "São Paulo, Lapa",
         "40m²",
         "R$ 0",
         "R$ 380",
         "2",
         "1",
         null
        ],
        [
         "Apartamento Locação Perdizes 110 m² 3 Dormitórios",
         "R$ 7.497",
         "São Paulo, Perdizes",
         "110m²",
         "R$ 621",
         "R$ 1.450",
         "3",
         "3",
         null
        ],
        [
         "Apartamento com 4 dormitórios para alugar, 100 m² por R$ 7.950,00/mês - Pinheiros - São Pa",
         "R$ 5.800",
         "São Paulo, Pinheiros",
         "100m²",
         "R$ 400",
         "R$ 1.750",
         "4",
         "1",
         null
        ],
        [
         "Apartamento Locação 2 Dormitórios - 96 m² Pinheiros",
         "R$ 11.998",
         "São Paulo, Pinheiros",
         "96m²",
         "R$ 540",
         "R$ 1.800",
         "2",
         "2",
         null
        ],
        [
         "Locação Apartamento 3 Dormitórios - 100 m² Pinheiros",
         "R$ 7.997",
         "São Paulo, Pinheiros",
         "100m²",
         "R$ 920",
         "R$ 1.522",
         "3",
         "2",
         null
        ],
        [
         "Apartamento Locação Pinheiros 119 m² 3 Dormitórios",
         "R$ 10.498",
         "São Paulo, Pinheiros",
         "119m²",
         "R$ 1.002",
         "R$ 2.999",
         "3",
         "4",
         null
        ],
        [
         "Apartamento Locação Perdizes 135 m² 2 Dormitórios",
         "R$ 11.999",
         "São Paulo, Perdizes",
         "135m²",
         "R$ 1.036",
         "R$ 1.426",
         "2",
         "2",
         null
        ]
       ],
       "datasetInfos": [],
       "dbfsResultPath": null,
       "isJsonSchema": true,
       "metadata": {},
       "overflow": false,
       "plotOptions": {
        "customPlotOptions": {},
        "displayType": "table",
        "pivotAggregation": null,
        "pivotColumns": null,
        "xColumns": null,
        "yColumns": null
       },
       "removedWidgets": [],
       "schema": [
        {
         "metadata": "{}",
         "name": "titulo",
         "type": "\"string\""
        },
        {
         "metadata": "{}",
         "name": "preco_aluguel",
         "type": "\"string\""
        },
        {
         "metadata": "{}",
         "name": "localizacao",
         "type": "\"string\""
        },
        {
         "metadata": "{}",
         "name": "area",
         "type": "\"string\""
        },
        {
         "metadata": "{}",
         "name": "iptu",
         "type": "\"string\""
        },
        {
         "metadata": "{}",
         "name": "preco_condominio",
         "type": "\"string\""
        },
        {
         "metadata": "{}",
         "name": "quartos",
         "type": "\"string\""
        },
        {
         "metadata": "{}",
         "name": "banheiros",
         "type": "\"string\""
        },
        {
         "metadata": "{}",
         "name": "garagem",
         "type": "\"double\""
        }
       ],
       "type": "table"
      }
     },
     "output_type": "display_data"
    }
   ],
   "source": [
    "# Open dataset\n",
    "\n",
    "df_OLX_SP = spark.table(\"bronze_imoveis.olx_sp\")\n",
    "\n",
    "display(df_OLX_SP.printSchema)\n",
    "display(df_OLX_SP.sample(.005))"
   ]
  },
  {
   "cell_type": "code",
   "execution_count": 0,
   "metadata": {
    "application/vnd.databricks.v1+cell": {
     "cellMetadata": {
      "byteLimit": 2048000,
      "rowLimit": 10000
     },
     "inputWidgets": {},
     "nuid": "9cb02a5e-21e6-4082-bf0b-df22cff6a165",
     "showTitle": false,
     "tableResultSettingsMap": {},
     "title": ""
    }
   },
   "outputs": [
    {
     "output_type": "stream",
     "name": "stdout",
     "output_type": "stream",
     "text": [
      "Antes de remover nulos: 5662\n"
     ]
    }
   ],
   "source": [
    "# Count before dropping\n",
    "print(f\"Antes de remover nulos: {df_OLX_SP.count()}\")"
   ]
  },
  {
   "cell_type": "code",
   "execution_count": 0,
   "metadata": {
    "application/vnd.databricks.v1+cell": {
     "cellMetadata": {
      "byteLimit": 2048000,
      "rowLimit": 10000
     },
     "inputWidgets": {},
     "nuid": "03a49a7f-6cea-4018-9395-bb37911be7a3",
     "showTitle": false,
     "tableResultSettingsMap": {},
     "title": ""
    }
   },
   "outputs": [],
   "source": [
    "# Drop rows that has all null values \n",
    "df_OLX_SP = df_OLX_SP.dropna(subset=['titulo', 'localizacao'], how='all')"
   ]
  },
  {
   "cell_type": "code",
   "execution_count": 0,
   "metadata": {
    "application/vnd.databricks.v1+cell": {
     "cellMetadata": {
      "byteLimit": 2048000,
      "rowLimit": 10000
     },
     "inputWidgets": {},
     "nuid": "07532903-02f9-4be6-b1f7-105b0ae2d66e",
     "showTitle": false,
     "tableResultSettingsMap": {},
     "title": ""
    }
   },
   "outputs": [
    {
     "output_type": "stream",
     "name": "stdout",
     "output_type": "stream",
     "text": [
      "Após remover nulos: 4969\n"
     ]
    }
   ],
   "source": [
    "# Count after dropping\n",
    "print(f\"Após remover nulos: {df_OLX_SP.count()}\")"
   ]
  },
  {
   "cell_type": "code",
   "execution_count": 0,
   "metadata": {
    "application/vnd.databricks.v1+cell": {
     "cellMetadata": {
      "byteLimit": 2048000,
      "rowLimit": 10000
     },
     "inputWidgets": {},
     "nuid": "1b1f863f-a963-4491-9d1a-1044df7f6dac",
     "showTitle": false,
     "tableResultSettingsMap": {},
     "title": ""
    }
   },
   "outputs": [],
   "source": [
    "# Cleaning and transforms using pyspark\n",
    "\n",
    "# Column preco\n",
    "df_OLX_SP = df_OLX_SP.withColumn('preco_aluguel', regexp_extract(col('preco_aluguel'), r'(\\d[\\d.]*)', 1))\n",
    "df_OLX_SP = df_OLX_SP.withColumn('preco_aluguel', regexp_replace(col('preco_aluguel'), r'\\.', '').cast('float'))\n",
    "\n",
    "# Column preco_condominio\n",
    "df_OLX_SP = df_OLX_SP.withColumn('preco_condominio', regexp_extract(col('preco_condominio'), r'(\\d[\\d.]*)', 1))\n",
    "df_OLX_SP = df_OLX_SP.withColumn('preco_condominio', regexp_replace(col('preco_condominio'), r'\\.', '').cast('float'))\n",
    "\n",
    "# Column iptu\n",
    "df_OLX_SP = df_OLX_SP.withColumn('iptu', regexp_extract(col('iptu'), r'(\\d[\\d.]*)', 1))\n",
    "df_OLX_SP = df_OLX_SP.withColumn('iptu', regexp_replace(col('iptu'), r'\\.', '').cast('float'))\n",
    "\n",
    "# Column area\n",
    "df_OLX_SP = df_OLX_SP.withColumn('area', regexp_extract(col('area'), r'(\\d[\\d]*)', 1))\n",
    "df_OLX_SP= df_OLX_SP.withColumn('area', col('area').cast('int'))\n",
    "\n",
    "# Column dormitorios, banheiros e garagem => change only dtypes and handle Null values\n",
    "df_OLX_SP = df_OLX_SP.withColumn('quartos', regexp_extract(col('quartos'), r'(\\d[\\d]*)', 1))\n",
    "df_OLX_SP= df_OLX_SP.withColumn('quartos', col('quartos').cast('int'))\n",
    "\n",
    "df_OLX_SP = df_OLX_SP.withColumn('banheiros', regexp_extract(col('banheiros'), r'(\\d[\\d]*)', 1))\n",
    "df_OLX_SP = df_OLX_SP.withColumn('banheiros', col('banheiros').cast('int'))\n",
    "\n",
    "df_OLX_SP = df_OLX_SP.withColumn('garagem', regexp_extract(col('garagem'), r'(\\d[\\d]*)', 1))\n",
    "df_OLX_SP = df_OLX_SP.withColumn('garagem', col('garagem').cast('int'))\n"
   ]
  },
  {
   "cell_type": "code",
   "execution_count": 0,
   "metadata": {
    "application/vnd.databricks.v1+cell": {
     "cellMetadata": {
      "byteLimit": 2048000,
      "rowLimit": 10000
     },
     "inputWidgets": {},
     "nuid": "8f402651-1810-4b6d-8984-cd13a0a8dfab",
     "showTitle": false,
     "tableResultSettingsMap": {},
     "title": ""
    }
   },
   "outputs": [],
   "source": [
    "# Create a column named Bairro using second part of localizacao column string\n",
    "\n",
    "df_OLX_SP = df_OLX_SP.withColumn('Bairro', trim(split(col('localizacao'), \",\")[1]))\n"
   ]
  },
  {
   "cell_type": "code",
   "execution_count": 0,
   "metadata": {
    "application/vnd.databricks.v1+cell": {
     "cellMetadata": {
      "byteLimit": 2048000,
      "rowLimit": 10000
     },
     "inputWidgets": {},
     "nuid": "d07197d5-3fe0-45a6-8cdd-b7496c35db1e",
     "showTitle": false,
     "tableResultSettingsMap": {},
     "title": ""
    }
   },
   "outputs": [],
   "source": [
    "# Create a new column called link to fit pre-defined esquema\n",
    "df_OLX_SP = df_OLX_SP.withColumn('Link', lit(0))\n"
   ]
  },
  {
   "cell_type": "markdown",
   "metadata": {
    "application/vnd.databricks.v1+cell": {
     "cellMetadata": {},
     "inputWidgets": {},
     "nuid": "cecb78d4-bfe4-4759-a17a-21b2cabc1fec",
     "showTitle": false,
     "tableResultSettingsMap": {},
     "title": ""
    }
   },
   "source": [
    "#####Enrichment with cep info"
   ]
  },
  {
   "cell_type": "code",
   "execution_count": 0,
   "metadata": {
    "application/vnd.databricks.v1+cell": {
     "cellMetadata": {
      "byteLimit": 2048000,
      "rowLimit": 10000
     },
     "inputWidgets": {},
     "nuid": "6103163e-52bf-4654-82fa-e97ac84f9b19",
     "showTitle": false,
     "tableResultSettingsMap": {},
     "title": ""
    }
   },
   "outputs": [],
   "source": [
    "# Open table cep_sp from silver layer\n",
    "df_cep_sp = spark.table(\"silver_aux.cep_sp\")"
   ]
  },
  {
   "cell_type": "code",
   "execution_count": 0,
   "metadata": {
    "application/vnd.databricks.v1+cell": {
     "cellMetadata": {
      "byteLimit": 2048000,
      "rowLimit": 10000
     },
     "inputWidgets": {},
     "nuid": "77a818fc-5f08-427b-b981-04fed5f38ff7",
     "showTitle": false,
     "tableResultSettingsMap": {},
     "title": ""
    }
   },
   "outputs": [],
   "source": [
    "# 1. Defining a function to normalize strings: all column strings should be in lower case\n",
    "def normalizar_col(df, col_name):\n",
    "    return df.withColumn(col_name, trim(lower(col(col_name))))\n",
    "\n",
    "# Apply function to normalize\n",
    "for col_name in [\"localizacao\", \"bairro\"]:\n",
    "    df_OLX_SP = normalizar_col(df_OLX_SP, col_name)\n",
    "\n",
    "for col_name in [\"Logradouro\", \"Bairro\"]:\n",
    "    df_cep_sp = normalizar_col(df_cep_sp, col_name)\n"
   ]
  },
  {
   "cell_type": "code",
   "execution_count": 0,
   "metadata": {
    "application/vnd.databricks.v1+cell": {
     "cellMetadata": {
      "byteLimit": 2048000,
      "rowLimit": 10000
     },
     "inputWidgets": {},
     "nuid": "aad4b5fb-93ef-4d4c-8b2a-58bec10f9d26",
     "showTitle": false,
     "tableResultSettingsMap": {},
     "title": ""
    }
   },
   "outputs": [],
   "source": [
    "# 2. Rename columns localizacao to Logradouro and bairro to Bairro\n",
    "df_OLX_SP = df_OLX_SP.withColumnRenamed(\"localizacao\", \"Logradouro\")\n",
    "df_OLX_SP = df_OLX_SP.withColumnRenamed(\"bairro\", \"Bairro\")\n",
    "\n",
    "# 3. Convert cep to string \n",
    "df_cep_sp = df_cep_sp.withColumn(\"Cep\", col(\"Cep\").cast(StringType()))\n"
   ]
  },
  {
   "cell_type": "code",
   "execution_count": 0,
   "metadata": {
    "application/vnd.databricks.v1+cell": {
     "cellMetadata": {
      "byteLimit": 2048000,
      "rowLimit": 10000
     },
     "inputWidgets": {},
     "nuid": "7b2b651f-8cb1-4452-af3b-9680ff156212",
     "showTitle": false,
     "tableResultSettingsMap": {},
     "title": ""
    }
   },
   "outputs": [],
   "source": [
    "# 4. Deduplicate CEP dataset (pick one cep for each logradouro)\n",
    "\n",
    "# Count how many times each cep appears in each neighborhood\n",
    "df_cep_freq = df_cep_sp.groupBy(\"Bairro\", \"Cep\") \\\n",
    "    .agg(count(\"*\").alias(\"freq\"))\n",
    "\n",
    "window_spec = Window.partitionBy( \"Bairro\").orderBy(col(\"freq\").desc(), col(\"Cep\"))\n",
    "df_cep_dedup = df_cep_freq.withColumn(\"rn\", row_number().over(window_spec)).filter(col(\"rn\") == 1).drop(\"freq\", \"rn\")"
   ]
  },
  {
   "cell_type": "code",
   "execution_count": 0,
   "metadata": {
    "application/vnd.databricks.v1+cell": {
     "cellMetadata": {
      "byteLimit": 2048000,
      "rowLimit": 10000
     },
     "inputWidgets": {},
     "nuid": "6de6b175-9821-4f83-b0bd-23947c91ef27",
     "showTitle": false,
     "tableResultSettingsMap": {},
     "title": ""
    }
   },
   "outputs": [],
   "source": [
    "# 5. Main join by Bairro\n",
    "\n",
    "df_join = df_OLX_SP.join(\n",
    "    df_cep_dedup.select(\"Bairro\", \"Cep\"),\n",
    "    on=[\"Bairro\"],\n",
    "    how=\"left\"\n",
    ").select(df_OLX_SP[\"*\"], df_cep_dedup[\"Cep\"])  # Avoid errors\n"
   ]
  },
  {
   "cell_type": "code",
   "execution_count": 0,
   "metadata": {
    "application/vnd.databricks.v1+cell": {
     "cellMetadata": {
      "byteLimit": 2048000,
      "rowLimit": 10000
     },
     "inputWidgets": {},
     "nuid": "3e21d972-ff7b-442b-bc4f-e2bb923e2452",
     "showTitle": false,
     "tableResultSettingsMap": {},
     "title": ""
    }
   },
   "outputs": [
    {
     "output_type": "stream",
     "name": "stdout",
     "output_type": "stream",
     "text": [
      "2\n4969\n"
     ]
    }
   ],
   "source": [
    "# 6. Identify rows without CEP\n",
    "\n",
    "df_sem_cep = df_join.filter(col(\"Cep\").isNull())\n",
    "\n",
    "print(df_join.filter(col(\"Cep\").isNull()).count())\n",
    "print(df_join.count())"
   ]
  },
  {
   "cell_type": "code",
   "execution_count": 0,
   "metadata": {
    "application/vnd.databricks.v1+cell": {
     "cellMetadata": {
      "byteLimit": 2048000,
      "rowLimit": 10000
     },
     "inputWidgets": {},
     "nuid": "f8c91315-20a6-4705-bc91-359a968ddfa2",
     "showTitle": false,
     "tableResultSettingsMap": {},
     "title": ""
    }
   },
   "outputs": [
    {
     "output_type": "stream",
     "name": "stdout",
     "output_type": "stream",
     "text": [
      "Total de imóveis: 4969\nImóveis sem CEP: 2\n"
     ]
    }
   ],
   "source": [
    "# 7. Verify final results\n",
    "\n",
    "print(\"Total de imóveis:\", df_join.count())\n",
    "print(\"Imóveis sem CEP:\", df_join.filter(col(\"Cep\").isNull()).count())\n",
    "\n",
    "# Count ok!"
   ]
  },
  {
   "cell_type": "code",
   "execution_count": 0,
   "metadata": {
    "application/vnd.databricks.v1+cell": {
     "cellMetadata": {
      "byteLimit": 2048000,
      "rowLimit": 10000
     },
     "inputWidgets": {},
     "nuid": "8059e306-f205-4d9c-869a-ce7c8896a505",
     "showTitle": false,
     "tableResultSettingsMap": {},
     "title": ""
    }
   },
   "outputs": [],
   "source": [
    "df_final = df_join.filter(~col(\"Cep\").isNull()) # ~ means negative condition\n"
   ]
  },
  {
   "cell_type": "markdown",
   "metadata": {
    "application/vnd.databricks.v1+cell": {
     "cellMetadata": {},
     "inputWidgets": {},
     "nuid": "48249b70-6ea1-4785-8cae-7d11ff6fe8ec",
     "showTitle": false,
     "tableResultSettingsMap": {},
     "title": ""
    }
   },
   "source": [
    "#####Save dataset OLX SP"
   ]
  },
  {
   "cell_type": "code",
   "execution_count": 0,
   "metadata": {
    "application/vnd.databricks.v1+cell": {
     "cellMetadata": {
      "byteLimit": 2048000,
      "rowLimit": 10000
     },
     "inputWidgets": {},
     "nuid": "f88924bc-dd37-46a2-89c2-55337b702ff3",
     "showTitle": false,
     "tableResultSettingsMap": {},
     "title": ""
    }
   },
   "outputs": [],
   "source": [
    "# Apply Id function\n",
    "\n",
    "df_final = adicionar_id_imovel(df_final, 1102, nome_coluna=\"ID_imovel\")"
   ]
  },
  {
   "cell_type": "code",
   "execution_count": 0,
   "metadata": {
    "application/vnd.databricks.v1+cell": {
     "cellMetadata": {
      "byteLimit": 2048000,
      "rowLimit": 10000
     },
     "inputWidgets": {},
     "nuid": "ee301971-5369-4c1b-aed4-925691c14611",
     "showTitle": false,
     "tableResultSettingsMap": {},
     "title": ""
    }
   },
   "outputs": [],
   "source": [
    "# Map columns to schema\n",
    "column_mapping = {\n",
    "    'ID_imovel': 'ID_imovel',\n",
    "    'Link': 'Link',\n",
    "    'titulo':  'Titulo',\n",
    "    'logradouro': 'Endereco',\n",
    "    'Cep': 'Cep',\n",
    "    'preco_aluguel': 'Preco',\n",
    "    'preco_condominio': 'Condominio',\n",
    "    'iptu': 'IPTU',\n",
    "    'area': 'Area', \n",
    "    'quartos': 'Dormitorios',\n",
    "    'banheiros': 'Banheiros',\n",
    "    'garagem': 'Garagem',\n",
    "}\n",
    "\n",
    "# Renaming columns in the DataFrame using Pyspark\n",
    "for old_name, new_name in column_mapping.items():\n",
    "    df_final = df_final.withColumnRenamed(old_name, new_name)\n",
    "\n",
    "# Reorder the columns\n",
    "esquema= ['ID_imovel', 'Link', 'Titulo', 'Endereco', 'Bairro', 'Cep', 'Preco', 'Condominio', 'Iptu', 'Area', 'Dormitorios', 'Banheiros', 'Garagem']\n",
    "\n",
    "df_final = df_final.select(esquema)\n"
   ]
  },
  {
   "cell_type": "code",
   "execution_count": 0,
   "metadata": {
    "application/vnd.databricks.v1+cell": {
     "cellMetadata": {
      "byteLimit": 2048000,
      "rowLimit": 10000
     },
     "inputWidgets": {},
     "nuid": "a3f03328-520c-4d94-95bf-8b0d800b4ec3",
     "showTitle": false,
     "tableResultSettingsMap": {},
     "title": ""
    }
   },
   "outputs": [
    {
     "output_type": "stream",
     "name": "stdout",
     "output_type": "stream",
     "text": [
      "+---------+----+--------------------+--------------------+------------+--------+-------+----------+------+----+-----------+---------+-------+\n|ID_imovel|Link|              Titulo|            Endereco|      Bairro|     Cep|  Preco|Condominio|  Iptu|Area|Dormitorios|Banheiros|Garagem|\n+---------+----+--------------------+--------------------+------------+--------+-------+----------+------+----+-----------+---------+-------+\n| 11020001|   0|Casa Locação Alto...|são paulo, alto d...|alto da lapa|05059000|16096.0|       0.0|1300.0| 300|          3|        4|   null|\n| 11020002|   0|Apartamento Locaç...|são paulo, alto d...|alto da lapa|05059000| 7299.0|     840.0| 290.0|  87|          2|        3|   null|\n| 11020003|   0|Apartamento Locaç...|são paulo, alto d...|alto da lapa|05059000|11998.0|    3200.0|1800.0| 280|          4|        5|   null|\n| 11020004|   0|Kitnet 30m² 1 Dor...|são paulo, alto d...|alto da lapa|05059000| 1670.0|       0.0|   0.0|  30|          1|        1|   null|\n| 11020005|   0|Locação Apartamen...|são paulo, alto d...|alto da lapa|05059000| 7296.0|     840.0| 290.0|  87|          2|        3|   null|\n+---------+----+--------------------+--------------------+------------+--------+-------+----------+------+----+-----------+---------+-------+\nonly showing top 5 rows\n\n"
     ]
    }
   ],
   "source": [
    "df_final.show(5)"
   ]
  },
  {
   "cell_type": "code",
   "execution_count": 0,
   "metadata": {
    "application/vnd.databricks.v1+cell": {
     "cellMetadata": {
      "byteLimit": 2048000,
      "rowLimit": 10000
     },
     "inputWidgets": {},
     "nuid": "a384b55d-a1d5-4f41-a423-3c1d399a85f5",
     "showTitle": false,
     "tableResultSettingsMap": {},
     "title": ""
    }
   },
   "outputs": [
    {
     "output_type": "stream",
     "name": "stdout",
     "output_type": "stream",
     "text": [
      "+-------------------------------+-------+----+\n|Endereco                       |Preco  |qtde|\n+-------------------------------+-------+----+\n|são paulo, jardim das vertentes|2100.0 |53  |\n|são paulo, jardim das vertentes|1800.0 |50  |\n|são paulo, pinheiros           |5800.0 |34  |\n|são paulo, vila pompéia        |5900.0 |31  |\n|são paulo, pinheiros           |3500.0 |30  |\n|são paulo, pinheiros           |4000.0 |29  |\n|são paulo, pinheiros           |4500.0 |25  |\n|são paulo, pinheiros           |7000.0 |25  |\n|são paulo, pinheiros           |6500.0 |23  |\n|são paulo, lapa                |3750.0 |23  |\n|são paulo, perdizes            |3000.0 |22  |\n|são paulo, perdizes            |4500.0 |21  |\n|são paulo, pinheiros           |8000.0 |20  |\n|são paulo, pinheiros           |2500.0 |20  |\n|são paulo, pinheiros           |5500.0 |19  |\n|são paulo, sumaré              |5000.0 |19  |\n|são paulo, pinheiros           |10000.0|18  |\n|são paulo, pinheiros           |2350.0 |18  |\n|são paulo, barra funda         |3000.0 |16  |\n|são paulo, pinheiros           |2800.0 |15  |\n+-------------------------------+-------+----+\nonly showing top 20 rows\n\n"
     ]
    }
   ],
   "source": [
    "# Verify duplicates, if endereco e preco are the same, hence i can consider duplicates\n",
    "\n",
    "df_final.groupBy(\"Endereco\", \"Preco\") \\\n",
    "    .agg(count(\"*\").alias(\"qtde\")) \\\n",
    "    .filter(col(\"qtde\") > 1) \\\n",
    "    .orderBy(col(\"qtde\").desc()) \\\n",
    "    .show(truncate=False)\n",
    "    "
   ]
  },
  {
   "cell_type": "code",
   "execution_count": 0,
   "metadata": {
    "application/vnd.databricks.v1+cell": {
     "cellMetadata": {
      "byteLimit": 2048000,
      "rowLimit": 10000
     },
     "inputWidgets": {},
     "nuid": "3ed0be29-6968-4671-8704-91b2c229ae2f",
     "showTitle": false,
     "tableResultSettingsMap": {},
     "title": ""
    }
   },
   "outputs": [
    {
     "output_type": "stream",
     "name": "stdout",
     "output_type": "stream",
     "text": [
      "Total de combinações duplicadas: 898\n"
     ]
    }
   ],
   "source": [
    "# Count duplicates\n",
    "duplicates = df_final.groupBy(\"Endereco\", \"Preco\") \\\n",
    "    .agg(count(\"*\").alias(\"qtde\")) \\\n",
    "    .filter(col(\"qtde\") > 1)\n",
    "\n",
    "print(\"Total de combinações duplicadas:\", duplicates.count())"
   ]
  },
  {
   "cell_type": "code",
   "execution_count": 0,
   "metadata": {
    "application/vnd.databricks.v1+cell": {
     "cellMetadata": {
      "byteLimit": 2048000,
      "rowLimit": 10000
     },
     "inputWidgets": {},
     "nuid": "0a7fcc23-8e39-4bd6-8ea5-06e32645f801",
     "showTitle": false,
     "tableResultSettingsMap": {},
     "title": ""
    }
   },
   "outputs": [
    {
     "output_type": "stream",
     "name": "stdout",
     "output_type": "stream",
     "text": [
      "1960\n"
     ]
    }
   ],
   "source": [
    "# Drop duplicates\n",
    "df_final = df_final.dropDuplicates([\"Endereco\", \"Preco\"])\n",
    "\n",
    "print(df_final.count()) # Finished with 1960 rows of data"
   ]
  },
  {
   "cell_type": "code",
   "execution_count": 0,
   "metadata": {
    "application/vnd.databricks.v1+cell": {
     "cellMetadata": {
      "byteLimit": 2048000,
      "rowLimit": 10000
     },
     "inputWidgets": {},
     "nuid": "6058b833-fe8e-4742-b899-cd5aabff4e30",
     "showTitle": false,
     "tableResultSettingsMap": {},
     "title": ""
    }
   },
   "outputs": [],
   "source": [
    "# Saving delta table in silver_imoveis database\n",
    "\n",
    "tabela = \"silver_imoveis.olx_sp\"\n",
    "\n",
    "if spark._jsparkSession.catalog().tableExists(tabela):\n",
    "    spark.sql(f\"DROP TABLE {tabela}\")\n",
    "\n",
    "# Delete metadata after dropping table(if it exists)\n",
    "dbutils.fs.rm(\"dbfs:/user/hive/warehouse/silver_imoveis.db/olx_sp\", recurse=True) \n",
    "\n",
    "# Write delta table in silver layer\n",
    "df_final.write.format(\"delta\").mode(\"overwrite\").saveAsTable(\"silver_imoveis.olx_sp\")"
   ]
  },
  {
   "cell_type": "markdown",
   "metadata": {
    "application/vnd.databricks.v1+cell": {
     "cellMetadata": {
      "byteLimit": 2048000,
      "rowLimit": 10000
     },
     "inputWidgets": {},
     "nuid": "5ce47034-4956-421a-9e7b-7046293ca4cb",
     "showTitle": false,
     "tableResultSettingsMap": {},
     "title": ""
    }
   },
   "source": [
    "####ZAP Rio"
   ]
  },
  {
   "cell_type": "code",
   "execution_count": 0,
   "metadata": {
    "application/vnd.databricks.v1+cell": {
     "cellMetadata": {
      "byteLimit": 2048000,
      "implicitDf": true,
      "rowLimit": 10000
     },
     "inputWidgets": {},
     "nuid": "3608a53c-b84d-42bf-9b8f-ef481a4d2628",
     "showTitle": false,
     "tableResultSettingsMap": {},
     "title": ""
    }
   },
   "outputs": [
    {
     "output_type": "stream",
     "name": "stdout",
     "output_type": "stream",
     "text": [
      "<bound method DataFrame.printSchema of DataFrame[link: string, preco: bigint, endereco: string, area: bigint, iptu: double, preco_condominio: double, quartos: string, banheiros: string, garagem: string]>"
     ]
    },
    {
     "output_type": "display_data",
     "data": {
      "text/html": [
       "<style scoped>\n",
       "  .table-result-container {\n",
       "    max-height: 300px;\n",
       "    overflow: auto;\n",
       "  }\n",
       "  table, th, td {\n",
       "    border: 1px solid black;\n",
       "    border-collapse: collapse;\n",
       "  }\n",
       "  th, td {\n",
       "    padding: 5px;\n",
       "  }\n",
       "  th {\n",
       "    text-align: left;\n",
       "  }\n",
       "</style><div class='table-result-container'><table class='table-result'><thead style='background-color: white'><tr><th>link</th><th>preco</th><th>endereco</th><th>area</th><th>iptu</th><th>preco_condominio</th><th>quartos</th><th>banheiros</th><th>garagem</th></tr></thead><tbody><tr><td>https://www.zapimoveis.com.br/imovel/aluguel-apartamento-2-quartos-lagoa-rio-de-janeiro-66m2-id-2779285837/</td><td>4500</td><td>Avenida Epitácio Pessoa</td><td>66</td><td>374.0</td><td>1222.0</td><td>2</td><td>1</td><td>1</td></tr></tbody></table></div>"
      ]
     },
     "metadata": {
      "application/vnd.databricks.v1+output": {
       "addedWidgets": {},
       "aggData": [],
       "aggError": "",
       "aggOverflow": false,
       "aggSchema": [],
       "aggSeriesLimitReached": false,
       "aggType": "",
       "arguments": {},
       "columnCustomDisplayInfos": {},
       "data": [
        [
         "https://www.zapimoveis.com.br/imovel/aluguel-apartamento-2-quartos-lagoa-rio-de-janeiro-66m2-id-2779285837/",
         4500,
         "Avenida Epitácio Pessoa",
         66,
         374.0,
         1222.0,
         "2",
         "1",
         "1"
        ]
       ],
       "datasetInfos": [],
       "dbfsResultPath": null,
       "isJsonSchema": true,
       "metadata": {},
       "overflow": false,
       "plotOptions": {
        "customPlotOptions": {},
        "displayType": "table",
        "pivotAggregation": null,
        "pivotColumns": null,
        "xColumns": null,
        "yColumns": null
       },
       "removedWidgets": [],
       "schema": [
        {
         "metadata": "{}",
         "name": "link",
         "type": "\"string\""
        },
        {
         "metadata": "{}",
         "name": "preco",
         "type": "\"long\""
        },
        {
         "metadata": "{}",
         "name": "endereco",
         "type": "\"string\""
        },
        {
         "metadata": "{}",
         "name": "area",
         "type": "\"long\""
        },
        {
         "metadata": "{}",
         "name": "iptu",
         "type": "\"double\""
        },
        {
         "metadata": "{}",
         "name": "preco_condominio",
         "type": "\"double\""
        },
        {
         "metadata": "{}",
         "name": "quartos",
         "type": "\"string\""
        },
        {
         "metadata": "{}",
         "name": "banheiros",
         "type": "\"string\""
        },
        {
         "metadata": "{}",
         "name": "garagem",
         "type": "\"string\""
        }
       ],
       "type": "table"
      }
     },
     "output_type": "display_data"
    }
   ],
   "source": [
    "# Open dataframe from the bronze layer\n",
    "\n",
    "df_ZAP_RJ = spark.table(\"bronze_imoveis.zap_rio\")\n",
    "\n",
    "display(df_ZAP_RJ.printSchema)\n",
    "display(df_ZAP_RJ.sample(.005))"
   ]
  },
  {
   "cell_type": "code",
   "execution_count": 0,
   "metadata": {
    "application/vnd.databricks.v1+cell": {
     "cellMetadata": {
      "byteLimit": 2048000,
      "implicitDf": true,
      "rowLimit": 10000
     },
     "inputWidgets": {},
     "nuid": "65e1fd35-1130-435d-994d-57dff0a45e48",
     "showTitle": false,
     "tableResultSettingsMap": {},
     "title": ""
    }
   },
   "outputs": [],
   "source": [
    "# Extract titulo from the link string\n",
    "\n",
    "df_ZAP_RJ = df_ZAP_RJ.withColumn(\n",
    "    \"Titulo\",\n",
    "    regexp_extract(\n",
    "        expr(\"concat_ws('-', slice(split(link, '/'), 5, 1))\"),\n",
    "        r'^(.*?)-rio-de-janeiro',\n",
    "        1\n",
    "    )\n",
    ")\n"
   ]
  },
  {
   "cell_type": "markdown",
   "metadata": {
    "application/vnd.databricks.v1+cell": {
     "cellMetadata": {},
     "inputWidgets": {},
     "nuid": "fea407fe-9b5e-4b66-b2da-2feaf2af1583",
     "showTitle": false,
     "tableResultSettingsMap": {},
     "title": ""
    }
   },
   "source": [
    "#####Enrichment with cep info"
   ]
  },
  {
   "cell_type": "code",
   "execution_count": 0,
   "metadata": {
    "application/vnd.databricks.v1+cell": {
     "cellMetadata": {
      "byteLimit": 2048000,
      "rowLimit": 10000
     },
     "inputWidgets": {},
     "nuid": "832188c4-0cb6-4c69-a6e4-d8e8d669220c",
     "showTitle": false,
     "tableResultSettingsMap": {},
     "title": ""
    }
   },
   "outputs": [],
   "source": [
    "# Open table cep_rio as pyspark dataset\n",
    "\n",
    "df_cep_rj = spark.table(\"silver_aux.cep_rio\")"
   ]
  },
  {
   "cell_type": "code",
   "execution_count": 0,
   "metadata": {
    "application/vnd.databricks.v1+cell": {
     "cellMetadata": {
      "byteLimit": 2048000,
      "rowLimit": 10000
     },
     "inputWidgets": {},
     "nuid": "667c732d-ba8f-45ec-b292-02b2f355c0e1",
     "showTitle": false,
     "tableResultSettingsMap": {},
     "title": ""
    }
   },
   "outputs": [],
   "source": [
    "# 1. Defining a function to normalize strings: all column strings should be in lower case\n",
    "def normalizar_col(df, col_name):\n",
    "    return df.withColumn(col_name, trim(lower(col(col_name))))\n",
    "\n",
    "# Apply function to normalize\n",
    "for col_name in [\"Endereco\"]:\n",
    "    df_ZAP_RJ = normalizar_col(df_ZAP_RJ, col_name)\n",
    "\n",
    "for col_name in [\"logradouro\"]:\n",
    "    df_cep_rj = normalizar_col(df_cep_rj, col_name)\n"
   ]
  },
  {
   "cell_type": "code",
   "execution_count": 0,
   "metadata": {
    "application/vnd.databricks.v1+cell": {
     "cellMetadata": {
      "byteLimit": 2048000,
      "rowLimit": 10000
     },
     "inputWidgets": {},
     "nuid": "36be1b2a-1b26-4b2f-a562-a0025693a298",
     "showTitle": false,
     "tableResultSettingsMap": {},
     "title": ""
    }
   },
   "outputs": [],
   "source": [
    "# 2. Rename columns localizacao to Logradouro and bairro to Bairro\n",
    "df_ZAP_RJ = df_ZAP_RJ.withColumnRenamed(\"Endereco\", \"Logradouro\")\n",
    "\n",
    "# 3. Convert cep to string \n",
    "df_cep_rj = df_cep_rj.withColumn(\"Cep\", col(\"Cep\").cast(StringType()))\n"
   ]
  },
  {
   "cell_type": "code",
   "execution_count": 0,
   "metadata": {
    "application/vnd.databricks.v1+cell": {
     "cellMetadata": {
      "byteLimit": 2048000,
      "rowLimit": 10000
     },
     "inputWidgets": {},
     "nuid": "5160d489-0bc7-42f4-8a0a-9cad761f71dd",
     "showTitle": false,
     "tableResultSettingsMap": {},
     "title": ""
    }
   },
   "outputs": [],
   "source": [
    "# 4. Deduplicate CEP dataset (pick one cep for each logradouro)\n",
    "\n",
    "# Count how many times each cep appears in each neighborhood\n",
    "df_cep_freq = df_cep_rj.groupBy(\"Logradouro\", \"Cep\") \\\n",
    "    .agg(count(\"*\").alias(\"freq\"),\n",
    "         first(\"Bairro\").alias(\"Bairro\")) # keep bairro info\n",
    "\n",
    "window_spec = Window.partitionBy( \"Logradouro\").orderBy(col(\"freq\").desc(), col(\"Cep\"))\n",
    "df_cep_dedup = df_cep_freq.withColumn(\"rn\", row_number().over(window_spec)).filter(col(\"rn\") == 1).drop(\"freq\", \"rn\")\n"
   ]
  },
  {
   "cell_type": "code",
   "execution_count": 0,
   "metadata": {
    "application/vnd.databricks.v1+cell": {
     "cellMetadata": {
      "byteLimit": 2048000,
      "rowLimit": 10000
     },
     "inputWidgets": {},
     "nuid": "4b86c84a-e1bc-4c4f-b8e0-59193bc35c6a",
     "showTitle": false,
     "tableResultSettingsMap": {},
     "title": ""
    }
   },
   "outputs": [],
   "source": [
    "# 5. Main join by Logradouro\n",
    "\n",
    "df_join = df_ZAP_RJ.join(\n",
    "    df_cep_dedup.select(\"Logradouro\", \"Cep\", \"Bairro\"),\n",
    "    on=[\"Logradouro\"],\n",
    "    how=\"left\"\n",
    ").select(df_ZAP_RJ[\"*\"], df_cep_dedup[\"Cep\"].alias(\"Cep\"), df_cep_dedup[\"Bairro\"].alias(\"Bairro\"))  # Avoid errors\n"
   ]
  },
  {
   "cell_type": "code",
   "execution_count": 0,
   "metadata": {
    "application/vnd.databricks.v1+cell": {
     "cellMetadata": {
      "byteLimit": 2048000,
      "rowLimit": 10000
     },
     "inputWidgets": {},
     "nuid": "5fb003af-3ef4-4790-bfc9-807ab8e9a526",
     "showTitle": false,
     "tableResultSettingsMap": {},
     "title": ""
    }
   },
   "outputs": [
    {
     "output_type": "stream",
     "name": "stdout",
     "output_type": "stream",
     "text": [
      "46\n387\n"
     ]
    }
   ],
   "source": [
    "# 6. Identify rows without CEP\n",
    "\n",
    "df_sem_cep = df_join.filter(col(\"Cep\").isNull())\n",
    "\n",
    "print(df_join.filter(col(\"Cep\").isNull()).count())\n",
    "print(df_join.count()) \n",
    "# There are 46 rows withou cep information after join"
   ]
  },
  {
   "cell_type": "code",
   "execution_count": 0,
   "metadata": {
    "application/vnd.databricks.v1+cell": {
     "cellMetadata": {
      "byteLimit": 2048000,
      "rowLimit": 10000
     },
     "inputWidgets": {},
     "nuid": "a658ee61-2f02-4a5a-8492-f730f0f6c29a",
     "showTitle": false,
     "tableResultSettingsMap": {},
     "title": ""
    },
    "jupyter": {
     "outputs_hidden": true
    }
   },
   "outputs": [],
   "source": [
    "# Extract bairros from link string if the string contains desired texts to fill df_sem_ep rows\n",
    "\n",
    "bairros = [\"copacabana\", \"ipanema\", \"leblon\", \"botafogo\", \"flamengo\", \"lapa\", \"gloria\", \"catete\", \"urca\", \"cosme-velho\"]\n",
    "\n",
    "df_sem_cep = df_sem_cep.withColumn(\"Bairro_join\", lit(None))\n",
    "\n",
    "# Search with contains\n",
    "for bairro in bairros:\n",
    "    df_sem_cep = df_sem_cep.withColumn(\n",
    "        \"Bairro_join\",\n",
    "        when(col(\"Bairro_join\").isNull() & col(\"Link\").contains(bairro), bairro).otherwise(col(\"Bairro_join\")))\n",
    "    "
   ]
  },
  {
   "cell_type": "code",
   "execution_count": 0,
   "metadata": {
    "application/vnd.databricks.v1+cell": {
     "cellMetadata": {
      "byteLimit": 2048000,
      "rowLimit": 10000
     },
     "inputWidgets": {},
     "nuid": "c345af77-38c8-43fc-a710-b35974a2eff5",
     "showTitle": false,
     "tableResultSettingsMap": {},
     "title": ""
    }
   },
   "outputs": [
    {
     "output_type": "stream",
     "name": "stdout",
     "output_type": "stream",
     "text": [
      "44\n46\n"
     ]
    }
   ],
   "source": [
    "print(df_sem_cep.filter(col(\"Bairro_join\").isNotNull()).count())\n",
    "print(df_sem_cep.count())\n",
    "# Count ok drop 2 rows "
   ]
  },
  {
   "cell_type": "code",
   "execution_count": 0,
   "metadata": {
    "application/vnd.databricks.v1+cell": {
     "cellMetadata": {
      "byteLimit": 2048000,
      "rowLimit": 10000
     },
     "inputWidgets": {},
     "nuid": "6c49a377-4ef1-480a-8b29-3ec8c17297fd",
     "showTitle": false,
     "tableResultSettingsMap": {},
     "title": ""
    }
   },
   "outputs": [
    {
     "output_type": "stream",
     "name": "stdout",
     "output_type": "stream",
     "text": [
      "44\n"
     ]
    }
   ],
   "source": [
    "df_sem_cep = df_sem_cep.filter(col(\"Bairro_join\").isNotNull())\n",
    "print(df_sem_cep.count())   # count ok                        "
   ]
  },
  {
   "cell_type": "code",
   "execution_count": 0,
   "metadata": {
    "application/vnd.databricks.v1+cell": {
     "cellMetadata": {
      "byteLimit": 2048000,
      "rowLimit": 10000
     },
     "inputWidgets": {},
     "nuid": "7ac59f43-186e-4ef7-8ce3-85f502dbbd0f",
     "showTitle": false,
     "tableResultSettingsMap": {},
     "title": ""
    }
   },
   "outputs": [],
   "source": [
    "# Normalizar nomes dos bairros\n",
    "df_cep_dedup_normalizado = df_cep_dedup.withColumn(\"Bairro_norm\", lower(trim(col(\"Bairro\"))))\n",
    "\n",
    "# Escolher um CEP por bairro (por ordem alfabética ou qualquer outro critério)\n",
    "f_cep_freq = df_cep_dedup.groupBy(\"Bairro\", \"Cep\") \\\n",
    "    .agg(count(\"*\").alias(\"freq\"),\n",
    "         first(\"Bairro\").alias(\"Bairro\")) # keep bairro info\n",
    "\n",
    "window_spec = Window.partitionBy( \"Bairro\").orderBy(col(\"freq\").desc(), col(\"Cep\"))\n",
    "\n",
    "df_cep_dedup_bairro = df_cep_freq.withColumn(\"rn\", row_number().over(window_spec)).filter(col(\"rn\") == 1).drop(\"freq\", \"rn\")\n"
   ]
  },
  {
   "cell_type": "code",
   "execution_count": 0,
   "metadata": {
    "application/vnd.databricks.v1+cell": {
     "cellMetadata": {
      "byteLimit": 2048000,
      "rowLimit": 10000
     },
     "inputWidgets": {},
     "nuid": "43bf15c8-2d23-4150-b3f2-9af9e01ad32d",
     "showTitle": false,
     "tableResultSettingsMap": {},
     "title": ""
    }
   },
   "outputs": [],
   "source": [
    "# Second join with sem cep dataframe to capture cep for this 44 rows\n",
    "\n",
    "# Normalize column Bairro\n",
    "df_cep_dedup_bairro_norm = df_cep_dedup_bairro.withColumn(\n",
    "    \"Bairro_normalizado\",\n",
    "    regexp_replace(lower(col(\"Bairro\")), \"[^a-z0-9]\", \"\"))\n",
    "\n",
    "\n",
    "# Perform join between datasets\n",
    "df_sem_cep_enriched = df_sem_cep.join(\n",
    "    df_cep_dedup_bairro_norm.select(\n",
    "        col(\"Bairro_normalizado\"),\n",
    "        col(\"Cep\").alias(\"Cep_enriched\")\n",
    "    ),\n",
    "    df_sem_cep[\"Bairro_join\"] == df_cep_dedup_bairro_norm[\"Bairro_normalizado\"],\n",
    "    how=\"left\"\n",
    ").drop(df_cep_dedup_bairro_norm[\"Bairro_normalizado\"])\n",
    "\n",
    "\n",
    "# Fill Cep values with cep from base_cep_dedup_bairro \n",
    "df_sem_cep_enriched = df_sem_cep_enriched.withColumn(\n",
    "    \"Cep\",\n",
    "    coalesce(col(\"Cep\"), col(\"Cep_enriched\"))\n",
    ").drop(\"Cep_enriched\")\n",
    "\n"
   ]
  },
  {
   "cell_type": "code",
   "execution_count": 0,
   "metadata": {
    "application/vnd.databricks.v1+cell": {
     "cellMetadata": {
      "byteLimit": 2048000,
      "rowLimit": 10000
     },
     "inputWidgets": {},
     "nuid": "3d757b22-afde-4207-ab07-92165409dade",
     "showTitle": false,
     "tableResultSettingsMap": {},
     "title": ""
    }
   },
   "outputs": [
    {
     "output_type": "stream",
     "name": "stdout",
     "output_type": "stream",
     "text": [
      "+--------------------+-----+----------+----+------+----------------+-------+---------+-------+--------------------+--------+------+-----------+\n|                link|preco|Logradouro|area|  iptu|preco_condominio|quartos|banheiros|garagem|              Titulo|     Cep|Bairro|Bairro_join|\n+--------------------+-----+----------+----+------+----------------+-------+---------+-------+--------------------+--------+------+-----------+\n|https://www.zapim...|10000|      null| 180| 719.0|          2100.0|      4|        3|      1|venda-apartamento...|22010000|  null| copacabana|\n|https://www.zapim...|23000|      null| 240|1562.0|          3008.0|      4|        2|      2|aluguel-apartamen...|22071110|  null|    ipanema|\n|https://www.zapim...|13000|      null| 421|1327.0|          4500.0|      4|        6|      1|venda-apartamento...|22231000|  null|   botafogo|\n|https://www.zapim...| 5200|      null| 110| 541.0|          2200.0|      3|        2|      1|venda-apartamento...|22010000|  null| copacabana|\n|https://www.zapim...|  350|      null|  36|  90.0|           463.0|      1|        1|   null|aluguel-apartamen...|22010000|  null| copacabana|\n+--------------------+-----+----------+----+------+----------------+-------+---------+-------+--------------------+--------+------+-----------+\nonly showing top 5 rows\n\n"
     ]
    }
   ],
   "source": [
    "df_sem_cep_enriched.show(5)\n",
    "                      "
   ]
  },
  {
   "cell_type": "code",
   "execution_count": 0,
   "metadata": {
    "application/vnd.databricks.v1+cell": {
     "cellMetadata": {
      "byteLimit": 2048000,
      "rowLimit": 10000
     },
     "inputWidgets": {},
     "nuid": "bf55fc58-3e95-4ebb-8c98-705e12cae176",
     "showTitle": false,
     "tableResultSettingsMap": {},
     "title": ""
    }
   },
   "outputs": [
    {
     "output_type": "stream",
     "name": "stdout",
     "output_type": "stream",
     "text": [
      "44\n0\n"
     ]
    }
   ],
   "source": [
    "print(df_sem_cep_enriched.count()) #count ok\n",
    "print(df_sem_cep_enriched.filter(col(\"Cep\").isNull()).count()) #count ok"
   ]
  },
  {
   "cell_type": "code",
   "execution_count": 0,
   "metadata": {
    "application/vnd.databricks.v1+cell": {
     "cellMetadata": {
      "byteLimit": 2048000,
      "rowLimit": 10000
     },
     "inputWidgets": {},
     "nuid": "9c74c1b3-4f07-4b5c-b524-60a628a1f74a",
     "showTitle": false,
     "tableResultSettingsMap": {},
     "title": ""
    }
   },
   "outputs": [
    {
     "output_type": "stream",
     "name": "stdout",
     "output_type": "stream",
     "text": [
      "df_join sem Nulls: 341\ndf_sem_cep_enriched: 44\n"
     ]
    }
   ],
   "source": [
    "print(\"df_join sem Nulls:\", df_join.filter(~col('Cep').isNull()).count())  # Deve ser 341\n",
    "print(\"df_sem_cep_enriched:\", df_sem_cep_enriched.count()) # Deve ser 44"
   ]
  },
  {
   "cell_type": "code",
   "execution_count": 0,
   "metadata": {
    "application/vnd.databricks.v1+cell": {
     "cellMetadata": {
      "byteLimit": 2048000,
      "rowLimit": 10000
     },
     "inputWidgets": {},
     "nuid": "e1356b04-033b-4aff-81c9-550b2cc0544c",
     "showTitle": false,
     "tableResultSettingsMap": {},
     "title": ""
    }
   },
   "outputs": [],
   "source": [
    "# Faz join entre df_join e df_sem_cep_enriched usando 'Link'\n",
    "df_join_final = df_join.alias(\"base\").join(\n",
    "    df_sem_cep_enriched.select(\n",
    "        \"Link\",\n",
    "        col(\"Cep\").alias(\"Cep_novo\"),\n",
    "        col(\"Bairro_join\").alias(\"Bairro_novo\")\n",
    "    ).alias(\"enriq\"),\n",
    "    on=\"Link\",\n",
    "    how=\"left\"\n",
    ")\n",
    "\n",
    "# Atualiza as colunas Cep e Bairro, mantendo os valores existentes se houver\n",
    "df_join_final = df_join_final.withColumn(\n",
    "    \"Cep\", coalesce(col(\"base.Cep\"), col(\"Cep_novo\"))\n",
    ").withColumn(\n",
    "    \"Bairro\", coalesce(col(\"base.Bairro\"), col(\"Bairro_novo\"))\n",
    ").drop(\"Cep_novo\", \"Bairro_novo\")\n"
   ]
  },
  {
   "cell_type": "code",
   "execution_count": 0,
   "metadata": {
    "application/vnd.databricks.v1+cell": {
     "cellMetadata": {
      "byteLimit": 2048000,
      "rowLimit": 10000
     },
     "inputWidgets": {},
     "nuid": "cb2f5d61-1e58-4ab7-8bee-f699b6f4534f",
     "showTitle": false,
     "tableResultSettingsMap": {},
     "title": ""
    }
   },
   "outputs": [],
   "source": [
    "# Drop only rows without cep\n",
    "df_join_final = df_join_final.filter((col(\"Cep\").isNotNull()) & (trim(col(\"Cep\")) != \"\"))\n"
   ]
  },
  {
   "cell_type": "code",
   "execution_count": 0,
   "metadata": {
    "application/vnd.databricks.v1+cell": {
     "cellMetadata": {
      "byteLimit": 2048000,
      "rowLimit": 10000
     },
     "inputWidgets": {},
     "nuid": "86b864be-e586-435b-93a5-6119965b92d8",
     "showTitle": false,
     "tableResultSettingsMap": {},
     "title": ""
    }
   },
   "outputs": [
    {
     "output_type": "stream",
     "name": "stdout",
     "output_type": "stream",
     "text": [
      "Total de imóveis: 413\nImóveis sem CEP: 0\n"
     ]
    }
   ],
   "source": [
    "# 11. Verificar resultado final\n",
    "print(\"Total de imóveis:\", df_join_final.count())\n",
    "print(\"Imóveis sem CEP:\", df_join_final.filter(col(\"Cep\").isNull()).count())\n",
    "\n",
    "# count ok!"
   ]
  },
  {
   "cell_type": "code",
   "execution_count": 0,
   "metadata": {
    "application/vnd.databricks.v1+cell": {
     "cellMetadata": {
      "byteLimit": 2048000,
      "rowLimit": 10000
     },
     "inputWidgets": {},
     "nuid": "b0589b83-d60e-43b2-a5df-f60e5dd519f7",
     "showTitle": false,
     "tableResultSettingsMap": {},
     "title": ""
    }
   },
   "outputs": [
    {
     "output_type": "stream",
     "name": "stdout",
     "output_type": "stream",
     "text": [
      "+--------------------+-----+--------------------+----+-------+----------------+-------+---------+-------+--------------------+--------+----------+\n|                link|preco|          Logradouro|area|   iptu|preco_condominio|quartos|banheiros|garagem|              Titulo|     Cep|    Bairro|\n+--------------------+-----+--------------------+----+-------+----------------+-------+---------+-------+--------------------+--------+----------+\n|https://www.zapim...| 2500|rua dois de dezembro|  41|  104.0|           751.0|      1|        1|      0|aluguel-apartamen...|22220040|  Flamengo|\n|https://www.zapim...| 3300| rua anita garibaldi|  90|  345.0|          1880.0|      3|        1|      0|venda-apartamento...|22041080|Copacabana|\n|https://www.zapim...| 6490|avenida ataulfo d...|  73|  370.0|           970.0|      3|        1|   null|aluguel-apartamen...|22440032|    Leblon|\n|https://www.zapim...| 7500|rua almirante gui...|  50|  366.0|          2396.0|      1|        1|      0|venda-flat-1-quar...|22440000|    Leblon|\n|https://www.zapim...| 3500|      praia botafogo|  50|  125.0|           707.0|      1|        1|      0|aluguel-apartamen...|22250040|  Botafogo|\n|https://www.zapim...|20000|                null| 200| 1245.0|          3829.0|      3|        2|      2|aluguel-apartamen...|22430030|    leblon|\n|https://www.zapim...|20000|                null| 200| 1245.0|          3829.0|      3|        2|      2|aluguel-apartamen...|22430030|    leblon|\n|https://www.zapim...|17500|rua nascimento silva| 240|14600.0|          3300.0|      4|        5|      3|aluguel-apartamen...|22421022|   Ipanema|\n|https://www.zapim...|20000|                null| 200| 1245.0|          3829.0|      3|        2|      2|aluguel-apartamen...|22430030|    leblon|\n|https://www.zapim...|20000|                null| 200| 1245.0|          3829.0|      3|        2|      2|aluguel-apartamen...|22430030|    leblon|\n|https://www.zapim...| 6500|rua visconde de s...| 100|  328.0|          1380.0|      2|        2|      1|aluguel-apartamen...|22271043|   Humaitá|\n|https://www.zapim...| 4800|   praia do flamengo|  35| 3000.0|           980.0|      1|        1|   null|aluguel-apartamen...|22210030|  Flamengo|\n|https://www.zapim...|15000|        rua sambaíba| 220| 1700.0|          4200.0|      3|        2|      2|aluguel-apartamen...|22450140|    Leblon|\n|https://www.zapim...| 5990|avenida epitácio ...| 140|  950.0|          2600.0|      3|        3|      1|aluguel-apartamen...|22410090|   Ipanema|\n|https://www.zapim...|20000|avenida delfim mo...| 137| 1926.0|          4293.0|      4|        2|      2|aluguel-apartamen...|22441000|    Leblon|\n|https://www.zapim...| 4000|       rua paissandu|  67|  405.0|           750.0|      1|        1|   null|aluguel-studio-1-...|22210080|  Flamengo|\n|https://www.zapim...|15000|   avenida atlântica| 344| 2100.0|          4150.0|      4|        7|      2|aluguel-apartamen...|22010000|Copacabana|\n|https://www.zapim...|17500|                null|  75|  575.0|           521.0|      3|        4|      0|aluguel-apartamen...|22010000|copacabana|\n|https://www.zapim...|29500|     rua rita ludolf| 250| 1719.0|          3967.0|      4|        5|      3|aluguel-apartamen...|22440060|    Leblon|\n|https://www.zapim...| 8990|                null|  29|    1.0|             1.0|      1|        1|   null|aluguel-apartamen...|22071110|   ipanema|\n+--------------------+-----+--------------------+----+-------+----------------+-------+---------+-------+--------------------+--------+----------+\nonly showing top 20 rows\n\n"
     ]
    }
   ],
   "source": [
    "df_join_final.show()"
   ]
  },
  {
   "cell_type": "code",
   "execution_count": 0,
   "metadata": {
    "application/vnd.databricks.v1+cell": {
     "cellMetadata": {
      "byteLimit": 2048000,
      "rowLimit": 10000
     },
     "inputWidgets": {},
     "nuid": "f9b8fca4-54c8-4e43-ad0d-38f550a082f8",
     "showTitle": false,
     "tableResultSettingsMap": {},
     "title": ""
    }
   },
   "outputs": [],
   "source": [
    "df_final = df_join_final"
   ]
  },
  {
   "cell_type": "markdown",
   "metadata": {
    "application/vnd.databricks.v1+cell": {
     "cellMetadata": {
      "byteLimit": 2048000,
      "rowLimit": 10000
     },
     "inputWidgets": {},
     "nuid": "ec2d4c0f-ee20-43ae-987d-ffad44e4ecd6",
     "showTitle": false,
     "tableResultSettingsMap": {},
     "title": ""
    }
   },
   "source": [
    "#####Save dataset ZAP RJ"
   ]
  },
  {
   "cell_type": "code",
   "execution_count": 0,
   "metadata": {
    "application/vnd.databricks.v1+cell": {
     "cellMetadata": {
      "byteLimit": 2048000,
      "rowLimit": 10000
     },
     "inputWidgets": {},
     "nuid": "66a059ba-f255-4586-9e2e-36c8b68e63fc",
     "showTitle": false,
     "tableResultSettingsMap": {},
     "title": ""
    }
   },
   "outputs": [],
   "source": [
    "# Apply Id function\n",
    "\n",
    "df_final = adicionar_id_imovel(df_final, 2103, nome_coluna=\"ID_imovel\")"
   ]
  },
  {
   "cell_type": "code",
   "execution_count": 0,
   "metadata": {
    "application/vnd.databricks.v1+cell": {
     "cellMetadata": {
      "byteLimit": 2048000,
      "rowLimit": 10000
     },
     "inputWidgets": {},
     "nuid": "5f6d636c-7fa5-4ded-bfc7-db88e5dbfc88",
     "showTitle": false,
     "tableResultSettingsMap": {},
     "title": ""
    }
   },
   "outputs": [],
   "source": [
    "# Map columns to schema\n",
    "column_mapping = {\n",
    "    'ID_imovel': 'ID_imovel',\n",
    "    'Link': 'Link',\n",
    "    'Titulo':  'Titulo',\n",
    "    'Logradouro': 'Endereco',\n",
    "    'Bairro': 'Bairro',\n",
    "    'Cep': 'Cep',\n",
    "    'Preco': 'Preco',\n",
    "    'preco_condominio': 'Condominio',\n",
    "    'IPTU': 'IPTU',\n",
    "    'Area': 'Area', \n",
    "    'quartos': 'Dormitorios',\n",
    "    'Banheiros': 'Banheiros',\n",
    "    'Garagem': 'Garagem',\n",
    "}\n",
    "\n",
    "# Renaming columns in the DataFrame using Pyspark\n",
    "for old_name, new_name in column_mapping.items():\n",
    "    df_final = df_final.withColumnRenamed(old_name, new_name)\n",
    "\n",
    "# Reorder the columns\n",
    "esquema= ['ID_imovel', 'Link', 'Titulo', 'Endereco', 'Bairro', 'Cep', 'Preco', 'Condominio', 'IPTU', 'Area', 'Dormitorios', 'Banheiros', 'Garagem']\n",
    "\n",
    "df_final = df_final.select(esquema)\n"
   ]
  },
  {
   "cell_type": "code",
   "execution_count": 0,
   "metadata": {
    "application/vnd.databricks.v1+cell": {
     "cellMetadata": {
      "byteLimit": 2048000,
      "rowLimit": 10000
     },
     "inputWidgets": {},
     "nuid": "ae10d4fb-8967-432b-955d-0be745301510",
     "showTitle": false,
     "tableResultSettingsMap": {},
     "title": ""
    }
   },
   "outputs": [
    {
     "output_type": "stream",
     "name": "stdout",
     "output_type": "stream",
     "text": [
      "+----------------------------+-----+----+\n|Endereco                    |Preco|qtde|\n+----------------------------+-----+----+\n|null                        |23000|17  |\n|null                        |13000|16  |\n|avenida vieira souto        |40000|8   |\n|null                        |20000|5   |\n|avenida vieira souto        |35000|4   |\n|rua das laranjeiras         |6500 |4   |\n|avenida ataulfo de paiva    |9500 |4   |\n|avenida general san martin  |18000|4   |\n|null                        |15990|4   |\n|rua professor arthur ramos  |11800|4   |\n|rua aristides espinola      |8500 |4   |\n|rua vinícius de moraes      |15500|3   |\n|avenida bartolomeu mitre    |10500|3   |\n|rua prudente de morais      |19900|3   |\n|rua visconde de pirajá      |9200 |3   |\n|rua raimundo correia        |4150 |3   |\n|rua prudente de morais      |18000|3   |\n|rua professor sabóia ribeiro|8500 |3   |\n|avenida epitácio pessoa     |15000|3   |\n|avenida epitácio pessoa     |5500 |3   |\n+----------------------------+-----+----+\nonly showing top 20 rows\n\n"
     ]
    }
   ],
   "source": [
    "# Verify duplicates, if endereco e preco are the same, hence i can consider duplicates\n",
    "\n",
    "df_final.groupBy(\"Endereco\", \"Preco\") \\\n",
    "    .agg(count(\"*\").alias(\"qtde\")) \\\n",
    "    .filter(col(\"qtde\") > 1) \\\n",
    "    .orderBy(col(\"qtde\").desc()) \\\n",
    "    .show(truncate=False)"
   ]
  },
  {
   "cell_type": "code",
   "execution_count": 0,
   "metadata": {
    "application/vnd.databricks.v1+cell": {
     "cellMetadata": {
      "byteLimit": 2048000,
      "rowLimit": 10000
     },
     "inputWidgets": {},
     "nuid": "8ca51355-bedc-4e67-b088-b01d72b07550",
     "showTitle": false,
     "tableResultSettingsMap": {},
     "title": ""
    }
   },
   "outputs": [
    {
     "output_type": "stream",
     "name": "stdout",
     "output_type": "stream",
     "text": [
      "Total de combinações duplicadas: 44\n"
     ]
    }
   ],
   "source": [
    "# Count duplicates\n",
    "duplicates = df_final.groupBy(\"Endereco\", \"Preco\") \\\n",
    "    .agg(count(\"*\").alias(\"qtde\")) \\\n",
    "    .filter(col(\"qtde\") > 1)\n",
    "\n",
    "print(\"Total de combinações duplicadas:\", duplicates.count())"
   ]
  },
  {
   "cell_type": "code",
   "execution_count": 0,
   "metadata": {
    "application/vnd.databricks.v1+cell": {
     "cellMetadata": {
      "byteLimit": 2048000,
      "rowLimit": 10000
     },
     "inputWidgets": {},
     "nuid": "dbd4b07d-056a-4098-867b-eac0f52f6b0f",
     "showTitle": false,
     "tableResultSettingsMap": {},
     "title": ""
    }
   },
   "outputs": [
    {
     "output_type": "stream",
     "name": "stdout",
     "output_type": "stream",
     "text": [
      "303\n"
     ]
    }
   ],
   "source": [
    "df_final = df_final.dropDuplicates([\"Endereco\", \"Preco\"])\n",
    "\n",
    "print(df_final.count()) # Finished with 303 rows of data"
   ]
  },
  {
   "cell_type": "code",
   "execution_count": 0,
   "metadata": {
    "application/vnd.databricks.v1+cell": {
     "cellMetadata": {
      "byteLimit": 2048000,
      "rowLimit": 10000
     },
     "inputWidgets": {},
     "nuid": "3eaf9a9e-cd3a-4e56-a70b-0486c9c0622c",
     "showTitle": false,
     "tableResultSettingsMap": {},
     "title": ""
    }
   },
   "outputs": [
    {
     "output_type": "stream",
     "name": "stdout",
     "output_type": "stream",
     "text": [
      "+---------+--------------------+--------------------+--------+----------+--------+-----+----------+------+----+-----------+---------+-------+\n|ID_imovel|                Link|              Titulo|Endereco|    Bairro|     Cep|Preco|Condominio|  IPTU|Area|Dormitorios|Banheiros|Garagem|\n+---------+--------------------+--------------------+--------+----------+--------+-----+----------+------+----+-----------+---------+-------+\n| 21030079|https://www.zapim...|aluguel-apartamen...|    null|copacabana|22010000|  300|      null|  null|  48|          1|        1|   null|\n| 21030192|https://www.zapim...|aluguel-apartamen...|    null|copacabana|22010000|  350|     463.0|  90.0|  36|          1|        1|   null|\n| 21030255|https://www.zapim...|aluguel-quitinete...|    null|copacabana|22010000| 1200|     780.0| 100.0|  25|          1|        1|      0|\n| 21030044|https://www.zapim...|venda-apartamento...|    null|copacabana|22010000| 5200|    2200.0| 541.0| 110|          3|        2|      1|\n| 21030211|https://www.zapim...|aluguel-apartamen...|    null|  flamengo|22210030| 7500|    4600.0|1641.0| 420|          4|        3|      1|\n+---------+--------------------+--------------------+--------+----------+--------+-----+----------+------+----+-----------+---------+-------+\nonly showing top 5 rows\n\n"
     ]
    }
   ],
   "source": [
    "df_final.show(5)"
   ]
  },
  {
   "cell_type": "code",
   "execution_count": 0,
   "metadata": {
    "application/vnd.databricks.v1+cell": {
     "cellMetadata": {
      "byteLimit": 2048000,
      "rowLimit": 10000
     },
     "inputWidgets": {},
     "nuid": "fd392c58-e1bc-4e1a-b17f-ddf67b960fdc",
     "showTitle": false,
     "tableResultSettingsMap": {},
     "title": ""
    }
   },
   "outputs": [],
   "source": [
    "# Saving delta table in silver_imoveis database\n",
    "\n",
    "tabela = \"silver_imoveis.zap_rio\"\n",
    "\n",
    "if spark._jsparkSession.catalog().tableExists(tabela):\n",
    "    spark.sql(f\"DROP TABLE {tabela}\")\n",
    "\n",
    "# Delete metadata after dropping table(if it exists)\n",
    "dbutils.fs.rm(\"dbfs:/user/hive/warehouse/silver_imoveis.db/zap_rio\", recurse=True) \n",
    "\n",
    "df_final.write.format(\"delta\")\\\n",
    "    .mode(\"overwrite\")\\\n",
    "        .option(\"overwriteSchema\", \"true\")\\\n",
    "            .saveAsTable(\"silver_imoveis.zap_rio\")\n",
    "            "
   ]
  },
  {
   "cell_type": "markdown",
   "metadata": {
    "application/vnd.databricks.v1+cell": {
     "cellMetadata": {
      "byteLimit": 2048000,
      "rowLimit": 10000
     },
     "inputWidgets": {},
     "nuid": "bbe5901f-ed34-4675-a39d-d7a4f235939e",
     "showTitle": false,
     "tableResultSettingsMap": {},
     "title": ""
    }
   },
   "source": [
    "####ZAP SP"
   ]
  },
  {
   "cell_type": "code",
   "execution_count": 0,
   "metadata": {
    "application/vnd.databricks.v1+cell": {
     "cellMetadata": {
      "byteLimit": 2048000,
      "implicitDf": true,
      "rowLimit": 10000
     },
     "inputWidgets": {},
     "nuid": "ce215cc8-bd4e-4fa2-9004-ba20a1f90fe1",
     "showTitle": false,
     "tableResultSettingsMap": {},
     "title": ""
    }
   },
   "outputs": [
    {
     "output_type": "display_data",
     "data": {
      "text/html": [
       "<style scoped>\n",
       "  .table-result-container {\n",
       "    max-height: 300px;\n",
       "    overflow: auto;\n",
       "  }\n",
       "  table, th, td {\n",
       "    border: 1px solid black;\n",
       "    border-collapse: collapse;\n",
       "  }\n",
       "  th, td {\n",
       "    padding: 5px;\n",
       "  }\n",
       "  th {\n",
       "    text-align: left;\n",
       "  }\n",
       "</style><div class='table-result-container'><table class='table-result'><thead style='background-color: white'><tr><th>num_affected_rows</th><th>num_inserted_rows</th></tr></thead><tbody></tbody></table></div>"
      ]
     },
     "metadata": {
      "application/vnd.databricks.v1+output": {
       "addedWidgets": {},
       "aggData": [],
       "aggError": "",
       "aggOverflow": false,
       "aggSchema": [],
       "aggSeriesLimitReached": false,
       "aggType": "",
       "arguments": {},
       "columnCustomDisplayInfos": {},
       "data": [],
       "datasetInfos": [],
       "dbfsResultPath": null,
       "isJsonSchema": true,
       "metadata": {},
       "overflow": false,
       "plotOptions": {
        "customPlotOptions": {},
        "displayType": "table",
        "pivotAggregation": null,
        "pivotColumns": null,
        "xColumns": null,
        "yColumns": null
       },
       "removedWidgets": [],
       "schema": [
        {
         "metadata": "{}",
         "name": "num_affected_rows",
         "type": "\"long\""
        },
        {
         "metadata": "{}",
         "name": "num_inserted_rows",
         "type": "\"long\""
        }
       ],
       "type": "table"
      }
     },
     "output_type": "display_data"
    }
   ],
   "source": [
    "%sql\n",
    "-- Using SQL to create a copy in silver database before applying transformations\n",
    "\n",
    "CREATE OR REPLACE TABLE silver_imoveis.zap_sp_sql AS\n",
    "SELECT *\n",
    "FROM bronze_imoveis.zap_sp;"
   ]
  },
  {
   "cell_type": "code",
   "execution_count": 0,
   "metadata": {
    "application/vnd.databricks.v1+cell": {
     "cellMetadata": {
      "byteLimit": 2048000,
      "implicitDf": true,
      "rowLimit": 10000
     },
     "inputWidgets": {},
     "nuid": "d7b58a09-564f-46a7-addb-448fba0f1f2b",
     "showTitle": false,
     "tableResultSettingsMap": {},
     "title": ""
    }
   },
   "outputs": [
    {
     "output_type": "display_data",
     "data": {
      "text/html": [
       "<style scoped>\n",
       "  .table-result-container {\n",
       "    max-height: 300px;\n",
       "    overflow: auto;\n",
       "  }\n",
       "  table, th, td {\n",
       "    border: 1px solid black;\n",
       "    border-collapse: collapse;\n",
       "  }\n",
       "  th, td {\n",
       "    padding: 5px;\n",
       "  }\n",
       "  th {\n",
       "    text-align: left;\n",
       "  }\n",
       "</style><div class='table-result-container'><table class='table-result'><thead style='background-color: white'><tr><th>col_name</th><th>data_type</th><th>comment</th></tr></thead><tbody><tr><td>link</td><td>string</td><td>null</td></tr><tr><td>preco</td><td>string</td><td>null</td></tr><tr><td>endereco</td><td>string</td><td>null</td></tr><tr><td>title</td><td>string</td><td>null</td></tr><tr><td>area</td><td>string</td><td>null</td></tr><tr><td>iptu</td><td>array<string></td><td>null</td></tr><tr><td>preco_condominio</td><td>array<string></td><td>null</td></tr><tr><td>quartos</td><td>string</td><td>null</td></tr><tr><td>banheiros</td><td>string</td><td>null</td></tr><tr><td>garagem</td><td>string</td><td>null</td></tr></tbody></table></div>"
      ]
     },
     "metadata": {
      "application/vnd.databricks.v1+output": {
       "addedWidgets": {},
       "aggData": [],
       "aggError": "",
       "aggOverflow": false,
       "aggSchema": [],
       "aggSeriesLimitReached": false,
       "aggType": "",
       "arguments": {},
       "columnCustomDisplayInfos": {},
       "data": [
        [
         "link",
         "string",
         null
        ],
        [
         "preco",
         "string",
         null
        ],
        [
         "endereco",
         "string",
         null
        ],
        [
         "title",
         "string",
         null
        ],
        [
         "area",
         "string",
         null
        ],
        [
         "iptu",
         "array<string>",
         null
        ],
        [
         "preco_condominio",
         "array<string>",
         null
        ],
        [
         "quartos",
         "string",
         null
        ],
        [
         "banheiros",
         "string",
         null
        ],
        [
         "garagem",
         "string",
         null
        ]
       ],
       "datasetInfos": [],
       "dbfsResultPath": null,
       "isJsonSchema": true,
       "metadata": {},
       "overflow": false,
       "plotOptions": {
        "customPlotOptions": {},
        "displayType": "table",
        "pivotAggregation": null,
        "pivotColumns": null,
        "xColumns": null,
        "yColumns": null
       },
       "removedWidgets": [],
       "schema": [
        {
         "metadata": "{\"comment\":\"name of the column\"}",
         "name": "col_name",
         "type": "\"string\""
        },
        {
         "metadata": "{\"comment\":\"data type of the column\"}",
         "name": "data_type",
         "type": "\"string\""
        },
        {
         "metadata": "{\"comment\":\"comment of the column\"}",
         "name": "comment",
         "type": "\"string\""
        }
       ],
       "type": "table"
      }
     },
     "output_type": "display_data"
    }
   ],
   "source": [
    "%sql\n",
    "-- Using describe to display data types and column names\n",
    "\n",
    "DESCRIBE silver_imoveis.zap_sp_sql"
   ]
  },
  {
   "cell_type": "code",
   "execution_count": 0,
   "metadata": {
    "application/vnd.databricks.v1+cell": {
     "cellMetadata": {
      "byteLimit": 2048000,
      "implicitDf": true,
      "rowLimit": 10000
     },
     "inputWidgets": {},
     "nuid": "926f27f6-2395-4dc1-9737-4971279c80de",
     "showTitle": false,
     "tableResultSettingsMap": {},
     "title": ""
    }
   },
   "outputs": [
    {
     "output_type": "display_data",
     "data": {
      "text/html": [
       "<style scoped>\n",
       "  .table-result-container {\n",
       "    max-height: 300px;\n",
       "    overflow: auto;\n",
       "  }\n",
       "  table, th, td {\n",
       "    border: 1px solid black;\n",
       "    border-collapse: collapse;\n",
       "  }\n",
       "  th, td {\n",
       "    padding: 5px;\n",
       "  }\n",
       "  th {\n",
       "    text-align: left;\n",
       "  }\n",
       "</style><div class='table-result-container'><table class='table-result'><thead style='background-color: white'><tr><th>link</th><th>preco</th><th>endereco</th><th>title</th><th>area</th><th>iptu</th><th>preco_condominio</th><th>quartos</th><th>banheiros</th><th>garagem</th></tr></thead><tbody><tr><td>https://www.zapimoveis.com.br/imovel/aluguel-apartamento-3-quartos-mobiliado-pompeia-zona-oeste-sao-paulo-sp-70m2-id-2790787127/</td><td>R$ 4.496</td><td>Rua Venâncio Aires</td><td>Vila Pompéia, São Paulo</td><td>70 m²</td><td>List(Cond. R$ 1.236 ,  IPTU R$ 328)</td><td>List(Cond. R$ 1.236 ,  IPTU R$ 328)</td><td>3</td><td>2</td><td>2</td></tr><tr><td>https://www.zapimoveis.com.br/imovel/aluguel-apartamento-2-quartos-com-academia-perdizes-zona-oeste-sao-paulo-sp-61m2-id-2783198119/</td><td>R$ 5.000</td><td>null</td><td>Sumaré, São Paulo</td><td>61 m²</td><td>List(Cond. R$ 1.271 ,  IPTU R$ 425)</td><td>List(Cond. R$ 1.271 ,  IPTU R$ 425)</td><td>2</td><td>2</td><td>2</td></tr><tr><td>https://www.zapimoveis.com.br/imovel/aluguel-apartamento-1-quarto-com-academia-pompeia-zona-oeste-sao-paulo-sp-25m2-id-2780587822/</td><td>R$ 3.499</td><td>Rua Venâncio Aires</td><td>Vila Pompéia, São Paulo</td><td>25 m²</td><td>List(Cond. R$ 525 ,  IPTU R$ 100)</td><td>List(Cond. R$ 525 ,  IPTU R$ 100)</td><td>1</td><td>1</td><td>null</td></tr><tr><td>https://www.zapimoveis.com.br/imovel/aluguel-apartamento-2-quartos-com-piscina-jaguare-sao-paulo-49m2-id-2792125040/</td><td>R$ 1.500</td><td>Rua Floresto Bandecchi</td><td>Jaguaré, São Paulo</td><td>49 m²</td><td>List(Cond. R$ 543 ,  IPTU R$ 55)</td><td>List(Cond. R$ 543 ,  IPTU R$ 55)</td><td>2</td><td>1</td><td>1</td></tr><tr><td>https://www.zapimoveis.com.br/imovel/aluguel-apartamento-2-quartos-vila-madalena-sao-paulo-46m2-id-2792230750/</td><td>R$ 2.800</td><td>Rua Girassol</td><td>Vila Madalena, São Paulo</td><td>46 m²</td><td>List(Cond. R$ 831 ,  IPTU R$ 73)</td><td>List(Cond. R$ 831 ,  IPTU R$ 73)</td><td>2</td><td>1</td><td>1</td></tr></tbody></table></div>"
      ]
     },
     "metadata": {
      "application/vnd.databricks.v1+output": {
       "addedWidgets": {},
       "aggData": [],
       "aggError": "",
       "aggOverflow": false,
       "aggSchema": [],
       "aggSeriesLimitReached": false,
       "aggType": "",
       "arguments": {},
       "columnCustomDisplayInfos": {},
       "data": [
        [
         "https://www.zapimoveis.com.br/imovel/aluguel-apartamento-3-quartos-mobiliado-pompeia-zona-oeste-sao-paulo-sp-70m2-id-2790787127/",
         "R$ 4.496",
         "Rua Venâncio Aires",
         "Vila Pompéia, São Paulo",
         "70 m²",
         [
          "Cond. R$ 1.236 ",
          " IPTU R$ 328"
         ],
         [
          "Cond. R$ 1.236 ",
          " IPTU R$ 328"
         ],
         "3",
         "2",
         "2"
        ],
        [
         "https://www.zapimoveis.com.br/imovel/aluguel-apartamento-2-quartos-com-academia-perdizes-zona-oeste-sao-paulo-sp-61m2-id-2783198119/",
         "R$ 5.000",
         null,
         "Sumaré, São Paulo",
         "61 m²",
         [
          "Cond. R$ 1.271 ",
          " IPTU R$ 425"
         ],
         [
          "Cond. R$ 1.271 ",
          " IPTU R$ 425"
         ],
         "2",
         "2",
         "2"
        ],
        [
         "https://www.zapimoveis.com.br/imovel/aluguel-apartamento-1-quarto-com-academia-pompeia-zona-oeste-sao-paulo-sp-25m2-id-2780587822/",
         "R$ 3.499",
         "Rua Venâncio Aires",
         "Vila Pompéia, São Paulo",
         "25 m²",
         [
          "Cond. R$ 525 ",
          " IPTU R$ 100"
         ],
         [
          "Cond. R$ 525 ",
          " IPTU R$ 100"
         ],
         "1",
         "1",
         null
        ],
        [
         "https://www.zapimoveis.com.br/imovel/aluguel-apartamento-2-quartos-com-piscina-jaguare-sao-paulo-49m2-id-2792125040/",
         "R$ 1.500",
         "Rua Floresto Bandecchi",
         "Jaguaré, São Paulo",
         "49 m²",
         [
          "Cond. R$ 543 ",
          " IPTU R$ 55"
         ],
         [
          "Cond. R$ 543 ",
          " IPTU R$ 55"
         ],
         "2",
         "1",
         "1"
        ],
        [
         "https://www.zapimoveis.com.br/imovel/aluguel-apartamento-2-quartos-vila-madalena-sao-paulo-46m2-id-2792230750/",
         "R$ 2.800",
         "Rua Girassol",
         "Vila Madalena, São Paulo",
         "46 m²",
         [
          "Cond. R$ 831 ",
          " IPTU R$ 73"
         ],
         [
          "Cond. R$ 831 ",
          " IPTU R$ 73"
         ],
         "2",
         "1",
         "1"
        ]
       ],
       "datasetInfos": [],
       "dbfsResultPath": null,
       "isJsonSchema": true,
       "metadata": {},
       "overflow": false,
       "plotOptions": {
        "customPlotOptions": {},
        "displayType": "table",
        "pivotAggregation": null,
        "pivotColumns": null,
        "xColumns": null,
        "yColumns": null
       },
       "removedWidgets": [],
       "schema": [
        {
         "metadata": "{}",
         "name": "link",
         "type": "\"string\""
        },
        {
         "metadata": "{}",
         "name": "preco",
         "type": "\"string\""
        },
        {
         "metadata": "{}",
         "name": "endereco",
         "type": "\"string\""
        },
        {
         "metadata": "{}",
         "name": "title",
         "type": "\"string\""
        },
        {
         "metadata": "{}",
         "name": "area",
         "type": "\"string\""
        },
        {
         "metadata": "{}",
         "name": "iptu",
         "type": "{\"type\":\"array\",\"elementType\":\"string\",\"containsNull\":true}"
        },
        {
         "metadata": "{}",
         "name": "preco_condominio",
         "type": "{\"type\":\"array\",\"elementType\":\"string\",\"containsNull\":true}"
        },
        {
         "metadata": "{}",
         "name": "quartos",
         "type": "\"string\""
        },
        {
         "metadata": "{}",
         "name": "banheiros",
         "type": "\"string\""
        },
        {
         "metadata": "{}",
         "name": "garagem",
         "type": "\"string\""
        }
       ],
       "type": "table"
      }
     },
     "output_type": "display_data"
    }
   ],
   "source": [
    "%sql\n",
    "SELECT * \n",
    "FROM silver_imoveis.zap_sp_sql\n",
    "LIMIT 5"
   ]
  },
  {
   "cell_type": "code",
   "execution_count": 0,
   "metadata": {
    "application/vnd.databricks.v1+cell": {
     "cellMetadata": {
      "byteLimit": 2048000,
      "implicitDf": true,
      "rowLimit": 10000
     },
     "inputWidgets": {},
     "nuid": "41faa25d-005a-40eb-87b7-1139334b0696",
     "showTitle": false,
     "tableResultSettingsMap": {},
     "title": ""
    }
   },
   "outputs": [
    {
     "output_type": "display_data",
     "data": {
      "text/html": [
       "<style scoped>\n",
       "  .table-result-container {\n",
       "    max-height: 300px;\n",
       "    overflow: auto;\n",
       "  }\n",
       "  table, th, td {\n",
       "    border: 1px solid black;\n",
       "    border-collapse: collapse;\n",
       "  }\n",
       "  th, td {\n",
       "    padding: 5px;\n",
       "  }\n",
       "  th {\n",
       "    text-align: left;\n",
       "  }\n",
       "</style><div class='table-result-container'><table class='table-result'><thead style='background-color: white'><tr><th>num_affected_rows</th><th>num_inserted_rows</th></tr></thead><tbody></tbody></table></div>"
      ]
     },
     "metadata": {
      "application/vnd.databricks.v1+output": {
       "addedWidgets": {},
       "aggData": [],
       "aggError": "",
       "aggOverflow": false,
       "aggSchema": [],
       "aggSeriesLimitReached": false,
       "aggType": "",
       "arguments": {},
       "columnCustomDisplayInfos": {},
       "data": [],
       "datasetInfos": [],
       "dbfsResultPath": null,
       "isJsonSchema": true,
       "metadata": {},
       "overflow": false,
       "plotOptions": {
        "customPlotOptions": {},
        "displayType": "table",
        "pivotAggregation": null,
        "pivotColumns": null,
        "xColumns": null,
        "yColumns": null
       },
       "removedWidgets": [],
       "schema": [
        {
         "metadata": "{}",
         "name": "num_affected_rows",
         "type": "\"long\""
        },
        {
         "metadata": "{}",
         "name": "num_inserted_rows",
         "type": "\"long\""
        }
       ],
       "type": "table"
      }
     },
     "output_type": "display_data"
    }
   ],
   "source": [
    "%sql\n",
    "-- Group all transformations inside a multiple CTE command and replace the table in silver layer\n",
    "\n",
    "CREATE OR REPLACE TABLE silver_imoveis.zap_sp_sql AS\n",
    "WITH \n",
    "extracted_condo AS (\n",
    "  SELECT \n",
    "    *,\n",
    "    CASE WHEN size (preco_condominio) > 0 THEN preco_condominio[0] ELSE NULL END \n",
    "    AS first_condo  -- 1st array element of condominio column\n",
    "  FROM silver_imoveis.zap_sp_sql),\n",
    "\n",
    "extracted_iptu AS (\n",
    "  SELECT\n",
    "  *, \n",
    "  CASE WHEN size (iptu) > 1 THEN iptu[1] ELSE NULL END \n",
    "  AS first_iptu -- Extract 2nd value of array of iptu column\n",
    "FROM extracted_condo),\n",
    "\n",
    "cleaned_data AS ( -- Formatting columns\n",
    "  SELECT\n",
    "    * EXCEPT (preco, area, preco_condominio, first_condo, iptu, first_iptu),\n",
    "    CAST(REPLACE(REGEXP_EXTRACT(first_condo, '([0-9]+[\\\\.]*[0-9]*)', 1), '.', '') AS FLOAT) AS condominio_cleaned,\n",
    "\n",
    "    CAST(REPLACE(REGEXP_EXTRACT(first_iptu, '([0-9]+[\\\\.]*[0-9]*)', 1), '.', '') AS FLOAT) AS iptu_cleaned,\n",
    "\n",
    "    CAST(REPLACE(REGEXP_EXTRACT(preco, '([0-9]+[.]*[0-9]*)', 1), '.', '') AS FLOAT) AS preco_cleaned,\n",
    "\n",
    "    CAST(REPLACE(REGEXP_EXTRACT(area, '(^[0-9]+)', 1), '.', '') AS INT) AS area_cleaned\n",
    "\n",
    "FROM extracted_iptu)\n",
    "\n",
    "-- renaming, reordering and changing data types \n",
    "SELECT \n",
    "  CAST(link AS STRING) AS Link,\n",
    "  CAST(title AS STRING) AS Titulo,\n",
    "  CAST(endereco AS STRING) AS Endereco,\n",
    "  CAST(REGEXP_EXTRACT(title, '^([^,]+)', 1) AS STRING) AS Bairro,\n",
    "  CAST('0' AS STRING) AS Cep,\n",
    "  CAST(preco_cleaned AS FLOAT) AS Preco,\n",
    "  CAST(condominio_cleaned AS FLOAT) AS Condominio,\n",
    "  CAST(iptu_cleaned AS FLOAT) AS IPTU,\n",
    "  CAST(area_cleaned AS INT) AS Area,\n",
    "  CAST(quartos AS INT) AS Dormitorios,\n",
    "  CAST(banheiros AS INT) AS Banheiros,\n",
    "  CAST(garagem AS INT) AS Garagem\n",
    "   \n",
    "FROM cleaned_data;"
   ]
  },
  {
   "cell_type": "code",
   "execution_count": 0,
   "metadata": {
    "application/vnd.databricks.v1+cell": {
     "cellMetadata": {
      "byteLimit": 2048000,
      "implicitDf": true,
      "rowLimit": 10000
     },
     "inputWidgets": {},
     "nuid": "e1b0f1de-9fbe-409a-a162-59ead3c8be2c",
     "showTitle": false,
     "tableResultSettingsMap": {},
     "title": ""
    }
   },
   "outputs": [
    {
     "output_type": "display_data",
     "data": {
      "text/html": [
       "<style scoped>\n",
       "  .table-result-container {\n",
       "    max-height: 300px;\n",
       "    overflow: auto;\n",
       "  }\n",
       "  table, th, td {\n",
       "    border: 1px solid black;\n",
       "    border-collapse: collapse;\n",
       "  }\n",
       "  th, td {\n",
       "    padding: 5px;\n",
       "  }\n",
       "  th {\n",
       "    text-align: left;\n",
       "  }\n",
       "</style><div class='table-result-container'><table class='table-result'><thead style='background-color: white'><tr><th>Link</th><th>Titulo</th><th>Endereco</th><th>Bairro</th><th>Cep</th><th>Preco</th><th>Condominio</th><th>IPTU</th><th>Area</th><th>Dormitorios</th><th>Banheiros</th><th>Garagem</th></tr></thead><tbody><tr><td>https://www.zapimoveis.com.br/imovel/aluguel-apartamento-3-quartos-mobiliado-pompeia-zona-oeste-sao-paulo-sp-70m2-id-2790787127/</td><td>Vila Pompéia, São Paulo</td><td>Rua Venâncio Aires</td><td>Vila Pompéia</td><td>0</td><td>4496.0</td><td>1236.0</td><td>328.0</td><td>70</td><td>3</td><td>2</td><td>2</td></tr><tr><td>https://www.zapimoveis.com.br/imovel/aluguel-apartamento-2-quartos-com-academia-perdizes-zona-oeste-sao-paulo-sp-61m2-id-2783198119/</td><td>Sumaré, São Paulo</td><td>null</td><td>Sumaré</td><td>0</td><td>5000.0</td><td>1271.0</td><td>425.0</td><td>61</td><td>2</td><td>2</td><td>2</td></tr><tr><td>https://www.zapimoveis.com.br/imovel/aluguel-apartamento-1-quarto-com-academia-pompeia-zona-oeste-sao-paulo-sp-25m2-id-2780587822/</td><td>Vila Pompéia, São Paulo</td><td>Rua Venâncio Aires</td><td>Vila Pompéia</td><td>0</td><td>3499.0</td><td>525.0</td><td>100.0</td><td>25</td><td>1</td><td>1</td><td>null</td></tr><tr><td>https://www.zapimoveis.com.br/imovel/aluguel-apartamento-2-quartos-com-piscina-jaguare-sao-paulo-49m2-id-2792125040/</td><td>Jaguaré, São Paulo</td><td>Rua Floresto Bandecchi</td><td>Jaguaré</td><td>0</td><td>1500.0</td><td>543.0</td><td>55.0</td><td>49</td><td>2</td><td>1</td><td>1</td></tr><tr><td>https://www.zapimoveis.com.br/imovel/aluguel-apartamento-2-quartos-vila-madalena-sao-paulo-46m2-id-2792230750/</td><td>Vila Madalena, São Paulo</td><td>Rua Girassol</td><td>Vila Madalena</td><td>0</td><td>2800.0</td><td>831.0</td><td>73.0</td><td>46</td><td>2</td><td>1</td><td>1</td></tr></tbody></table></div>"
      ]
     },
     "metadata": {
      "application/vnd.databricks.v1+output": {
       "addedWidgets": {},
       "aggData": [],
       "aggError": "",
       "aggOverflow": false,
       "aggSchema": [],
       "aggSeriesLimitReached": false,
       "aggType": "",
       "arguments": {},
       "columnCustomDisplayInfos": {},
       "data": [
        [
         "https://www.zapimoveis.com.br/imovel/aluguel-apartamento-3-quartos-mobiliado-pompeia-zona-oeste-sao-paulo-sp-70m2-id-2790787127/",
         "Vila Pompéia, São Paulo",
         "Rua Venâncio Aires",
         "Vila Pompéia",
         "0",
         4496.0,
         1236.0,
         328.0,
         70,
         3,
         2,
         2
        ],
        [
         "https://www.zapimoveis.com.br/imovel/aluguel-apartamento-2-quartos-com-academia-perdizes-zona-oeste-sao-paulo-sp-61m2-id-2783198119/",
         "Sumaré, São Paulo",
         null,
         "Sumaré",
         "0",
         5000.0,
         1271.0,
         425.0,
         61,
         2,
         2,
         2
        ],
        [
         "https://www.zapimoveis.com.br/imovel/aluguel-apartamento-1-quarto-com-academia-pompeia-zona-oeste-sao-paulo-sp-25m2-id-2780587822/",
         "Vila Pompéia, São Paulo",
         "Rua Venâncio Aires",
         "Vila Pompéia",
         "0",
         3499.0,
         525.0,
         100.0,
         25,
         1,
         1,
         null
        ],
        [
         "https://www.zapimoveis.com.br/imovel/aluguel-apartamento-2-quartos-com-piscina-jaguare-sao-paulo-49m2-id-2792125040/",
         "Jaguaré, São Paulo",
         "Rua Floresto Bandecchi",
         "Jaguaré",
         "0",
         1500.0,
         543.0,
         55.0,
         49,
         2,
         1,
         1
        ],
        [
         "https://www.zapimoveis.com.br/imovel/aluguel-apartamento-2-quartos-vila-madalena-sao-paulo-46m2-id-2792230750/",
         "Vila Madalena, São Paulo",
         "Rua Girassol",
         "Vila Madalena",
         "0",
         2800.0,
         831.0,
         73.0,
         46,
         2,
         1,
         1
        ]
       ],
       "datasetInfos": [],
       "dbfsResultPath": null,
       "isJsonSchema": true,
       "metadata": {},
       "overflow": false,
       "plotOptions": {
        "customPlotOptions": {},
        "displayType": "table",
        "pivotAggregation": null,
        "pivotColumns": null,
        "xColumns": null,
        "yColumns": null
       },
       "removedWidgets": [],
       "schema": [
        {
         "metadata": "{}",
         "name": "Link",
         "type": "\"string\""
        },
        {
         "metadata": "{}",
         "name": "Titulo",
         "type": "\"string\""
        },
        {
         "metadata": "{}",
         "name": "Endereco",
         "type": "\"string\""
        },
        {
         "metadata": "{}",
         "name": "Bairro",
         "type": "\"string\""
        },
        {
         "metadata": "{}",
         "name": "Cep",
         "type": "\"string\""
        },
        {
         "metadata": "{}",
         "name": "Preco",
         "type": "\"float\""
        },
        {
         "metadata": "{}",
         "name": "Condominio",
         "type": "\"float\""
        },
        {
         "metadata": "{}",
         "name": "IPTU",
         "type": "\"float\""
        },
        {
         "metadata": "{}",
         "name": "Area",
         "type": "\"integer\""
        },
        {
         "metadata": "{}",
         "name": "Dormitorios",
         "type": "\"integer\""
        },
        {
         "metadata": "{}",
         "name": "Banheiros",
         "type": "\"integer\""
        },
        {
         "metadata": "{}",
         "name": "Garagem",
         "type": "\"integer\""
        }
       ],
       "type": "table"
      }
     },
     "output_type": "display_data"
    }
   ],
   "source": [
    "%sql\n",
    "SELECT * \n",
    "FROM silver_imoveis.zap_sp_sql\n",
    "LIMIT 5"
   ]
  },
  {
   "cell_type": "markdown",
   "metadata": {
    "application/vnd.databricks.v1+cell": {
     "cellMetadata": {},
     "inputWidgets": {},
     "nuid": "0225e626-9fe6-43da-9954-eca5c07654b2",
     "showTitle": false,
     "tableResultSettingsMap": {},
     "title": ""
    }
   },
   "source": [
    "#####Enrichment with cep info"
   ]
  },
  {
   "cell_type": "code",
   "execution_count": 0,
   "metadata": {
    "application/vnd.databricks.v1+cell": {
     "cellMetadata": {
      "byteLimit": 2048000,
      "rowLimit": 10000
     },
     "inputWidgets": {},
     "nuid": "d0196b7e-1e63-4f68-bb74-629be85a3ac0",
     "showTitle": false,
     "tableResultSettingsMap": {},
     "title": ""
    }
   },
   "outputs": [],
   "source": [
    "# Open table zap_sp_sql, that was previously treated (in sql) as pyspark dataset\n",
    "\n",
    "df_ZAP_SP = spark.table(\"silver_imoveis.zap_sp_sql\")"
   ]
  },
  {
   "cell_type": "code",
   "execution_count": 0,
   "metadata": {
    "application/vnd.databricks.v1+cell": {
     "cellMetadata": {
      "byteLimit": 2048000,
      "rowLimit": 10000
     },
     "inputWidgets": {},
     "nuid": "db0acd97-94df-45eb-9565-a0f519714cd1",
     "showTitle": false,
     "tableResultSettingsMap": {},
     "title": ""
    }
   },
   "outputs": [],
   "source": [
    "# Open table cep_sp as pyspark dataset\n",
    "\n",
    "df_cep_sp = spark.table(\"silver_aux.cep_sp\")"
   ]
  },
  {
   "cell_type": "code",
   "execution_count": 0,
   "metadata": {
    "application/vnd.databricks.v1+cell": {
     "cellMetadata": {
      "byteLimit": 2048000,
      "rowLimit": 10000
     },
     "inputWidgets": {},
     "nuid": "6dc03346-8a56-4a45-9ca7-cd430c377e08",
     "showTitle": false,
     "tableResultSettingsMap": {},
     "title": ""
    }
   },
   "outputs": [],
   "source": [
    "# 1. Defining a function to normalize strings: all column strings should be in lower case\n",
    "def normalizar_col(df, col_name):\n",
    "    return df.withColumn(col_name, trim(lower(col(col_name))))\n",
    "\n",
    "# Apply function to normalize\n",
    "for col_name in [\"Endereco\", \"Bairro\"]:\n",
    "    df_ZAP_SP = normalizar_col(df_ZAP_SP, col_name)\n",
    "\n",
    "for col_name in [\"logradouro\", \"bairro\"]:\n",
    "    df_cep_sp = normalizar_col(df_cep_sp, col_name)\n"
   ]
  },
  {
   "cell_type": "code",
   "execution_count": 0,
   "metadata": {
    "application/vnd.databricks.v1+cell": {
     "cellMetadata": {
      "byteLimit": 2048000,
      "rowLimit": 10000
     },
     "inputWidgets": {},
     "nuid": "e0ff84ec-c7d1-4d0d-a49f-f2c7ffb3fb63",
     "showTitle": false,
     "tableResultSettingsMap": {},
     "title": ""
    }
   },
   "outputs": [],
   "source": [
    "# 2. Rename columns localizacao to Logradouro\n",
    "df_ZAP_SP = df_ZAP_SP.withColumnRenamed(\"Endereco\", \"Logradouro\")\n",
    "\n",
    "# 3. Convert cep to string \n",
    "df_cep_sp = df_cep_sp.withColumn(\"Cep\", col(\"Cep\").cast(StringType()))\n"
   ]
  },
  {
   "cell_type": "code",
   "execution_count": 0,
   "metadata": {
    "application/vnd.databricks.v1+cell": {
     "cellMetadata": {
      "byteLimit": 2048000,
      "rowLimit": 10000
     },
     "inputWidgets": {},
     "nuid": "77ecfeef-5d39-4ec5-8425-705dddfe9943",
     "showTitle": false,
     "tableResultSettingsMap": {},
     "title": ""
    }
   },
   "outputs": [],
   "source": [
    "# 4. Deduplicate CEP database (choose only one CEP for each logradouro + bairro)\n",
    "window_spec = Window.partitionBy(\"Logradouro\", \"Bairro\").orderBy(\"Cep\")\n",
    "\n",
    "df_cep_dedup = df_cep_sp.withColumn(\"rn\", row_number().over(window_spec)).filter(col(\"rn\") == 1).drop(\"rn\")"
   ]
  },
  {
   "cell_type": "code",
   "execution_count": 0,
   "metadata": {
    "application/vnd.databricks.v1+cell": {
     "cellMetadata": {
      "byteLimit": 2048000,
      "rowLimit": 10000
     },
     "inputWidgets": {},
     "nuid": "e7777d03-8fd4-4013-a228-10732f67cbd6",
     "showTitle": false,
     "tableResultSettingsMap": {},
     "title": ""
    }
   },
   "outputs": [],
   "source": [
    "# 5. Main join using Logradouro + Bairro\n",
    "\n",
    "df_join = df_ZAP_SP.join(\n",
    "    df_cep_dedup.select(\n",
    "        col(\"Logradouro\"),\n",
    "        col( \"Bairro\"),\n",
    "        col(\"Cep\").alias(\"Cep_join\")),\n",
    "    on=[\"Logradouro\", \"Bairro\"],\n",
    "    how=\"left\"\n",
    ").select(df_ZAP_SP[\"*\"], col(\"Cep_join\"))  # avoid errors in column names\n"
   ]
  },
  {
   "cell_type": "code",
   "execution_count": 0,
   "metadata": {
    "application/vnd.databricks.v1+cell": {
     "cellMetadata": {
      "byteLimit": 2048000,
      "rowLimit": 10000
     },
     "inputWidgets": {},
     "nuid": "646b5b59-179d-4192-b8c3-21397cfba18e",
     "showTitle": false,
     "tableResultSettingsMap": {},
     "title": ""
    }
   },
   "outputs": [
    {
     "output_type": "stream",
     "name": "stdout",
     "output_type": "stream",
     "text": [
      "+--------------------+--------------------+--------------------+-------------+---+------+----------+-----+----+-----------+---------+-------+--------+\n|                Link|              Titulo|          Logradouro|       Bairro|Cep| Preco|Condominio| IPTU|Area|Dormitorios|Banheiros|Garagem|Cep_join|\n+--------------------+--------------------+--------------------+-------------+---+------+----------+-----+----+-----------+---------+-------+--------+\n|https://www.zapim...|Vila Pompéia, São...|  rua venâncio aires| vila pompéia|  0|4496.0|    1236.0|328.0|  70|          3|        2|      2|05024030|\n|https://www.zapim...|   Sumaré, São Paulo|                null|       sumaré|  0|5000.0|    1271.0|425.0|  61|          2|        2|      2|    null|\n|https://www.zapim...|Vila Pompéia, São...|  rua venâncio aires| vila pompéia|  0|3499.0|     525.0|100.0|  25|          1|        1|   null|05024030|\n|https://www.zapim...|  Jaguaré, São Paulo|rua floresto band...|      jaguaré|  0|1500.0|     543.0| 55.0|  49|          2|        1|      1|    null|\n|https://www.zapim...|Vila Madalena, Sã...|        rua girassol|vila madalena|  0|2800.0|     831.0| 73.0|  46|          2|        1|      1|05433000|\n+--------------------+--------------------+--------------------+-------------+---+------+----------+-----+----+-----------+---------+-------+--------+\nonly showing top 5 rows\n\n"
     ]
    }
   ],
   "source": [
    "display(df_join.show(5))"
   ]
  },
  {
   "cell_type": "code",
   "execution_count": 0,
   "metadata": {
    "application/vnd.databricks.v1+cell": {
     "cellMetadata": {
      "byteLimit": 2048000,
      "rowLimit": 10000
     },
     "inputWidgets": {},
     "nuid": "6e18e763-b78d-4c01-aed8-fa41e90b43a1",
     "showTitle": false,
     "tableResultSettingsMap": {},
     "title": ""
    }
   },
   "outputs": [
    {
     "output_type": "stream",
     "name": "stdout",
     "output_type": "stream",
     "text": [
      "128\n1500\n"
     ]
    }
   ],
   "source": [
    "# 6. Filter not assigned CEP rows\n",
    "\n",
    "df_sem_cep = df_join.filter(col(\"Cep_join\").isNull())\n",
    "print(df_sem_cep.count())\n",
    "\n",
    "print(df_join.count())\n",
    "# 128 rows were not populated with ceps let's try a fallback join"
   ]
  },
  {
   "cell_type": "code",
   "execution_count": 0,
   "metadata": {
    "application/vnd.databricks.v1+cell": {
     "cellMetadata": {
      "byteLimit": 2048000,
      "rowLimit": 10000
     },
     "inputWidgets": {},
     "nuid": "d1bf8020-6855-4573-8ebd-620f25af829d",
     "showTitle": false,
     "tableResultSettingsMap": {},
     "title": ""
    }
   },
   "outputs": [],
   "source": [
    "# 7. Deduplicate cep data using only bairro to perform second fallback join\n",
    "df_cep_bairro = df_cep_dedup.dropDuplicates([\"Bairro\"]).select(\"Bairro\", \"Cep\")\n",
    "\n",
    "# Rename column cep to avoid errors\n",
    "df_cep_bairro = df_cep_bairro.withColumnRenamed(\"Cep\", \"Cep_fallback\")"
   ]
  },
  {
   "cell_type": "code",
   "execution_count": 0,
   "metadata": {
    "application/vnd.databricks.v1+cell": {
     "cellMetadata": {
      "byteLimit": 2048000,
      "rowLimit": 10000
     },
     "inputWidgets": {},
     "nuid": "f724ee6d-1dc2-4cfc-aed3-bdd0b0893367",
     "showTitle": false,
     "tableResultSettingsMap": {},
     "title": ""
    }
   },
   "outputs": [],
   "source": [
    "# 8. Fallback join using only Bairro\n",
    "\n",
    "df_fallback = df_sem_cep.join(\n",
    "    df_cep_bairro,\n",
    "    on=\"Bairro\",\n",
    "    how=\"left\")\n"
   ]
  },
  {
   "cell_type": "code",
   "execution_count": 0,
   "metadata": {
    "application/vnd.databricks.v1+cell": {
     "cellMetadata": {
      "byteLimit": 2048000,
      "rowLimit": 10000
     },
     "inputWidgets": {},
     "nuid": "ba1e1ad5-04e5-49bf-ab68-0d262f18b524",
     "showTitle": false,
     "tableResultSettingsMap": {},
     "title": ""
    }
   },
   "outputs": [
    {
     "output_type": "stream",
     "name": "stdout",
     "output_type": "stream",
     "text": [
      "0\n128\n"
     ]
    }
   ],
   "source": [
    "print(df_fallback.filter(col(\"Cep_fallback\").isNull()).count())\n",
    "print(df_fallback.count())\n",
    "# count ok!"
   ]
  },
  {
   "cell_type": "code",
   "execution_count": 0,
   "metadata": {
    "application/vnd.databricks.v1+cell": {
     "cellMetadata": {
      "byteLimit": 2048000,
      "rowLimit": 10000
     },
     "inputWidgets": {},
     "nuid": "934fabb2-580b-49c6-bfe0-f79ad3c9b17f",
     "showTitle": false,
     "tableResultSettingsMap": {},
     "title": ""
    }
   },
   "outputs": [],
   "source": [
    "# Replace null values in column cep with cep fallback, then remove cep_fallback column\n",
    "\n",
    "# drop column cep from the original df\n",
    "df_fallback = df_fallback.drop(\"Cep\")\n",
    "\n",
    "df_fallback = df_fallback.withColumn(\n",
    "    \"Cep_join\",\n",
    "    when((col(\"Cep_join\").isNull()) | (col(\"Cep_fallback\") == \"0\"), col(\"Cep_fallback\"))\n",
    "    .otherwise(col(\"Cep_join\"))\n",
    ").drop(\"Cep_fallback\")\n"
   ]
  },
  {
   "cell_type": "code",
   "execution_count": 0,
   "metadata": {
    "application/vnd.databricks.v1+cell": {
     "cellMetadata": {
      "byteLimit": 2048000,
      "rowLimit": 10000
     },
     "inputWidgets": {},
     "nuid": "21676c79-7af0-4d32-a49f-1f31259061a4",
     "showTitle": false,
     "tableResultSettingsMap": {},
     "title": ""
    }
   },
   "outputs": [
    {
     "output_type": "stream",
     "name": "stdout",
     "output_type": "stream",
     "text": [
      "1372\n"
     ]
    }
   ],
   "source": [
    "# 9. Replace null CEP with fallback\n",
    "\n",
    "df_com_cep = df_join.filter(col(\"Cep_join\").isNotNull())\n",
    "\n",
    "print(df_com_cep.count())\n"
   ]
  },
  {
   "cell_type": "code",
   "execution_count": 0,
   "metadata": {
    "application/vnd.databricks.v1+cell": {
     "cellMetadata": {
      "byteLimit": 2048000,
      "rowLimit": 10000
     },
     "inputWidgets": {},
     "nuid": "6be2f845-0538-4ae4-8e4e-ad52d82f9d17",
     "showTitle": false,
     "tableResultSettingsMap": {},
     "title": ""
    }
   },
   "outputs": [],
   "source": [
    "# 10. Perform final union (keep same schema/columns)\n",
    "df_com_cep = df_com_cep.drop(\"Cep\")\n",
    "df_fallback = df_fallback.drop(\"Cep\")\n",
    "\n",
    "df_final = df_com_cep.unionByName(df_fallback)"
   ]
  },
  {
   "cell_type": "code",
   "execution_count": 0,
   "metadata": {
    "application/vnd.databricks.v1+cell": {
     "cellMetadata": {
      "byteLimit": 2048000,
      "rowLimit": 10000
     },
     "inputWidgets": {},
     "nuid": "ef7b1dff-b397-443f-a29d-11e23121063e",
     "showTitle": false,
     "tableResultSettingsMap": {},
     "title": ""
    }
   },
   "outputs": [],
   "source": [
    "# Rename column cep join to Cep\n",
    "\n",
    "df_final = df_final.withColumnRenamed(\"Cep_join\", \"Cep\")"
   ]
  },
  {
   "cell_type": "code",
   "execution_count": 0,
   "metadata": {
    "application/vnd.databricks.v1+cell": {
     "cellMetadata": {
      "byteLimit": 2048000,
      "rowLimit": 10000
     },
     "inputWidgets": {},
     "nuid": "c204a3af-6c04-436d-b26a-954240ef3cc3",
     "showTitle": false,
     "tableResultSettingsMap": {},
     "title": ""
    }
   },
   "outputs": [
    {
     "output_type": "stream",
     "name": "stdout",
     "output_type": "stream",
     "text": [
      "Total de imóveis: 1500\nImóveis sem CEP: 0\n"
     ]
    }
   ],
   "source": [
    "# 11. Check final results \n",
    "\n",
    "print(\"Total de imóveis:\", df_final.count())\n",
    "print(\"Imóveis sem CEP:\", df_final.filter(col(\"Cep\").isNull()).count())\n",
    "\n",
    "# Count ok!"
   ]
  },
  {
   "cell_type": "code",
   "execution_count": 0,
   "metadata": {
    "application/vnd.databricks.v1+cell": {
     "cellMetadata": {
      "byteLimit": 2048000,
      "rowLimit": 10000
     },
     "inputWidgets": {},
     "nuid": "3ca236b5-b049-410d-8d94-a0a51b26104c",
     "showTitle": false,
     "tableResultSettingsMap": {},
     "title": ""
    }
   },
   "outputs": [
    {
     "output_type": "stream",
     "name": "stdout",
     "output_type": "stream",
     "text": [
      "+--------------------+--------------------+----------------+---------------+------+----------+------+----+-----------+---------+-------+--------+\n|                Link|              Titulo|      Logradouro|         Bairro| Preco|Condominio|  IPTU|Area|Dormitorios|Banheiros|Garagem|     Cep|\n+--------------------+--------------------+----------------+---------------+------+----------+------+----+-----------+---------+-------+--------+\n|https://www.zapim...|Jardim Paulista, ...|alameda campinas|jardim paulista|4000.0|    1637.0|2326.0|  90|          2|        2|      1|01404000|\n|https://www.zapim...|Jardim Paulista, ...|alameda campinas|jardim paulista|4000.0|       1.0|   1.0|  30|          1|        1|      1|01404000|\n|https://www.zapim...|Jardim Paulista, ...|alameda campinas|jardim paulista|2320.0|    1200.0| 280.0|  33|          1|        1|      1|01404000|\n|                null|Jardim Paulista, ...|alameda campinas|jardim paulista|4200.0|      null|  null|  30|          1|        1|      1|01404000|\n|https://www.zapim...|Jardim Paulista, ...|alameda campinas|jardim paulista|2500.0|    1500.0| 200.0|  33|          1|        1|   null|01404000|\n+--------------------+--------------------+----------------+---------------+------+----------+------+----+-----------+---------+-------+--------+\nonly showing top 5 rows\n\nNone\n"
     ]
    }
   ],
   "source": [
    "print(df_final.show(5))"
   ]
  },
  {
   "cell_type": "markdown",
   "metadata": {
    "application/vnd.databricks.v1+cell": {
     "cellMetadata": {
      "byteLimit": 2048000,
      "rowLimit": 10000
     },
     "inputWidgets": {},
     "nuid": "42af1600-7903-4b69-be17-6fce71243927",
     "showTitle": false,
     "tableResultSettingsMap": {},
     "title": ""
    }
   },
   "source": [
    "#####Save dataset ZAP SP"
   ]
  },
  {
   "cell_type": "code",
   "execution_count": 0,
   "metadata": {
    "application/vnd.databricks.v1+cell": {
     "cellMetadata": {
      "byteLimit": 2048000,
      "rowLimit": 10000
     },
     "inputWidgets": {},
     "nuid": "bbeff650-aca7-43b2-8748-8be438c36088",
     "showTitle": false,
     "tableResultSettingsMap": {},
     "title": ""
    }
   },
   "outputs": [],
   "source": [
    "# Apply Id function\n",
    "\n",
    "df_final = adicionar_id_imovel(df_final, 1103, nome_coluna=\"ID_imovel\")"
   ]
  },
  {
   "cell_type": "code",
   "execution_count": 0,
   "metadata": {
    "application/vnd.databricks.v1+cell": {
     "cellMetadata": {
      "byteLimit": 2048000,
      "rowLimit": 10000
     },
     "inputWidgets": {},
     "nuid": "48f98733-2498-4757-b456-521db30d2d55",
     "showTitle": false,
     "tableResultSettingsMap": {},
     "title": ""
    }
   },
   "outputs": [],
   "source": [
    "# Map columns to schema\n",
    "column_mapping = {\n",
    "    'ID_imovel': 'ID_imovel',\n",
    "    'Link': 'Link',\n",
    "    'titulo':  'Titulo',\n",
    "    'Logradouro': 'Endereco',\n",
    "    'bairro': 'Bairro',\n",
    "    'Cep': 'Cep',\n",
    "    'Preco_': 'Preco',\n",
    "    'Condominio': 'Condominio',\n",
    "    'IPTU': 'IPTU',\n",
    "    'Area': 'Area', \n",
    "    'Dormitorios': 'Dormitorios',\n",
    "    'Banheiros': 'Banheiros',\n",
    "    'Garagem': 'Garagem',\n",
    "}\n",
    "\n",
    "# Renaming columns in the DataFrame using Pyspark\n",
    "for old_name, new_name in column_mapping.items():\n",
    "    df_final = df_final.withColumnRenamed(old_name, new_name)\n",
    "\n",
    "# Reorder the columns\n",
    "esquema= ['ID_imovel', 'Link', 'Titulo', 'Endereco', 'Bairro', 'Cep', 'Preco', 'Condominio', 'Iptu', 'Area', 'Dormitorios', 'Banheiros', 'Garagem']\n",
    "df_final = df_final.select(esquema)\n"
   ]
  },
  {
   "cell_type": "code",
   "execution_count": 0,
   "metadata": {
    "application/vnd.databricks.v1+cell": {
     "cellMetadata": {
      "byteLimit": 2048000,
      "rowLimit": 10000
     },
     "inputWidgets": {},
     "nuid": "b44d96eb-8ca3-4281-acce-9dafc37dfb40",
     "showTitle": false,
     "tableResultSettingsMap": {},
     "title": ""
    }
   },
   "outputs": [
    {
     "output_type": "stream",
     "name": "stdout",
     "output_type": "stream",
     "text": [
      "+---------+--------------------+--------------------+----------------+---------------+--------+------+----------+------+----+-----------+---------+-------+\n|ID_imovel|                Link|              Titulo|        Endereco|         Bairro|     Cep| Preco|Condominio|  Iptu|Area|Dormitorios|Banheiros|Garagem|\n+---------+--------------------+--------------------+----------------+---------------+--------+------+----------+------+----+-----------+---------+-------+\n| 11030001|https://www.zapim...|Jardim Paulista, ...|alameda campinas|jardim paulista|01404000|4000.0|    1637.0|2326.0|  90|          2|        2|      1|\n| 11030002|https://www.zapim...|Jardim Paulista, ...|alameda campinas|jardim paulista|01404000|4000.0|       1.0|   1.0|  30|          1|        1|      1|\n| 11030003|https://www.zapim...|Jardim Paulista, ...|alameda campinas|jardim paulista|01404000|2320.0|    1200.0| 280.0|  33|          1|        1|      1|\n| 11030004|                null|Jardim Paulista, ...|alameda campinas|jardim paulista|01404000|4200.0|      null|  null|  30|          1|        1|      1|\n| 11030005|https://www.zapim...|Jardim Paulista, ...|alameda campinas|jardim paulista|01404000|2500.0|    1500.0| 200.0|  33|          1|        1|   null|\n+---------+--------------------+--------------------+----------------+---------------+--------+------+----------+------+----+-----------+---------+-------+\nonly showing top 5 rows\n\n"
     ]
    }
   ],
   "source": [
    "df_final.show(5)"
   ]
  },
  {
   "cell_type": "code",
   "execution_count": 0,
   "metadata": {
    "application/vnd.databricks.v1+cell": {
     "cellMetadata": {
      "byteLimit": 2048000,
      "rowLimit": 10000
     },
     "inputWidgets": {},
     "nuid": "48f99e35-3eb6-46e9-8ac9-5fb1a3916093",
     "showTitle": false,
     "tableResultSettingsMap": {},
     "title": ""
    }
   },
   "outputs": [
    {
     "output_type": "stream",
     "name": "stdout",
     "output_type": "stream",
     "text": [
      "+-------------------------------------+-------+----+\n|Endereco                             |Preco  |qtde|\n+-------------------------------------+-------+----+\n|rua benedito branco de abreu         |1800.0 |7   |\n|rua da consolação                    |8100.0 |6   |\n|rua harmonia                         |3800.0 |5   |\n|rua benedito branco de abreu         |2100.0 |5   |\n|rua joseph nigri                     |5500.0 |5   |\n|null                                 |3000.0 |5   |\n|rua joão miguel jarra                |2600.0 |4   |\n|rua alves guimarães                  |4500.0 |4   |\n|rua francisco leitão                 |10800.0|4   |\n|rua federação paulista de futebol    |2700.0 |4   |\n|rua doutor virgílio de carvalho pinto|5999.0 |4   |\n|rua apinajés                         |4996.0 |4   |\n|rua diana                            |2999.0 |4   |\n|null                                 |3500.0 |4   |\n|rua sebastião gil                    |2800.0 |3   |\n|rua fernão dias                      |3800.0 |3   |\n|rua oscar freire                     |5495.0 |3   |\n|rua federação paulista de futebol    |2150.0 |3   |\n|rua ministro godói                   |4000.0 |3   |\n|avenida rebouças                     |8000.0 |3   |\n+-------------------------------------+-------+----+\nonly showing top 20 rows\n\n"
     ]
    }
   ],
   "source": [
    "# Verify duplicates, if endereco e preco are the same, hence i can consider duplicates\n",
    "\n",
    "df_final.groupBy(\"Endereco\", \"Preco\") \\\n",
    "    .agg(count(\"*\").alias(\"qtde\")) \\\n",
    "    .filter(col(\"qtde\") > 1) \\\n",
    "    .orderBy(col(\"qtde\").desc()) \\\n",
    "    .show(truncate=False)"
   ]
  },
  {
   "cell_type": "code",
   "execution_count": 0,
   "metadata": {
    "application/vnd.databricks.v1+cell": {
     "cellMetadata": {
      "byteLimit": 2048000,
      "rowLimit": 10000
     },
     "inputWidgets": {},
     "nuid": "e52bf33b-200c-4773-a0c1-aedf6a015841",
     "showTitle": false,
     "tableResultSettingsMap": {},
     "title": ""
    }
   },
   "outputs": [
    {
     "output_type": "stream",
     "name": "stdout",
     "output_type": "stream",
     "text": [
      "Total de combinações duplicadas: 200\n"
     ]
    }
   ],
   "source": [
    "duplicates = df_final.groupBy(\"Endereco\", \"Preco\") \\\n",
    "    .agg(count(\"*\").alias(\"qtde\")) \\\n",
    "    .filter(col(\"qtde\") > 1)\n",
    "\n",
    "print(\"Total de combinações duplicadas:\", duplicates.count())"
   ]
  },
  {
   "cell_type": "code",
   "execution_count": 0,
   "metadata": {
    "application/vnd.databricks.v1+cell": {
     "cellMetadata": {
      "byteLimit": 2048000,
      "rowLimit": 10000
     },
     "inputWidgets": {},
     "nuid": "95125e27-054f-46fd-bf4b-299388912e1a",
     "showTitle": false,
     "tableResultSettingsMap": {},
     "title": ""
    }
   },
   "outputs": [
    {
     "output_type": "stream",
     "name": "stdout",
     "output_type": "stream",
     "text": [
      "1223\n"
     ]
    }
   ],
   "source": [
    "df_final = df_final.dropDuplicates([\"Endereco\", \"Preco\"])\n",
    "\n",
    "print(df_final.count()) # Finished with 1223 rows of data"
   ]
  },
  {
   "cell_type": "code",
   "execution_count": 0,
   "metadata": {
    "application/vnd.databricks.v1+cell": {
     "cellMetadata": {
      "byteLimit": 2048000,
      "rowLimit": 10000
     },
     "inputWidgets": {},
     "nuid": "5c799b2a-0fc5-4b19-a8db-48b1d99d9293",
     "showTitle": false,
     "tableResultSettingsMap": {},
     "title": ""
    }
   },
   "outputs": [],
   "source": [
    "# Saving delta table in silver_imoveis database\n",
    "\n",
    "tabela = \"silver_imoveis.zap_sp\"\n",
    "\n",
    "if spark._jsparkSession.catalog().tableExists(tabela):\n",
    "    spark.sql(f\"DROP TABLE {tabela}\")\n",
    "\n",
    "# Delete metadata after dropping table(if it exists)\n",
    "dbutils.fs.rm(\"dbfs:/user/hive/warehouse/silver_imoveis.db/zap_sp\", recurse=True) \n",
    "\n",
    "df_final.write.format(\"delta\")\\\n",
    "    .mode(\"overwrite\")\\\n",
    "        .option(\"overwriteSchema\", \"true\")\\\n",
    "            .saveAsTable(\"silver_imoveis.zap_sp\")"
   ]
  },
  {
   "cell_type": "markdown",
   "metadata": {
    "application/vnd.databricks.v1+cell": {
     "cellMetadata": {},
     "inputWidgets": {},
     "nuid": "7de9bbb6-478c-4010-9e47-72b13149953e",
     "showTitle": false,
     "tableResultSettingsMap": {},
     "title": ""
    }
   },
   "source": [
    "## Etapa 3 Unificar as tabelas por cidade"
   ]
  },
  {
   "cell_type": "markdown",
   "metadata": {
    "application/vnd.databricks.v1+cell": {
     "cellMetadata": {},
     "inputWidgets": {},
     "nuid": "fa1d808e-2fe1-4b92-92fb-0a39666b2826",
     "showTitle": false,
     "tableResultSettingsMap": {},
     "title": ""
    }
   },
   "source": [
    "####Imóveis Rio"
   ]
  },
  {
   "cell_type": "code",
   "execution_count": 0,
   "metadata": {
    "application/vnd.databricks.v1+cell": {
     "cellMetadata": {
      "byteLimit": 2048000,
      "rowLimit": 10000
     },
     "inputWidgets": {},
     "nuid": "d28d2b49-af78-45e7-9834-193dee908c31",
     "showTitle": false,
     "tableResultSettingsMap": {},
     "title": ""
    }
   },
   "outputs": [],
   "source": [
    "# Create new tables in the silver layer for rio data\n",
    "\n",
    "# Open 3 already treated datasets for rio from the silver layer\n",
    "\n",
    "df_VR_RJ = spark.table(\"silver_imoveis.vivareal_rio\")\n",
    "\n",
    "df_OLX_RJ = spark.table(\"silver_imoveis.olx_rio\")\n",
    "\n",
    "df_ZAP_RJ = spark.table(\"silver_imoveis.zap_rio\")\n"
   ]
  },
  {
   "cell_type": "code",
   "execution_count": 0,
   "metadata": {
    "application/vnd.databricks.v1+cell": {
     "cellMetadata": {
      "byteLimit": 2048000,
      "rowLimit": 10000
     },
     "inputWidgets": {},
     "nuid": "aea12d82-303d-42ee-944f-99a2a7d78947",
     "showTitle": false,
     "tableResultSettingsMap": {},
     "title": ""
    }
   },
   "outputs": [],
   "source": [
    "# Perform Union\n",
    "\n",
    "df_RJ_All = df_ZAP_RJ.unionByName(df_OLX_RJ).unionByName(df_VR_RJ)\n"
   ]
  },
  {
   "cell_type": "code",
   "execution_count": 0,
   "metadata": {
    "application/vnd.databricks.v1+cell": {
     "cellMetadata": {
      "byteLimit": 2048000,
      "rowLimit": 10000
     },
     "inputWidgets": {},
     "nuid": "4148c3fc-3861-4f1b-80c9-10353f47b377",
     "showTitle": false,
     "tableResultSettingsMap": {},
     "title": ""
    }
   },
   "outputs": [],
   "source": [
    "# Saving delta table in silver_imoveis database\n",
    "\n",
    "tabela = \"silver_imoveis.imoveis_rio\"\n",
    "\n",
    "if spark._jsparkSession.catalog().tableExists(tabela):\n",
    "    spark.sql(f\"DROP TABLE {tabela}\")\n",
    "\n",
    "# Delete metadata after dropping table(if it exists)\n",
    "dbutils.fs.rm(\"dbfs:/user/hive/warehouse/silver_imoveis.db/imoveis_rio\", recurse=True) \n",
    "\n",
    "df_RJ_All.write.format(\"delta\")\\\n",
    "    .mode(\"overwrite\")\\\n",
    "        .option(\"overwriteSchema\", \"true\")\\\n",
    "            .saveAsTable(\"silver_imoveis.imoveis_rio\")"
   ]
  },
  {
   "cell_type": "markdown",
   "metadata": {
    "application/vnd.databricks.v1+cell": {
     "cellMetadata": {},
     "inputWidgets": {},
     "nuid": "4c75c988-554f-4e08-b0e6-42449032e0c2",
     "showTitle": false,
     "tableResultSettingsMap": {},
     "title": ""
    }
   },
   "source": [
    "####Imóveis São Paulo"
   ]
  },
  {
   "cell_type": "code",
   "execution_count": 0,
   "metadata": {
    "application/vnd.databricks.v1+cell": {
     "cellMetadata": {
      "byteLimit": 2048000,
      "rowLimit": 10000
     },
     "inputWidgets": {},
     "nuid": "a8df1673-739a-4b37-a692-dcb273044c20",
     "showTitle": false,
     "tableResultSettingsMap": {},
     "title": ""
    }
   },
   "outputs": [],
   "source": [
    "# Create new tables in the silver layer for rio data\n",
    "\n",
    "# Open 3 already treated datasets for rio from the silver layer\n",
    "\n",
    "df_VR_SP = spark.table(\"silver_imoveis.vivareal_sp\")\n",
    "\n",
    "df_OLX_SP = spark.table(\"silver_imoveis.olx_sp\")\n",
    "\n",
    "df_ZAP_SP = spark.table(\"silver_imoveis.zap_sp\")"
   ]
  },
  {
   "cell_type": "code",
   "execution_count": 0,
   "metadata": {
    "application/vnd.databricks.v1+cell": {
     "cellMetadata": {
      "byteLimit": 2048000,
      "rowLimit": 10000
     },
     "inputWidgets": {},
     "nuid": "525a0f6e-0b5d-4f1c-871d-40484c7edcd5",
     "showTitle": false,
     "tableResultSettingsMap": {},
     "title": ""
    }
   },
   "outputs": [],
   "source": [
    "# Perform Union\n",
    "\n",
    "df_SP_All = df_ZAP_SP.unionByName(df_OLX_SP).unionByName(df_VR_SP)"
   ]
  },
  {
   "cell_type": "code",
   "execution_count": 0,
   "metadata": {
    "application/vnd.databricks.v1+cell": {
     "cellMetadata": {
      "byteLimit": 2048000,
      "rowLimit": 10000
     },
     "inputWidgets": {},
     "nuid": "91e7cb6d-5374-441f-b0c0-5fe56918a4a9",
     "showTitle": false,
     "tableResultSettingsMap": {},
     "title": ""
    }
   },
   "outputs": [],
   "source": [
    "# Saving delta table in silver_imoveis database\n",
    "\n",
    "tabela = \"silver_imoveis.imoveis_sp\"\n",
    "\n",
    "if spark._jsparkSession.catalog().tableExists(tabela):\n",
    "    spark.sql(f\"DROP TABLE {tabela}\")\n",
    "\n",
    "# Delete metadata after dropping table(if it exists)\n",
    "dbutils.fs.rm(\"dbfs:/user/hive/warehouse/silver_imoveis.db/imoveis_sp\", recurse=True) \n",
    "\n",
    "df_SP_All.write.format(\"delta\")\\\n",
    "    .mode(\"overwrite\")\\\n",
    "        .option(\"overwriteSchema\", \"true\")\\\n",
    "            .saveAsTable(\"silver_imoveis.imoveis_sp\")"
   ]
  }
 ],
 "metadata": {
  "application/vnd.databricks.v1+notebook": {
   "computePreferences": null,
   "dashboards": [],
   "environmentMetadata": {
    "base_environment": "",
    "environment_version": "1"
   },
   "inputWidgetPreferences": null,
   "language": "python",
   "notebookMetadata": {
    "mostRecentlyExecutedCommandWithImplicitDF": {
     "commandId": 2636275757899494,
     "dataframes": [
      "_sqldf"
     ]
    },
    "pythonIndentUnit": 4
   },
   "notebookName": "MVP_Camada_Silver_2025-03-24 19:21:45",
   "widgets": {}
  }
 },
 "nbformat": 4,
 "nbformat_minor": 0
}