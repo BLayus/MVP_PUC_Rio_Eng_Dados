{
 "cells": [
  {
   "cell_type": "markdown",
   "metadata": {
    "application/vnd.databricks.v1+cell": {
     "cellMetadata": {},
     "inputWidgets": {},
     "nuid": "890ee405-80b0-43a2-8c92-8449a29b512e",
     "showTitle": false,
     "tableResultSettingsMap": {},
     "title": ""
    }
   },
   "source": [
    "###Inserindo Bases Auxiliares de Cep"
   ]
  },
  {
   "cell_type": "code",
   "execution_count": 0,
   "metadata": {
    "application/vnd.databricks.v1+cell": {
     "cellMetadata": {
      "byteLimit": 2048000,
      "rowLimit": 10000
     },
     "inputWidgets": {},
     "nuid": "6d0d1256-e0f4-4eff-ab6b-76324ac2b170",
     "showTitle": false,
     "tableResultSettingsMap": {},
     "title": ""
    }
   },
   "outputs": [],
   "source": [
    "# Import libraries\n",
    "\n",
    "import requests\n",
    "import pandas as pd\n",
    "import re\n",
    "\n",
    "from pyspark.sql.types import StringType\n",
    "from pyspark.sql.functions import (regexp_extract, col, regexp_replace, lit, when, concat_ws, expr,\n",
    "                                size, trim, split, lpad, lower, coalesce, count, row_number, first,\n",
    "                                monotonically_increasing_id, concat)\n",
    "\n",
    "from pyspark.sql.window import Window\n",
    "\n",
    "import shutil\n"
   ]
  },
  {
   "cell_type": "code",
   "execution_count": 0,
   "metadata": {
    "application/vnd.databricks.v1+cell": {
     "cellMetadata": {
      "byteLimit": 2048000,
      "implicitDf": true,
      "rowLimit": 10000
     },
     "inputWidgets": {},
     "nuid": "7e163793-c876-4d15-b12f-22a7aef11ba5",
     "showTitle": false,
     "tableResultSettingsMap": {},
     "title": ""
    }
   },
   "outputs": [
    {
     "output_type": "display_data",
     "data": {
      "text/html": [
       "<style scoped>\n",
       "  .table-result-container {\n",
       "    max-height: 300px;\n",
       "    overflow: auto;\n",
       "  }\n",
       "  table, th, td {\n",
       "    border: 1px solid black;\n",
       "    border-collapse: collapse;\n",
       "  }\n",
       "  th, td {\n",
       "    padding: 5px;\n",
       "  }\n",
       "  th {\n",
       "    text-align: left;\n",
       "  }\n",
       "</style><div class='table-result-container'><table class='table-result'><thead style='background-color: white'><tr></tr></thead><tbody></tbody></table></div>"
      ]
     },
     "metadata": {
      "application/vnd.databricks.v1+output": {
       "addedWidgets": {},
       "aggData": [],
       "aggError": "",
       "aggOverflow": false,
       "aggSchema": [],
       "aggSeriesLimitReached": false,
       "aggType": "",
       "arguments": {},
       "columnCustomDisplayInfos": {},
       "data": [],
       "datasetInfos": [],
       "dbfsResultPath": null,
       "isJsonSchema": true,
       "metadata": {},
       "overflow": false,
       "plotOptions": {
        "customPlotOptions": {},
        "displayType": "table",
        "pivotAggregation": null,
        "pivotColumns": null,
        "xColumns": null,
        "yColumns": null
       },
       "removedWidgets": [],
       "schema": [],
       "type": "table"
      }
     },
     "output_type": "display_data"
    }
   ],
   "source": [
    "%sql\n",
    "-- Create a new database for ceps in silver layer\n",
    "\n",
    "CREATE DATABASE IF NOT EXISTS silver_aux\n",
    "LOCATION 'dbfs:/mvp/database/silver_aux';"
   ]
  },
  {
   "cell_type": "code",
   "execution_count": 0,
   "metadata": {
    "application/vnd.databricks.v1+cell": {
     "cellMetadata": {
      "byteLimit": 2048000,
      "rowLimit": 10000
     },
     "inputWidgets": {},
     "nuid": "58e80e53-966c-4cb4-a8d0-f8789c36f670",
     "showTitle": false,
     "tableResultSettingsMap": {},
     "title": ""
    }
   },
   "outputs": [],
   "source": [
    "# Load cep bases from bronze_cep database\n",
    "\n",
    "df_cep_sp = spark.table(\"bronze_aux.cep_sp\")\n",
    "df_cep_rj = spark.table(\"bronze_aux.cep_rio\")\n"
   ]
  },
  {
   "cell_type": "code",
   "execution_count": 0,
   "metadata": {
    "application/vnd.databricks.v1+cell": {
     "cellMetadata": {
      "byteLimit": 2048000,
      "rowLimit": 10000
     },
     "inputWidgets": {},
     "nuid": "6dd36df7-29d4-49ca-9a1e-a491a728192a",
     "showTitle": false,
     "tableResultSettingsMap": {},
     "title": ""
    }
   },
   "outputs": [
    {
     "output_type": "stream",
     "name": "stdout",
     "output_type": "stream",
     "text": [
      "+-------+--------------------+------------+------+----------+----------+\n|    cep|          logradouro|      numero|bairro|cod_cidade|cod_estado|\n+-------+--------------------+------------+------+----------+----------+\n|1001000|         Praça da Sé|- lado ímpar|    Sé|      8966|        26|\n|1001001|         Praça da Sé|  - lado par|    Sé|      8966|        26|\n|1001010|Rua Filipe de Oli...|        null|    Sé|      8966|        26|\n|1001900|     Praça da Sé 108|        null|    Sé|      8966|        26|\n|1001901|     Praça da Sé 371|        null|    Sé|      8966|        26|\n+-------+--------------------+------------+------+----------+----------+\nonly showing top 5 rows\n\n"
     ]
    }
   ],
   "source": [
    "df_cep_sp.show(5)"
   ]
  },
  {
   "cell_type": "code",
   "execution_count": 0,
   "metadata": {
    "application/vnd.databricks.v1+cell": {
     "cellMetadata": {
      "byteLimit": 2048000,
      "rowLimit": 10000
     },
     "inputWidgets": {},
     "nuid": "edc67672-99c5-4019-8d1d-c1b7cb3ae496",
     "showTitle": false,
     "tableResultSettingsMap": {},
     "title": ""
    }
   },
   "outputs": [
    {
     "output_type": "stream",
     "name": "stdout",
     "output_type": "stream",
     "text": [
      "46395\n"
     ]
    }
   ],
   "source": [
    "print(df_cep_sp.count())"
   ]
  },
  {
   "cell_type": "code",
   "execution_count": 0,
   "metadata": {
    "application/vnd.databricks.v1+cell": {
     "cellMetadata": {
      "byteLimit": 2048000,
      "rowLimit": 10000
     },
     "inputWidgets": {},
     "nuid": "d4fd7603-46c8-487b-b226-edf021a9a168",
     "showTitle": false,
     "tableResultSettingsMap": {},
     "title": ""
    }
   },
   "outputs": [],
   "source": [
    "# Cleaning cep sp dataset\n",
    "\n",
    "df_cep_sp = df_cep_sp.withColumn(\"cep\", lpad(col(\"cep\").cast(\"string\"), 8, \"0\"))\n",
    "\n",
    "df_cep_sp = df_cep_sp.select(\n",
    "    trim(col(\"cep\")).alias(\"cep\"),\n",
    "    trim(col(\"logradouro\")).alias(\"logradouro\"),\n",
    "    trim(col(\"numero\")).alias(\"numero\"),\n",
    "    trim(col(\"bairro\")).alias(\"bairro\"),\n",
    "    trim(col(\"cod_cidade\")).alias(\"mun_ibge\"),\n",
    "    trim(col(\"cod_estado\")).alias(\"uf_ibge\")\n",
    ")\n",
    "\n"
   ]
  },
  {
   "cell_type": "code",
   "execution_count": 0,
   "metadata": {
    "application/vnd.databricks.v1+cell": {
     "cellMetadata": {
      "byteLimit": 2048000,
      "rowLimit": 10000
     },
     "inputWidgets": {},
     "nuid": "f9c95516-19ab-4335-9501-940ef98f1b06",
     "showTitle": false,
     "tableResultSettingsMap": {},
     "title": ""
    }
   },
   "outputs": [],
   "source": [
    "# Save table in silver layer\n",
    "\n",
    "df_cep_sp.write.format(\"delta\").mode(\"overwrite\").option(\"mergeSchema\", 'true').saveAsTable(\"silver_aux.cep_sp\")\n"
   ]
  },
  {
   "cell_type": "code",
   "execution_count": 0,
   "metadata": {
    "application/vnd.databricks.v1+cell": {
     "cellMetadata": {
      "byteLimit": 2048000,
      "rowLimit": 10000
     },
     "inputWidgets": {},
     "nuid": "6c452877-0c5d-4d8e-8d84-3269d906e9eb",
     "showTitle": false,
     "tableResultSettingsMap": {},
     "title": ""
    }
   },
   "outputs": [],
   "source": [
    "# Cleaning cep rio dataset\n",
    "\n",
    "df_cep_rj = df_cep_rj.withColumn(\"cep\", lpad(col(\"cep\").cast(\"string\"), 8, \"0\"))\n",
    "\n",
    "df_cep_rj = df_cep_rj.select(\n",
    "    trim(col(\"cep\")).alias(\"cep\"),\n",
    "    trim(col(\"logradouro\")).alias(\"logradouro\"),\n",
    "    trim(col(\"numero\")).alias(\"numero\"),\n",
    "    trim(col(\"bairro\")).alias(\"bairro\"),\n",
    "    trim(col(\"cod_cidade\")).alias(\"mun_ibge\"),\n",
    "    trim(col(\"cod_estado\")).alias(\"uf_ibge\")\n",
    ")\n"
   ]
  },
  {
   "cell_type": "code",
   "execution_count": 0,
   "metadata": {
    "application/vnd.databricks.v1+cell": {
     "cellMetadata": {
      "byteLimit": 2048000,
      "rowLimit": 10000
     },
     "inputWidgets": {},
     "nuid": "2accc169-e291-43e0-be09-bbadc5ffc08b",
     "showTitle": false,
     "tableResultSettingsMap": {},
     "title": ""
    }
   },
   "outputs": [],
   "source": [
    "# Save table in silver layer\n",
    "\n",
    "df_cep_rj.write.format(\"delta\").mode(\"overwrite\").option(\"mergeSchema\", 'true').saveAsTable(\"silver_aux.cep_rio\")\n"
   ]
  },
  {
   "cell_type": "code",
   "execution_count": 0,
   "metadata": {
    "application/vnd.databricks.v1+cell": {
     "cellMetadata": {
      "byteLimit": 2048000,
      "rowLimit": 10000
     },
     "inputWidgets": {},
     "nuid": "28520b5b-9f87-4591-a5a2-efabc501ed98",
     "showTitle": false,
     "tableResultSettingsMap": {},
     "title": ""
    }
   },
   "outputs": [
    {
     "output_type": "stream",
     "name": "stdout",
     "output_type": "stream",
     "text": [
      "19884\n"
     ]
    }
   ],
   "source": [
    "print(df_cep_rj.count())"
   ]
  },
  {
   "cell_type": "code",
   "execution_count": 0,
   "metadata": {
    "application/vnd.databricks.v1+cell": {
     "cellMetadata": {
      "byteLimit": 2048000,
      "rowLimit": 10000
     },
     "inputWidgets": {},
     "nuid": "f509a06d-247b-414c-bdc9-449868404d5c",
     "showTitle": false,
     "tableResultSettingsMap": {},
     "title": ""
    }
   },
   "outputs": [],
   "source": [
    "# Union of two cep datasets\n",
    "\n",
    "df_cep_SP_RJ = df_cep_sp.unionByName(df_cep_rj)"
   ]
  },
  {
   "cell_type": "code",
   "execution_count": 0,
   "metadata": {
    "application/vnd.databricks.v1+cell": {
     "cellMetadata": {
      "byteLimit": 2048000,
      "rowLimit": 10000
     },
     "inputWidgets": {},
     "nuid": "c86d69da-9727-48a8-8e43-0f4015b36f89",
     "showTitle": false,
     "tableResultSettingsMap": {},
     "title": ""
    }
   },
   "outputs": [],
   "source": [
    "# Save table in silver layer\n",
    "\n",
    "df_cep_SP_RJ.write.format(\"delta\").mode(\"overwrite\").option(\"mergeSchema\", 'true').saveAsTable(\"silver_aux.cep_SP_RJ\")\n"
   ]
  },
  {
   "cell_type": "markdown",
   "metadata": {
    "application/vnd.databricks.v1+cell": {
     "cellMetadata": {},
     "inputWidgets": {},
     "nuid": "ec202508-c52d-46c0-a504-6562c3cae1f8",
     "showTitle": false,
     "tableResultSettingsMap": {},
     "title": ""
    }
   },
   "source": [
    "#### Obter coordenadas com Base_geo"
   ]
  },
  {
   "cell_type": "code",
   "execution_count": 0,
   "metadata": {
    "application/vnd.databricks.v1+cell": {
     "cellMetadata": {
      "byteLimit": 2048000,
      "rowLimit": 10000
     },
     "inputWidgets": {},
     "nuid": "a511ba74-3cc2-4be5-b5e2-6cbfa6eb53b0",
     "showTitle": false,
     "tableResultSettingsMap": {},
     "title": ""
    }
   },
   "outputs": [],
   "source": [
    "# Open base_geo from bronze layer\n",
    "\n",
    "Base_geo = spark.table(\"bronze_aux.geo_base\")\n"
   ]
  },
  {
   "cell_type": "code",
   "execution_count": 0,
   "metadata": {
    "application/vnd.databricks.v1+cell": {
     "cellMetadata": {
      "byteLimit": 2048000,
      "rowLimit": 10000
     },
     "inputWidgets": {},
     "nuid": "3cfcbb6d-a094-47f4-bb29-ff650ee532e0",
     "showTitle": false,
     "tableResultSettingsMap": {},
     "title": ""
    }
   },
   "outputs": [
    {
     "output_type": "stream",
     "name": "stdout",
     "output_type": "stream",
     "text": [
      "+--------+------------+-----------+---------------+\n|postcode|         lon|        lat|     cd_geocodi|\n+--------+------------+-----------+---------------+\n|00000000| -46.6638301|-22.2576125|313490505000032|\n|00000001| -67.8387383|   -9.92166|120040105000325|\n|00000002|-67.88050835| -9.8820725|120040105000325|\n|00000003| -46.5144433|  -21.82057|315180005000240|\n|00000004| -67.8933533| -9.8820383|120040105000325|\n+--------+------------+-----------+---------------+\nonly showing top 5 rows\n\n"
     ]
    }
   ],
   "source": [
    "display(Base_geo.show(5))"
   ]
  },
  {
   "cell_type": "code",
   "execution_count": 0,
   "metadata": {
    "application/vnd.databricks.v1+cell": {
     "cellMetadata": {
      "byteLimit": 2048000,
      "rowLimit": 10000
     },
     "inputWidgets": {},
     "nuid": "a3a46340-c4aa-4f53-8a80-445fefd6f35f",
     "showTitle": false,
     "tableResultSettingsMap": {},
     "title": ""
    }
   },
   "outputs": [],
   "source": [
    "Base_geo = Base_geo.withColumn(\"postcode\", regexp_replace(\"postcode\", \"[^0-9]\", \"\"))"
   ]
  },
  {
   "cell_type": "code",
   "execution_count": 0,
   "metadata": {
    "application/vnd.databricks.v1+cell": {
     "cellMetadata": {
      "byteLimit": 2048000,
      "rowLimit": 10000
     },
     "inputWidgets": {},
     "nuid": "47eb5b5b-c446-407e-a886-e339de2b7bec",
     "showTitle": false,
     "tableResultSettingsMap": {},
     "title": ""
    }
   },
   "outputs": [],
   "source": [
    "Base_geo = Base_geo.withColumnRenamed('postcode', 'cep')"
   ]
  },
  {
   "cell_type": "code",
   "execution_count": 0,
   "metadata": {
    "application/vnd.databricks.v1+cell": {
     "cellMetadata": {
      "byteLimit": 2048000,
      "rowLimit": 10000
     },
     "inputWidgets": {},
     "nuid": "350616b5-9463-4899-89a7-c5f936bb9704",
     "showTitle": false,
     "tableResultSettingsMap": {},
     "title": ""
    }
   },
   "outputs": [
    {
     "output_type": "stream",
     "name": "stdout",
     "output_type": "stream",
     "text": [
      "429994\n"
     ]
    }
   ],
   "source": [
    "print(Base_geo.count())"
   ]
  },
  {
   "cell_type": "code",
   "execution_count": 0,
   "metadata": {
    "application/vnd.databricks.v1+cell": {
     "cellMetadata": {
      "byteLimit": 2048000,
      "rowLimit": 10000
     },
     "inputWidgets": {},
     "nuid": "03bd9271-4975-4293-950a-f4b9a0ddd1ea",
     "showTitle": false,
     "tableResultSettingsMap": {},
     "title": ""
    }
   },
   "outputs": [],
   "source": [
    "# Open base cep_sp_rj from silver\n",
    "\n",
    "cep_sp_rj = spark.table(\"silver_aux.cep_sp_rj\")\n"
   ]
  },
  {
   "cell_type": "code",
   "execution_count": 0,
   "metadata": {
    "application/vnd.databricks.v1+cell": {
     "cellMetadata": {
      "byteLimit": 2048000,
      "rowLimit": 10000
     },
     "inputWidgets": {},
     "nuid": "dc925bb4-7ada-4007-bc43-10a00b7b43c4",
     "showTitle": false,
     "tableResultSettingsMap": {},
     "title": ""
    }
   },
   "outputs": [
    {
     "output_type": "stream",
     "name": "stdout",
     "output_type": "stream",
     "text": [
      "66279\n"
     ]
    }
   ],
   "source": [
    "print(cep_sp_rj.count())"
   ]
  },
  {
   "cell_type": "code",
   "execution_count": 0,
   "metadata": {
    "application/vnd.databricks.v1+cell": {
     "cellMetadata": {
      "byteLimit": 2048000,
      "rowLimit": 10000
     },
     "inputWidgets": {},
     "nuid": "f9f8ce79-25a8-437b-b50e-226bbb24e68c",
     "showTitle": false,
     "tableResultSettingsMap": {},
     "title": ""
    }
   },
   "outputs": [],
   "source": [
    "# Join with cep_sp_rj\n",
    "\n",
    "df_cep_geo = cep_sp_rj.join(\n",
    "    Base_geo.select(\"cep\", \"lat\", \"lon\", \"cd_geocodi\"),\n",
    "    on=\"cep\",\n",
    "    how=\"left\"\n",
    ")\n"
   ]
  },
  {
   "cell_type": "code",
   "execution_count": 0,
   "metadata": {
    "application/vnd.databricks.v1+cell": {
     "cellMetadata": {
      "byteLimit": 2048000,
      "rowLimit": 10000
     },
     "inputWidgets": {},
     "nuid": "60453aea-f302-4e40-93d5-b50c4cfc91dd",
     "showTitle": false,
     "tableResultSettingsMap": {},
     "title": ""
    }
   },
   "outputs": [
    {
     "output_type": "stream",
     "name": "stdout",
     "output_type": "stream",
     "text": [
      "+--------+--------------------+------------+------+--------+-------+-----------+-----------+---------------+\n|     cep|          logradouro|      numero|bairro|mun_ibge|uf_ibge|        lat|        lon|     cd_geocodi|\n+--------+--------------------+------------+------+--------+-------+-----------+-----------+---------------+\n|01001000|         Praça da Sé|- lado ímpar|    Sé|    8966|     26|-23.5493251|-46.6336932|355030878000005|\n|01001001|         Praça da Sé|  - lado par|    Sé|    8966|     26|  -23.55046|-46.6342517|355030878000005|\n|01001010|Rua Filipe de Oli...|        null|    Sé|    8966|     26|-23.5513175|-46.6336815|355030878000004|\n|01001900|     Praça da Sé 108|        null|    Sé|    8966|     26|       null|       null|           null|\n|01001901|     Praça da Sé 371|        null|    Sé|    8966|     26|       null|       null|           null|\n+--------+--------------------+------------+------+--------+-------+-----------+-----------+---------------+\nonly showing top 5 rows\n\n"
     ]
    }
   ],
   "source": [
    "display(df_cep_geo.show(5))"
   ]
  },
  {
   "cell_type": "code",
   "execution_count": 0,
   "metadata": {
    "application/vnd.databricks.v1+cell": {
     "cellMetadata": {
      "byteLimit": 2048000,
      "rowLimit": 10000
     },
     "inputWidgets": {},
     "nuid": "c6850781-0969-4459-a033-8f3d359fa730",
     "showTitle": false,
     "tableResultSettingsMap": {},
     "title": ""
    }
   },
   "outputs": [
    {
     "output_type": "stream",
     "name": "stdout",
     "output_type": "stream",
     "text": [
      "22877\n66289\n"
     ]
    }
   ],
   "source": [
    "print(df_cep_geo.filter(col(\"lat\").isNull()).count())\n",
    "print(df_cep_geo.count())"
   ]
  },
  {
   "cell_type": "code",
   "execution_count": 0,
   "metadata": {
    "application/vnd.databricks.v1+cell": {
     "cellMetadata": {
      "byteLimit": 2048000,
      "rowLimit": 10000
     },
     "inputWidgets": {},
     "nuid": "568d1250-1403-4102-b5c6-52a44d0e9fc6",
     "showTitle": false,
     "tableResultSettingsMap": {},
     "title": ""
    }
   },
   "outputs": [],
   "source": [
    "# Save table in silver layer\n",
    "\n",
    "df_cep_geo.write.format(\"delta\").mode(\"overwrite\").option(\"mergeSchema\", 'true').saveAsTable(\"silver_aux.geo_base\")\n"
   ]
  }
 ],
 "metadata": {
  "application/vnd.databricks.v1+notebook": {
   "computePreferences": null,
   "dashboards": [],
   "environmentMetadata": {
    "base_environment": "",
    "environment_version": "1"
   },
   "inputWidgetPreferences": null,
   "language": "python",
   "notebookMetadata": {
    "mostRecentlyExecutedCommandWithImplicitDF": {
     "commandId": 267360430114881,
     "dataframes": [
      "_sqldf"
     ]
    },
    "pythonIndentUnit": 4
   },
   "notebookName": "MVP_Bases Auxiliares 2025-04-10 07:33:04",
   "widgets": {}
  }
 },
 "nbformat": 4,
 "nbformat_minor": 0
}